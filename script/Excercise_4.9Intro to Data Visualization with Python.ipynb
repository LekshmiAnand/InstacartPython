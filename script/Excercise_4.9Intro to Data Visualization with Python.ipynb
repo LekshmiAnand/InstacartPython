{
 "cells": [
  {
   "cell_type": "code",
   "execution_count": 1,
   "id": "cf3f9592",
   "metadata": {},
   "outputs": [],
   "source": [
    "import pandas as pd\n",
    "import numpy as np\n",
    "import os\n",
    "import matplotlib.pyplot as plt\n",
    "import seaborn as sns\n",
    "import scipy"
   ]
  },
  {
   "cell_type": "code",
   "execution_count": 4,
   "id": "3294c9b0",
   "metadata": {},
   "outputs": [],
   "source": [
    "#define path\n",
    "path =r'C:\\Users\\Administrator\\Desktop\\DataImmersion'"
   ]
  },
  {
   "cell_type": "code",
   "execution_count": 5,
   "id": "7c0b8266",
   "metadata": {},
   "outputs": [],
   "source": [
    "## Importing  orders_products_merged dataframe\n",
    "ords_prods_merge = pd.read_pickle(os.path.join(path,'chapter4','Prepared data', 'ords_prods_flag.pkl'))"
   ]
  },
  {
   "cell_type": "code",
   "execution_count": 5,
   "id": "ee34cb11",
   "metadata": {},
   "outputs": [
    {
     "data": {
      "text/plain": [
       "<AxesSubplot:>"
      ]
     },
     "execution_count": 5,
     "metadata": {},
     "output_type": "execute_result"
    },
    {
     "data": {
      "image/png": "[encoded data removed]",
      "text/plain": [
       "<Figure size 432x288 with 1 Axes>"
      ]
     },
     "metadata": {
      "needs_background": "light"
     },
     "output_type": "display_data"
    }
   ],
   "source": [
    "ords_prods_merge['orders_day_of_week'].value_counts().plot.bar()"
   ]
  },
  {
   "cell_type": "code",
   "execution_count": 6,
   "id": "ce3e3b6e",
   "metadata": {},
   "outputs": [
    {
     "data": {
      "text/plain": [
       "<AxesSubplot:>"
      ]
     },
     "execution_count": 6,
     "metadata": {},
     "output_type": "execute_result"
    },
    {
     "data": {
      "image/png": "[encoded data removed]",
      "text/plain": [
       "<Figure size 432x288 with 1 Axes>"
      ]
     },
     "metadata": {
      "needs_background": "light"
     },
     "output_type": "display_data"
    }
   ],
   "source": [
    "ords_prods_merge['orders_day_of_week'].value_counts().sort_index().plot.bar()"
   ]
  },
  {
   "cell_type": "code",
   "execution_count": 7,
   "id": "c72d73b5",
   "metadata": {},
   "outputs": [
    {
     "data": {
      "text/plain": [
       "0    6204090\n",
       "1    5660099\n",
       "2    4213729\n",
       "3    3840449\n",
       "4    3783716\n",
       "5    4205663\n",
       "6    4496415\n",
       "Name: orders_day_of_week, dtype: int64"
      ]
     },
     "execution_count": 7,
     "metadata": {},
     "output_type": "execute_result"
    }
   ],
   "source": [
    "ords_prods_merge['orders_day_of_week'].value_counts().sort_index()"
   ]
  },
  {
   "cell_type": "code",
   "execution_count": 7,
   "id": "adc93d92",
   "metadata": {},
   "outputs": [
    {
     "data": {
      "text/plain": [
       "<AxesSubplot:title={'center':'No of orders in each day of the week'}, xlabel=' Days', ylabel='Orders'>"
      ]
     },
     "execution_count": 7,
     "metadata": {},
     "output_type": "execute_result"
    },
    {
     "data": {
      "image/png": "[encoded data removed]",
      "text/plain": [
       "<Figure size 432x288 with 1 Axes>"
      ]
     },
     "metadata": {
      "needs_background": "light"
     },
     "output_type": "display_data"
    }
   ],
   "source": [
    "ords_prods_merge['orders_day_of_week'].value_counts().plot.bar(color=['purple','blue','green','yellow','orange','red','pink'],ylabel='Orders',xlabel= ' Days',title='No of orders in each day of the week')"
   ]
  },
  {
   "cell_type": "code",
   "execution_count": 11,
   "id": "152ecdae",
   "metadata": {},
   "outputs": [
    {
     "data": {
      "image/png": "[encoded data removed]",
      "text/plain": [
       "<Figure size 432x288 with 1 Axes>"
      ]
     },
     "metadata": {
      "needs_background": "light"
     },
     "output_type": "display_data"
    }
   ],
   "source": [
    "bar=ords_prods_merge['orders_day_of_week'].value_counts().plot.bar(color=['purple','blue','green','yellow','orange','red','pink'])"
   ]
  },
  {
   "cell_type": "code",
   "execution_count": 14,
   "id": "b978df69",
   "metadata": {},
   "outputs": [],
   "source": [
    "bar.figure.savefig(os.path.join(path, 'chapter4','Visualizations', 'bar_orders_dow.png'))"
   ]
  },
  {
   "cell_type": "code",
   "execution_count": 15,
   "id": "d49b4e39",
   "metadata": {},
   "outputs": [
    {
     "data": {
      "text/plain": [
       "<AxesSubplot:ylabel='Frequency'>"
      ]
     },
     "execution_count": 15,
     "metadata": {},
     "output_type": "execute_result"
    },
    {
     "data": {
      "image/png": "[encoded data removed]",
      "text/plain": [
       "<Figure size 432x288 with 1 Axes>"
      ]
     },
     "metadata": {
      "needs_background": "light"
     },
     "output_type": "display_data"
    }
   ],
   "source": [
    "ords_prods_merge['prices'].plot.hist(bins = 25)"
   ]
  },
  {
   "cell_type": "code",
   "execution_count": 17,
   "id": "3e4b192e",
   "metadata": {},
   "outputs": [
    {
     "data": {
      "text/plain": [
       "count    3.240416e+07\n",
       "mean     9.826461e+00\n",
       "std      1.741449e+02\n",
       "min      1.000000e+00\n",
       "25%      4.200000e+00\n",
       "50%      7.400000e+00\n",
       "75%      1.130000e+01\n",
       "max      1.490000e+04\n",
       "Name: prices, dtype: float64"
      ]
     },
     "execution_count": 17,
     "metadata": {},
     "output_type": "execute_result"
    }
   ],
   "source": [
    "ords_prods_merge['prices'].describe()"
   ]
  },
  {
   "cell_type": "code",
   "execution_count": 18,
   "id": "f8eb41c1",
   "metadata": {},
   "outputs": [
    {
     "data": {
      "text/plain": [
       "9.826460885770677"
      ]
     },
     "execution_count": 18,
     "metadata": {},
     "output_type": "execute_result"
    }
   ],
   "source": [
    "ords_prods_merge['prices'].mean()"
   ]
  },
  {
   "cell_type": "code",
   "execution_count": 19,
   "id": "7bced16a",
   "metadata": {},
   "outputs": [
    {
     "data": {
      "text/plain": [
       "7.4"
      ]
     },
     "execution_count": 19,
     "metadata": {},
     "output_type": "execute_result"
    }
   ],
   "source": [
    "ords_prods_merge['prices'].median()"
   ]
  },
  {
   "cell_type": "code",
   "execution_count": 20,
   "id": "07c5483d",
   "metadata": {},
   "outputs": [
    {
     "data": {
      "text/plain": [
       "14900.0"
      ]
     },
     "execution_count": 20,
     "metadata": {},
     "output_type": "execute_result"
    }
   ],
   "source": [
    "ords_prods_merge['prices'].max()"
   ]
  },
  {
   "cell_type": "code",
   "execution_count": 21,
   "id": "cb8b9507",
   "metadata": {},
   "outputs": [
    {
     "data": {
      "text/plain": [
       "<AxesSubplot:xlabel='prices', ylabel='prices'>"
      ]
     },
     "execution_count": 21,
     "metadata": {},
     "output_type": "execute_result"
    },
    {
     "data": {
      "image/png": "[encoded data removed]",
      "text/plain": [
       "<Figure size 432x288 with 1 Axes>"
      ]
     },
     "metadata": {
      "needs_background": "light"
     },
     "output_type": "display_data"
    }
   ],
   "source": [
    "sns.scatterplot(x = 'prices', y = 'prices',data = ords_prods_merge)"
   ]
  },
  {
   "cell_type": "code",
   "execution_count": 22,
   "id": "b06d3ee2",
   "metadata": {},
   "outputs": [
    {
     "data": {
      "text/html": [
       "<div>\n",
       "<style scoped>\n",
       "    .dataframe tbody tr th:only-of-type {\n",
       "        vertical-align: middle;\n",
       "    }\n",
       "\n",
       "    .dataframe tbody tr th {\n",
       "        vertical-align: top;\n",
       "    }\n",
       "\n",
       "    .dataframe thead th {\n",
       "        text-align: right;\n",
       "    }\n",
       "</style>\n",
       "<table border=\"1\" class=\"dataframe\">\n",
       "  <thead>\n",
       "    <tr style=\"text-align: right;\">\n",
       "      <th></th>\n",
       "      <th>order_id</th>\n",
       "      <th>user_id</th>\n",
       "      <th>order_number</th>\n",
       "      <th>orders_day_of_week</th>\n",
       "      <th>order_hour_of_day</th>\n",
       "      <th>days_since_prior_order</th>\n",
       "      <th>first_order</th>\n",
       "      <th>product_id</th>\n",
       "      <th>add_to_cart_order</th>\n",
       "      <th>reordered</th>\n",
       "      <th>...</th>\n",
       "      <th>price_range_loc</th>\n",
       "      <th>busiest_day</th>\n",
       "      <th>busiest_days</th>\n",
       "      <th>busiest_period_of_day</th>\n",
       "      <th>max_order</th>\n",
       "      <th>loyalty_flag</th>\n",
       "      <th>avg_price</th>\n",
       "      <th>spender_flag</th>\n",
       "      <th>order_frequency</th>\n",
       "      <th>frequency_flag</th>\n",
       "    </tr>\n",
       "  </thead>\n",
       "  <tbody>\n",
       "    <tr>\n",
       "      <th>10030345</th>\n",
       "      <td>912404</td>\n",
       "      <td>17</td>\n",
       "      <td>12</td>\n",
       "      <td>2</td>\n",
       "      <td>14</td>\n",
       "      <td>5.0</td>\n",
       "      <td>False</td>\n",
       "      <td>21553</td>\n",
       "      <td>5</td>\n",
       "      <td>0</td>\n",
       "      <td>...</td>\n",
       "      <td>High-range product</td>\n",
       "      <td>Regularly busy</td>\n",
       "      <td>Regularly busy</td>\n",
       "      <td>Most orders</td>\n",
       "      <td>40</td>\n",
       "      <td>Regular customer</td>\n",
       "      <td>108.648299</td>\n",
       "      <td>High spender</td>\n",
       "      <td>5.0</td>\n",
       "      <td>Frequent customer</td>\n",
       "    </tr>\n",
       "    <tr>\n",
       "      <th>10030346</th>\n",
       "      <td>603376</td>\n",
       "      <td>17</td>\n",
       "      <td>22</td>\n",
       "      <td>6</td>\n",
       "      <td>16</td>\n",
       "      <td>4.0</td>\n",
       "      <td>False</td>\n",
       "      <td>21553</td>\n",
       "      <td>3</td>\n",
       "      <td>1</td>\n",
       "      <td>...</td>\n",
       "      <td>High-range product</td>\n",
       "      <td>Regularly busy</td>\n",
       "      <td>Regularly busy</td>\n",
       "      <td>Most orders</td>\n",
       "      <td>40</td>\n",
       "      <td>Regular customer</td>\n",
       "      <td>108.648299</td>\n",
       "      <td>High spender</td>\n",
       "      <td>5.0</td>\n",
       "      <td>Frequent customer</td>\n",
       "    </tr>\n",
       "    <tr>\n",
       "      <th>10030347</th>\n",
       "      <td>3264360</td>\n",
       "      <td>135</td>\n",
       "      <td>2</td>\n",
       "      <td>2</td>\n",
       "      <td>21</td>\n",
       "      <td>13.0</td>\n",
       "      <td>False</td>\n",
       "      <td>21553</td>\n",
       "      <td>6</td>\n",
       "      <td>0</td>\n",
       "      <td>...</td>\n",
       "      <td>High-range product</td>\n",
       "      <td>Regularly busy</td>\n",
       "      <td>Regularly busy</td>\n",
       "      <td>Average orders</td>\n",
       "      <td>4</td>\n",
       "      <td>New customer</td>\n",
       "      <td>1154.792308</td>\n",
       "      <td>High spender</td>\n",
       "      <td>12.0</td>\n",
       "      <td>Regular customer</td>\n",
       "    </tr>\n",
       "    <tr>\n",
       "      <th>10030348</th>\n",
       "      <td>892534</td>\n",
       "      <td>135</td>\n",
       "      <td>3</td>\n",
       "      <td>0</td>\n",
       "      <td>8</td>\n",
       "      <td>12.0</td>\n",
       "      <td>False</td>\n",
       "      <td>21553</td>\n",
       "      <td>3</td>\n",
       "      <td>1</td>\n",
       "      <td>...</td>\n",
       "      <td>High-range product</td>\n",
       "      <td>Busiest day</td>\n",
       "      <td>Busiest days</td>\n",
       "      <td>Average orders</td>\n",
       "      <td>4</td>\n",
       "      <td>New customer</td>\n",
       "      <td>1154.792308</td>\n",
       "      <td>High spender</td>\n",
       "      <td>12.0</td>\n",
       "      <td>Regular customer</td>\n",
       "    </tr>\n",
       "    <tr>\n",
       "      <th>10030349</th>\n",
       "      <td>229704</td>\n",
       "      <td>342</td>\n",
       "      <td>8</td>\n",
       "      <td>1</td>\n",
       "      <td>19</td>\n",
       "      <td>30.0</td>\n",
       "      <td>False</td>\n",
       "      <td>21553</td>\n",
       "      <td>9</td>\n",
       "      <td>0</td>\n",
       "      <td>...</td>\n",
       "      <td>High-range product</td>\n",
       "      <td>Regularly busy</td>\n",
       "      <td>Busiest days</td>\n",
       "      <td>Average orders</td>\n",
       "      <td>16</td>\n",
       "      <td>Regular customer</td>\n",
       "      <td>114.426619</td>\n",
       "      <td>High spender</td>\n",
       "      <td>23.0</td>\n",
       "      <td>Non-frequent customer</td>\n",
       "    </tr>\n",
       "    <tr>\n",
       "      <th>...</th>\n",
       "      <td>...</td>\n",
       "      <td>...</td>\n",
       "      <td>...</td>\n",
       "      <td>...</td>\n",
       "      <td>...</td>\n",
       "      <td>...</td>\n",
       "      <td>...</td>\n",
       "      <td>...</td>\n",
       "      <td>...</td>\n",
       "      <td>...</td>\n",
       "      <td>...</td>\n",
       "      <td>...</td>\n",
       "      <td>...</td>\n",
       "      <td>...</td>\n",
       "      <td>...</td>\n",
       "      <td>...</td>\n",
       "      <td>...</td>\n",
       "      <td>...</td>\n",
       "      <td>...</td>\n",
       "      <td>...</td>\n",
       "      <td>...</td>\n",
       "    </tr>\n",
       "    <tr>\n",
       "      <th>10034769</th>\n",
       "      <td>3172853</td>\n",
       "      <td>205650</td>\n",
       "      <td>18</td>\n",
       "      <td>1</td>\n",
       "      <td>9</td>\n",
       "      <td>7.0</td>\n",
       "      <td>False</td>\n",
       "      <td>21553</td>\n",
       "      <td>17</td>\n",
       "      <td>1</td>\n",
       "      <td>...</td>\n",
       "      <td>High-range product</td>\n",
       "      <td>Regularly busy</td>\n",
       "      <td>Busiest days</td>\n",
       "      <td>Most orders</td>\n",
       "      <td>25</td>\n",
       "      <td>Regular customer</td>\n",
       "      <td>351.141618</td>\n",
       "      <td>High spender</td>\n",
       "      <td>6.0</td>\n",
       "      <td>Frequent customer</td>\n",
       "    </tr>\n",
       "    <tr>\n",
       "      <th>10034770</th>\n",
       "      <td>2504315</td>\n",
       "      <td>205818</td>\n",
       "      <td>3</td>\n",
       "      <td>5</td>\n",
       "      <td>15</td>\n",
       "      <td>3.0</td>\n",
       "      <td>False</td>\n",
       "      <td>21553</td>\n",
       "      <td>13</td>\n",
       "      <td>0</td>\n",
       "      <td>...</td>\n",
       "      <td>High-range product</td>\n",
       "      <td>Regularly busy</td>\n",
       "      <td>Regularly busy</td>\n",
       "      <td>Most orders</td>\n",
       "      <td>25</td>\n",
       "      <td>Regular customer</td>\n",
       "      <td>170.073770</td>\n",
       "      <td>High spender</td>\n",
       "      <td>13.0</td>\n",
       "      <td>Regular customer</td>\n",
       "    </tr>\n",
       "    <tr>\n",
       "      <th>10034771</th>\n",
       "      <td>1108388</td>\n",
       "      <td>205818</td>\n",
       "      <td>5</td>\n",
       "      <td>4</td>\n",
       "      <td>5</td>\n",
       "      <td>1.0</td>\n",
       "      <td>False</td>\n",
       "      <td>21553</td>\n",
       "      <td>5</td>\n",
       "      <td>1</td>\n",
       "      <td>...</td>\n",
       "      <td>High-range product</td>\n",
       "      <td>Least busy</td>\n",
       "      <td>Least busy</td>\n",
       "      <td>Fewest orders</td>\n",
       "      <td>25</td>\n",
       "      <td>Regular customer</td>\n",
       "      <td>170.073770</td>\n",
       "      <td>High spender</td>\n",
       "      <td>13.0</td>\n",
       "      <td>Regular customer</td>\n",
       "    </tr>\n",
       "    <tr>\n",
       "      <th>10034772</th>\n",
       "      <td>1916142</td>\n",
       "      <td>206049</td>\n",
       "      <td>1</td>\n",
       "      <td>2</td>\n",
       "      <td>17</td>\n",
       "      <td>NaN</td>\n",
       "      <td>True</td>\n",
       "      <td>21553</td>\n",
       "      <td>2</td>\n",
       "      <td>0</td>\n",
       "      <td>...</td>\n",
       "      <td>High-range product</td>\n",
       "      <td>Regularly busy</td>\n",
       "      <td>Regularly busy</td>\n",
       "      <td>Most orders</td>\n",
       "      <td>5</td>\n",
       "      <td>New customer</td>\n",
       "      <td>938.031250</td>\n",
       "      <td>High spender</td>\n",
       "      <td>7.0</td>\n",
       "      <td>Frequent customer</td>\n",
       "    </tr>\n",
       "    <tr>\n",
       "      <th>10034773</th>\n",
       "      <td>379732</td>\n",
       "      <td>206049</td>\n",
       "      <td>4</td>\n",
       "      <td>1</td>\n",
       "      <td>14</td>\n",
       "      <td>5.0</td>\n",
       "      <td>False</td>\n",
       "      <td>21553</td>\n",
       "      <td>4</td>\n",
       "      <td>1</td>\n",
       "      <td>...</td>\n",
       "      <td>High-range product</td>\n",
       "      <td>Regularly busy</td>\n",
       "      <td>Busiest days</td>\n",
       "      <td>Most orders</td>\n",
       "      <td>5</td>\n",
       "      <td>New customer</td>\n",
       "      <td>938.031250</td>\n",
       "      <td>High spender</td>\n",
       "      <td>7.0</td>\n",
       "      <td>Frequent customer</td>\n",
       "    </tr>\n",
       "  </tbody>\n",
       "</table>\n",
       "<p>4429 rows × 25 columns</p>\n",
       "</div>"
      ],
      "text/plain": [
       "          order_id  user_id  order_number  orders_day_of_week  \\\n",
       "10030345    912404       17            12                   2   \n",
       "10030346    603376       17            22                   6   \n",
       "10030347   3264360      135             2                   2   \n",
       "10030348    892534      135             3                   0   \n",
       "10030349    229704      342             8                   1   \n",
       "...            ...      ...           ...                 ...   \n",
       "10034769   3172853   205650            18                   1   \n",
       "10034770   2504315   205818             3                   5   \n",
       "10034771   1108388   205818             5                   4   \n",
       "10034772   1916142   206049             1                   2   \n",
       "10034773    379732   206049             4                   1   \n",
       "\n",
       "          order_hour_of_day  days_since_prior_order  first_order  product_id  \\\n",
       "10030345                 14                     5.0        False       21553   \n",
       "10030346                 16                     4.0        False       21553   \n",
       "10030347                 21                    13.0        False       21553   \n",
       "10030348                  8                    12.0        False       21553   \n",
       "10030349                 19                    30.0        False       21553   \n",
       "...                     ...                     ...          ...         ...   \n",
       "10034769                  9                     7.0        False       21553   \n",
       "10034770                 15                     3.0        False       21553   \n",
       "10034771                  5                     1.0        False       21553   \n",
       "10034772                 17                     NaN         True       21553   \n",
       "10034773                 14                     5.0        False       21553   \n",
       "\n",
       "          add_to_cart_order  reordered  ...     price_range_loc  \\\n",
       "10030345                  5          0  ...  High-range product   \n",
       "10030346                  3          1  ...  High-range product   \n",
       "10030347                  6          0  ...  High-range product   \n",
       "10030348                  3          1  ...  High-range product   \n",
       "10030349                  9          0  ...  High-range product   \n",
       "...                     ...        ...  ...                 ...   \n",
       "10034769                 17          1  ...  High-range product   \n",
       "10034770                 13          0  ...  High-range product   \n",
       "10034771                  5          1  ...  High-range product   \n",
       "10034772                  2          0  ...  High-range product   \n",
       "10034773                  4          1  ...  High-range product   \n",
       "\n",
       "             busiest_day    busiest_days  busiest_period_of_day max_order  \\\n",
       "10030345  Regularly busy  Regularly busy            Most orders        40   \n",
       "10030346  Regularly busy  Regularly busy            Most orders        40   \n",
       "10030347  Regularly busy  Regularly busy         Average orders         4   \n",
       "10030348     Busiest day    Busiest days         Average orders         4   \n",
       "10030349  Regularly busy    Busiest days         Average orders        16   \n",
       "...                  ...             ...                    ...       ...   \n",
       "10034769  Regularly busy    Busiest days            Most orders        25   \n",
       "10034770  Regularly busy  Regularly busy            Most orders        25   \n",
       "10034771      Least busy      Least busy          Fewest orders        25   \n",
       "10034772  Regularly busy  Regularly busy            Most orders         5   \n",
       "10034773  Regularly busy    Busiest days            Most orders         5   \n",
       "\n",
       "              loyalty_flag    avg_price  spender_flag order_frequency  \\\n",
       "10030345  Regular customer   108.648299  High spender             5.0   \n",
       "10030346  Regular customer   108.648299  High spender             5.0   \n",
       "10030347      New customer  1154.792308  High spender            12.0   \n",
       "10030348      New customer  1154.792308  High spender            12.0   \n",
       "10030349  Regular customer   114.426619  High spender            23.0   \n",
       "...                    ...          ...           ...             ...   \n",
       "10034769  Regular customer   351.141618  High spender             6.0   \n",
       "10034770  Regular customer   170.073770  High spender            13.0   \n",
       "10034771  Regular customer   170.073770  High spender            13.0   \n",
       "10034772      New customer   938.031250  High spender             7.0   \n",
       "10034773      New customer   938.031250  High spender             7.0   \n",
       "\n",
       "                 frequency_flag  \n",
       "10030345      Frequent customer  \n",
       "10030346      Frequent customer  \n",
       "10030347       Regular customer  \n",
       "10030348       Regular customer  \n",
       "10030349  Non-frequent customer  \n",
       "...                         ...  \n",
       "10034769      Frequent customer  \n",
       "10034770       Regular customer  \n",
       "10034771       Regular customer  \n",
       "10034772      Frequent customer  \n",
       "10034773      Frequent customer  \n",
       "\n",
       "[4429 rows x 25 columns]"
      ]
     },
     "execution_count": 22,
     "metadata": {},
     "output_type": "execute_result"
    }
   ],
   "source": [
    "ords_prods_merge.loc[ords_prods_merge['prices'] > 100]"
   ]
  },
  {
   "cell_type": "code",
   "execution_count": 23,
   "id": "b8b10f48",
   "metadata": {},
   "outputs": [],
   "source": [
    "ords_prods_merge.loc[ords_prods_merge['prices'] >100, 'prices'] = np.nan"
   ]
  },
  {
   "cell_type": "code",
   "execution_count": 24,
   "id": "208b2006",
   "metadata": {},
   "outputs": [
    {
     "data": {
      "text/plain": [
       "25.0"
      ]
     },
     "execution_count": 24,
     "metadata": {},
     "output_type": "execute_result"
    }
   ],
   "source": [
    "ords_prods_merge['prices'].max()"
   ]
  },
  {
   "cell_type": "code",
   "execution_count": 25,
   "id": "ed797396",
   "metadata": {},
   "outputs": [
    {
     "data": {
      "image/png": "[encoded data removed]",
      "text/plain": [
       "<Figure size 432x288 with 1 Axes>"
      ]
     },
     "metadata": {
      "needs_background": "light"
     },
     "output_type": "display_data"
    }
   ],
   "source": [
    "hist= ords_prods_merge['prices'].plot.hist(bins = 25)"
   ]
  },
  {
   "cell_type": "code",
   "execution_count": 26,
   "id": "0ad708a7",
   "metadata": {},
   "outputs": [
    {
     "data": {
      "image/png": "[encoded data removed]",
      "text/plain": [
       "<Figure size 432x288 with 1 Axes>"
      ]
     },
     "metadata": {
      "needs_background": "light"
     },
     "output_type": "display_data"
    }
   ],
   "source": [
    "hist= ords_prods_merge['prices'].plot.hist(bins = 70)"
   ]
  },
  {
   "cell_type": "code",
   "execution_count": 27,
   "id": "198daaff",
   "metadata": {},
   "outputs": [],
   "source": [
    "hist.figure.savefig(os.path.join(path, 'chapter4','Visualizations', 'hist_prices.png'))"
   ]
  },
  {
   "cell_type": "code",
   "execution_count": 28,
   "id": "c5af831e",
   "metadata": {},
   "outputs": [
    {
     "data": {
      "text/plain": [
       "32404161"
      ]
     },
     "execution_count": 28,
     "metadata": {},
     "output_type": "execute_result"
    }
   ],
   "source": [
    "len(ords_prods_merge)"
   ]
  },
  {
   "cell_type": "code",
   "execution_count": 29,
   "id": "f470b6a2",
   "metadata": {},
   "outputs": [],
   "source": [
    "np.random.seed(4)\n"
   ]
  },
  {
   "cell_type": "code",
   "execution_count": 30,
   "id": "bebb7297",
   "metadata": {},
   "outputs": [],
   "source": [
    "dev = np.random.rand(len(ords_prods_merge)) <= 0.7"
   ]
  },
  {
   "cell_type": "code",
   "execution_count": 31,
   "id": "10ce214e",
   "metadata": {},
   "outputs": [],
   "source": [
    "big = ords_prods_merge[dev]"
   ]
  },
  {
   "cell_type": "code",
   "execution_count": 32,
   "id": "a3f760d1",
   "metadata": {},
   "outputs": [],
   "source": [
    "small = ords_prods_merge[~dev] "
   ]
  },
  {
   "cell_type": "code",
   "execution_count": 33,
   "id": "11af6098",
   "metadata": {},
   "outputs": [
    {
     "data": {
      "text/plain": [
       "32404161"
      ]
     },
     "execution_count": 33,
     "metadata": {},
     "output_type": "execute_result"
    }
   ],
   "source": [
    "len(big) +len(small)"
   ]
  },
  {
   "cell_type": "code",
   "execution_count": 35,
   "id": "cf0d3ad5",
   "metadata": {},
   "outputs": [],
   "source": [
    "\n",
    "df_2 = small[['orders_day_of_week','prices']]"
   ]
  },
  {
   "cell_type": "code",
   "execution_count": 37,
   "id": "fd24860b",
   "metadata": {},
   "outputs": [
    {
     "data": {
      "image/png": "[encoded data removed]",
      "text/plain": [
       "<Figure size 432x288 with 1 Axes>"
      ]
     },
     "metadata": {
      "needs_background": "light"
     },
     "output_type": "display_data"
    }
   ],
   "source": [
    "line = sns.lineplot(data = df_2, x = 'orders_day_of_week',y = 'prices')"
   ]
  },
  {
   "cell_type": "code",
   "execution_count": null,
   "id": "811177f1",
   "metadata": {},
   "outputs": [],
   "source": []
  }
 ],
 "metadata": {
  "kernelspec": {
   "display_name": "Python 3",
   "language": "python",
   "name": "python3"
  },
  "language_info": {
   "codemirror_mode": {
    "name": "ipython",
    "version": 3
   },
   "file_extension": ".py",
   "mimetype": "text/x-python",
   "name": "python",
   "nbconvert_exporter": "python",
   "pygments_lexer": "ipython3",
   "version": "3.8.8"
  }
 },
 "nbformat": 4,
 "nbformat_minor": 5
}
