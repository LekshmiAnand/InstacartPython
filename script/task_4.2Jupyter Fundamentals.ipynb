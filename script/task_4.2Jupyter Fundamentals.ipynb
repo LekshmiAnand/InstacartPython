{
 "cells": [
  {
   "cell_type": "code",
   "execution_count": 1,
   "id": "faeb87ba",
   "metadata": {},
   "outputs": [],
   "source": [
    "#importing libraries\n",
    "import pandas as pd\n",
    "import numpy as np\n",
    "import os"
   ]
  },
  {
   "cell_type": "code",
   "execution_count": 3,
   "id": "b733c94f",
   "metadata": {},
   "outputs": [
    {
     "data": {
      "text/plain": [
       "100"
      ]
     },
     "execution_count": 3,
     "metadata": {},
     "output_type": "execute_result"
    }
   ],
   "source": [
    "#working with different datatypes\n",
    "\n",
    "#outputting 100 in 3 ways\n",
    "\n",
    "x=59\n",
    "y=41\n",
    "x+y"
   ]
  },
  {
   "cell_type": "code",
   "execution_count": 4,
   "id": "dc8153d1",
   "metadata": {},
   "outputs": [
    {
     "data": {
      "text/plain": [
       "100"
      ]
     },
     "execution_count": 4,
     "metadata": {},
     "output_type": "execute_result"
    }
   ],
   "source": [
    "a=158\n",
    "b=58\n",
    "a-b\n"
   ]
  },
  {
   "cell_type": "code",
   "execution_count": 7,
   "id": "7ebca319",
   "metadata": {},
   "outputs": [
    {
     "name": "stdout",
     "output_type": "stream",
     "text": [
      "100\n"
     ]
    }
   ],
   "source": [
    "z=33\n",
    "z+=67\n",
    "print(z)"
   ]
  },
  {
   "cell_type": "code",
   "execution_count": 10,
   "id": "56717a53",
   "metadata": {},
   "outputs": [
    {
     "data": {
      "text/plain": [
       "7.148619957537155"
      ]
     },
     "execution_count": 10,
     "metadata": {},
     "output_type": "execute_result"
    }
   ],
   "source": [
    "c=33.67\n",
    "d=4.71\n",
    "c/d"
   ]
  },
  {
   "cell_type": "code",
   "execution_count": 11,
   "id": "3fd280d6",
   "metadata": {},
   "outputs": [
    {
     "data": {
      "text/plain": [
       "'coffeecup'"
      ]
     },
     "execution_count": 11,
     "metadata": {},
     "output_type": "execute_result"
    }
   ],
   "source": [
    "f='coffee'\n",
    "g='cup'\n",
    "f+g"
   ]
  },
  {
   "cell_type": "code",
   "execution_count": 13,
   "id": "d2a7ac2f",
   "metadata": {},
   "outputs": [
    {
     "data": {
      "text/plain": [
       "'It is Autumn.  The leaves are shedding. '"
      ]
     },
     "execution_count": 13,
     "metadata": {},
     "output_type": "execute_result"
    }
   ],
   "source": [
    " h='It ' \n",
    "i= 'is '\n",
    "j='Autumn. '\n",
    "k=' The '\n",
    "l='leaves '\n",
    "m='are '\n",
    "n='shedding. '\n",
    "h+i+j+k+l+m+n"
   ]
  },
  {
   "cell_type": "code",
   "execution_count": 15,
   "id": "51759adb",
   "metadata": {},
   "outputs": [
    {
     "data": {
      "text/plain": [
       "'It It It It It It It It It It It It It It It It It It It It It It It It It It It It It It It It It It It It It It It It It It It It It It It It It It It It It It It It It It It It It It It It It It It It It It It It It It It It It It It It It It It It It It It It It It It It It It It It It It It It '"
      ]
     },
     "execution_count": 15,
     "metadata": {},
     "output_type": "execute_result"
    }
   ],
   "source": [
    "h*100"
   ]
  },
  {
   "cell_type": "code",
   "execution_count": null,
   "id": "b2e44458",
   "metadata": {},
   "outputs": [],
   "source": []
  }
 ],
 "metadata": {
  "kernelspec": {
   "display_name": "Python 3",
   "language": "python",
   "name": "python3"
  },
  "language_info": {
   "codemirror_mode": {
    "name": "ipython",
    "version": 3
   },
   "file_extension": ".py",
   "mimetype": "text/x-python",
   "name": "python",
   "nbconvert_exporter": "python",
   "pygments_lexer": "ipython3",
   "version": "3.8.8"
  }
 },
 "nbformat": 4,
 "nbformat_minor": 5
}
