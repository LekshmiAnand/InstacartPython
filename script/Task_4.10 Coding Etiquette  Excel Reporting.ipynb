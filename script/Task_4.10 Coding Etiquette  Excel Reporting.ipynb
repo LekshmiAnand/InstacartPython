{
 "cells": [
  {
   "cell_type": "markdown",
   "id": "4cb8c492",
   "metadata": {},
   "source": [
    "# Import Libraries"
   ]
  },
  {
   "cell_type": "code",
   "execution_count": 1,
   "id": "b79d9fc5",
   "metadata": {},
   "outputs": [],
   "source": [
    "import pandas as pd\n",
    "import numpy as np\n",
    "import os\n",
    "import matplotlib.pyplot as plt\n",
    "import seaborn as sns\n",
    "import scipy"
   ]
  },
  {
   "cell_type": "markdown",
   "id": "3166ed43",
   "metadata": {},
   "source": [
    "#  Importing Dataset"
   ]
  },
  {
   "cell_type": "code",
   "execution_count": 2,
   "id": "4853c37b",
   "metadata": {},
   "outputs": [],
   "source": [
    "# Define path\n",
    "path = r'C:\\Users\\Administrator\\Desktop\\DataImmersion'"
   ]
  },
  {
   "cell_type": "code",
   "execution_count": 3,
   "id": "5cf51b01",
   "metadata": {},
   "outputs": [],
   "source": [
    "## Importing  latest merged dataset\n",
    "df_final_data = pd.read_pickle(os.path.join(path, 'chapter4', 'Prepared data', 'Final_data_Task9_Part1.pkl'))"
   ]
  },
  {
   "cell_type": "code",
   "execution_count": 4,
   "id": "f7786c54",
   "metadata": {},
   "outputs": [
    {
     "data": {
      "text/plain": [
       "(32404859, 35)"
      ]
     },
     "execution_count": 4,
     "metadata": {},
     "output_type": "execute_result"
    }
   ],
   "source": [
    "df_final_data.shape"
   ]
  },
  {
   "cell_type": "code",
   "execution_count": 5,
   "id": "f7c9d905",
   "metadata": {},
   "outputs": [
    {
     "data": {
      "text/html": [
       "<div>\n",
       "<style scoped>\n",
       "    .dataframe tbody tr th:only-of-type {\n",
       "        vertical-align: middle;\n",
       "    }\n",
       "\n",
       "    .dataframe tbody tr th {\n",
       "        vertical-align: top;\n",
       "    }\n",
       "\n",
       "    .dataframe thead th {\n",
       "        text-align: right;\n",
       "    }\n",
       "</style>\n",
       "<table border=\"1\" class=\"dataframe\">\n",
       "  <thead>\n",
       "    <tr style=\"text-align: right;\">\n",
       "      <th></th>\n",
       "      <th>product_id</th>\n",
       "      <th>product_name</th>\n",
       "      <th>aisle_id</th>\n",
       "      <th>department_id</th>\n",
       "      <th>prices</th>\n",
       "      <th>order_id</th>\n",
       "      <th>user_id</th>\n",
       "      <th>order_number</th>\n",
       "      <th>orders_day_of_week</th>\n",
       "      <th>order_hour_of_day</th>\n",
       "      <th>...</th>\n",
       "      <th>Surname</th>\n",
       "      <th>Gender</th>\n",
       "      <th>State</th>\n",
       "      <th>Age</th>\n",
       "      <th>date_joined</th>\n",
       "      <th>no_of_dependants</th>\n",
       "      <th>family_status</th>\n",
       "      <th>income</th>\n",
       "      <th>STATE</th>\n",
       "      <th>_merge</th>\n",
       "    </tr>\n",
       "  </thead>\n",
       "  <tbody>\n",
       "    <tr>\n",
       "      <th>0</th>\n",
       "      <td>1</td>\n",
       "      <td>Chocolate Sandwich Cookies</td>\n",
       "      <td>61</td>\n",
       "      <td>19</td>\n",
       "      <td>5</td>\n",
       "      <td>3139998</td>\n",
       "      <td>138</td>\n",
       "      <td>28</td>\n",
       "      <td>6</td>\n",
       "      <td>11</td>\n",
       "      <td>...</td>\n",
       "      <td>Cox</td>\n",
       "      <td>Male</td>\n",
       "      <td>Minnesota</td>\n",
       "      <td>81</td>\n",
       "      <td>8/1/2019</td>\n",
       "      <td>1</td>\n",
       "      <td>married</td>\n",
       "      <td>49620</td>\n",
       "      <td>Minnesota</td>\n",
       "      <td>both</td>\n",
       "    </tr>\n",
       "    <tr>\n",
       "      <th>1</th>\n",
       "      <td>1</td>\n",
       "      <td>Chocolate Sandwich Cookies</td>\n",
       "      <td>61</td>\n",
       "      <td>19</td>\n",
       "      <td>5</td>\n",
       "      <td>1977647</td>\n",
       "      <td>138</td>\n",
       "      <td>30</td>\n",
       "      <td>6</td>\n",
       "      <td>17</td>\n",
       "      <td>...</td>\n",
       "      <td>Cox</td>\n",
       "      <td>Male</td>\n",
       "      <td>Minnesota</td>\n",
       "      <td>81</td>\n",
       "      <td>8/1/2019</td>\n",
       "      <td>1</td>\n",
       "      <td>married</td>\n",
       "      <td>49620</td>\n",
       "      <td>Minnesota</td>\n",
       "      <td>both</td>\n",
       "    </tr>\n",
       "    <tr>\n",
       "      <th>2</th>\n",
       "      <td>907</td>\n",
       "      <td>Premium Sliced Bacon</td>\n",
       "      <td>106</td>\n",
       "      <td>12</td>\n",
       "      <td>20</td>\n",
       "      <td>3160996</td>\n",
       "      <td>138</td>\n",
       "      <td>1</td>\n",
       "      <td>5</td>\n",
       "      <td>13</td>\n",
       "      <td>...</td>\n",
       "      <td>Cox</td>\n",
       "      <td>Male</td>\n",
       "      <td>Minnesota</td>\n",
       "      <td>81</td>\n",
       "      <td>8/1/2019</td>\n",
       "      <td>1</td>\n",
       "      <td>married</td>\n",
       "      <td>49620</td>\n",
       "      <td>Minnesota</td>\n",
       "      <td>both</td>\n",
       "    </tr>\n",
       "    <tr>\n",
       "      <th>3</th>\n",
       "      <td>907</td>\n",
       "      <td>Premium Sliced Bacon</td>\n",
       "      <td>106</td>\n",
       "      <td>12</td>\n",
       "      <td>20</td>\n",
       "      <td>2254091</td>\n",
       "      <td>138</td>\n",
       "      <td>10</td>\n",
       "      <td>5</td>\n",
       "      <td>14</td>\n",
       "      <td>...</td>\n",
       "      <td>Cox</td>\n",
       "      <td>Male</td>\n",
       "      <td>Minnesota</td>\n",
       "      <td>81</td>\n",
       "      <td>8/1/2019</td>\n",
       "      <td>1</td>\n",
       "      <td>married</td>\n",
       "      <td>49620</td>\n",
       "      <td>Minnesota</td>\n",
       "      <td>both</td>\n",
       "    </tr>\n",
       "    <tr>\n",
       "      <th>4</th>\n",
       "      <td>1000</td>\n",
       "      <td>Apricots</td>\n",
       "      <td>18</td>\n",
       "      <td>10</td>\n",
       "      <td>12</td>\n",
       "      <td>505689</td>\n",
       "      <td>138</td>\n",
       "      <td>9</td>\n",
       "      <td>6</td>\n",
       "      <td>12</td>\n",
       "      <td>...</td>\n",
       "      <td>Cox</td>\n",
       "      <td>Male</td>\n",
       "      <td>Minnesota</td>\n",
       "      <td>81</td>\n",
       "      <td>8/1/2019</td>\n",
       "      <td>1</td>\n",
       "      <td>married</td>\n",
       "      <td>49620</td>\n",
       "      <td>Minnesota</td>\n",
       "      <td>both</td>\n",
       "    </tr>\n",
       "  </tbody>\n",
       "</table>\n",
       "<p>5 rows × 35 columns</p>\n",
       "</div>"
      ],
      "text/plain": [
       "   product_id                product_name  aisle_id  department_id  prices  \\\n",
       "0           1  Chocolate Sandwich Cookies        61             19       5   \n",
       "1           1  Chocolate Sandwich Cookies        61             19       5   \n",
       "2         907        Premium Sliced Bacon       106             12      20   \n",
       "3         907        Premium Sliced Bacon       106             12      20   \n",
       "4        1000                    Apricots        18             10      12   \n",
       "\n",
       "   order_id  user_id  order_number  orders_day_of_week  order_hour_of_day  \\\n",
       "0   3139998      138            28                   6                 11   \n",
       "1   1977647      138            30                   6                 17   \n",
       "2   3160996      138             1                   5                 13   \n",
       "3   2254091      138            10                   5                 14   \n",
       "4    505689      138             9                   6                 12   \n",
       "\n",
       "   ...  Surname  Gender      State  Age date_joined no_of_dependants  \\\n",
       "0  ...      Cox    Male  Minnesota   81    8/1/2019                1   \n",
       "1  ...      Cox    Male  Minnesota   81    8/1/2019                1   \n",
       "2  ...      Cox    Male  Minnesota   81    8/1/2019                1   \n",
       "3  ...      Cox    Male  Minnesota   81    8/1/2019                1   \n",
       "4  ...      Cox    Male  Minnesota   81    8/1/2019                1   \n",
       "\n",
       "  family_status income      STATE _merge  \n",
       "0       married  49620  Minnesota   both  \n",
       "1       married  49620  Minnesota   both  \n",
       "2       married  49620  Minnesota   both  \n",
       "3       married  49620  Minnesota   both  \n",
       "4       married  49620  Minnesota   both  \n",
       "\n",
       "[5 rows x 35 columns]"
      ]
     },
     "execution_count": 5,
     "metadata": {},
     "output_type": "execute_result"
    }
   ],
   "source": [
    "df_final_data.head()"
   ]
  },
  {
   "cell_type": "markdown",
   "id": "24013860",
   "metadata": {},
   "source": [
    " # Security Implication"
   ]
  },
  {
   "cell_type": "code",
   "execution_count": 6,
   "id": "6c9d0540",
   "metadata": {},
   "outputs": [
    {
     "data": {
      "text/plain": [
       "Index(['product_id', 'product_name', 'aisle_id', 'department_id', 'prices',\n",
       "       'order_id', 'user_id', 'order_number', 'orders_day_of_week',\n",
       "       'order_hour_of_day', 'days_since_prior_order', 'first_order',\n",
       "       'add_to_cart_order', 'reordered', 'price_range_loc', 'busiest_day',\n",
       "       'busiest_days', 'busiest_period_of_day', 'max_order', 'loyalty_flag',\n",
       "       'avg_price', 'spender_flag', 'order_frequency', 'frequency_flag',\n",
       "       'First_name', 'Surname', 'Gender', 'State', 'Age', 'date_joined',\n",
       "       'no_of_dependants', 'family_status', 'income', 'STATE', '_merge'],\n",
       "      dtype='object')"
      ]
     },
     "execution_count": 6,
     "metadata": {},
     "output_type": "execute_result"
    }
   ],
   "source": [
    "df_final_data.columns"
   ]
  },
  {
   "cell_type": "markdown",
   "id": "ae52cc4f",
   "metadata": {},
   "source": [
    "I think 'First_name'and 'Surname'columns contain personally identifiable information (PII).  If these columns are not necessary for analysis, they can be removed after discussing with client or seniors."
   ]
  },
  {
   "cell_type": "markdown",
   "id": "993eae1d",
   "metadata": {},
   "source": [
    "# Customer behavior in different Geographic areas"
   ]
  },
  {
   "cell_type": "code",
   "execution_count": 7,
   "id": "18acd5dd",
   "metadata": {},
   "outputs": [
    {
     "data": {
      "text/plain": [
       "Pennsylvania            667082\n",
       "California              659783\n",
       "Rhode Island            656913\n",
       "Georgia                 656389\n",
       "New Mexico              654494\n",
       "Arizona                 653964\n",
       "North Carolina          651900\n",
       "Oklahoma                651739\n",
       "Alaska                  648495\n",
       "Minnesota               647825\n",
       "Massachusetts           646358\n",
       "Wyoming                 644255\n",
       "Virginia                641421\n",
       "Missouri                640732\n",
       "Texas                   640394\n",
       "Colorado                639280\n",
       "Maine                   638583\n",
       "North Dakota            638491\n",
       "Alabama                 638003\n",
       "Kansas                  637538\n",
       "Louisiana               637482\n",
       "Delaware                637024\n",
       "South Carolina          636754\n",
       "Oregon                  636425\n",
       "Arkansas                636144\n",
       "Nevada                  636139\n",
       "New York                635983\n",
       "Montana                 635265\n",
       "South Dakota            633772\n",
       "Illinois                633024\n",
       "Hawaii                  632901\n",
       "Washington              632852\n",
       "Mississippi             632675\n",
       "Kentucky                632490\n",
       "Michigan                630928\n",
       "Florida                 629027\n",
       "Ohio                    628319\n",
       "Wisconsin               628108\n",
       "New Jersey              627692\n",
       "Indiana                 627282\n",
       "Maryland                626579\n",
       "Nebraska                625813\n",
       "Iowa                    625493\n",
       "Connecticut             623022\n",
       "Tennessee               617873\n",
       "New Hampshire           615378\n",
       "District of Columbia    613695\n",
       "West Virginia           612296\n",
       "Utah                    611941\n",
       "Vermont                 611725\n",
       "Idaho                   607119\n",
       "Name: STATE, dtype: int64"
      ]
     },
     "execution_count": 7,
     "metadata": {},
     "output_type": "execute_result"
    }
   ],
   "source": [
    "df_final_data['STATE'].value_counts(dropna = False)"
   ]
  },
  {
   "cell_type": "code",
   "execution_count": 8,
   "id": "86c7baf9",
   "metadata": {},
   "outputs": [],
   "source": [
    "#Assigning regions to new varisble\n",
    "result = []\n",
    "for value in df_final_data['STATE']:\n",
    "    if value in('Maine','New Hampshire','Vermont','Massachusetts','Rhode Island','Connecticut','New York','Pennsylvania','New Jersey'):\n",
    "        result.append('Northeast')\n",
    "    elif value in('Wisconsin','Michigan','Illinois','Indiana','Ohio','North Dakota','South Dakota','Nebraska','Kansas','Minnesota','Iowa','Missouri'):\n",
    "        result.append('Mideast')\n",
    "    elif value in ('Delaware','Maryland','District of Columbia','Virginia','West Virginia','North Carolina','South Carolina','Georgia','Florida','Kentucky','Tennessee','Mississippi','Alabama','Oklahoma','Texas','Arkansas','Louisiana'):\n",
    "        result.append('South')\n",
    "    elif value in('Idaho','Montana','Wyoming','Nevada','Utah','Colorado','Arizona','New Mexico','Alaska','Washington','Oregon','California','Hawaii'):\n",
    "        result.append('West')\n",
    "    else:\n",
    "        result.append(\"Not Enough Data\")"
   ]
  },
  {
   "cell_type": "code",
   "execution_count": 9,
   "id": "bcded71c",
   "metadata": {},
   "outputs": [],
   "source": [
    "# Creating 'Region' column in df_final_data using result data\n",
    "df_final_data['Region'] = result"
   ]
  },
  {
   "cell_type": "code",
   "execution_count": 10,
   "id": "627a0825",
   "metadata": {},
   "outputs": [
    {
     "data": {
      "text/plain": [
       "South        10791885\n",
       "West          8292913\n",
       "Mideast       7597325\n",
       "Northeast     5722736\n",
       "Name: Region, dtype: int64"
      ]
     },
     "execution_count": 10,
     "metadata": {},
     "output_type": "execute_result"
    }
   ],
   "source": [
    "# Checking the count for this new column\n",
    "df_final_data['Region'].value_counts(dropna= False)"
   ]
  },
  {
   "cell_type": "code",
   "execution_count": 11,
   "id": "09a3dfbb",
   "metadata": {},
   "outputs": [],
   "source": [
    "# check the difference in spending habits between the different U.S. regions,  we can create crosstab between Region and Spender_Flag\n",
    "crosstab = pd.crosstab(df_final_data['Region'], df_final_data['spender_flag'], dropna = False)"
   ]
  },
  {
   "cell_type": "code",
   "execution_count": 12,
   "id": "c1656104",
   "metadata": {},
   "outputs": [
    {
     "data": {
      "text/html": [
       "<div>\n",
       "<style scoped>\n",
       "    .dataframe tbody tr th:only-of-type {\n",
       "        vertical-align: middle;\n",
       "    }\n",
       "\n",
       "    .dataframe tbody tr th {\n",
       "        vertical-align: top;\n",
       "    }\n",
       "\n",
       "    .dataframe thead th {\n",
       "        text-align: right;\n",
       "    }\n",
       "</style>\n",
       "<table border=\"1\" class=\"dataframe\">\n",
       "  <thead>\n",
       "    <tr style=\"text-align: right;\">\n",
       "      <th>spender_flag</th>\n",
       "      <th>High spender</th>\n",
       "      <th>Low spender</th>\n",
       "    </tr>\n",
       "    <tr>\n",
       "      <th>Region</th>\n",
       "      <th></th>\n",
       "      <th></th>\n",
       "    </tr>\n",
       "  </thead>\n",
       "  <tbody>\n",
       "    <tr>\n",
       "      <th>Mideast</th>\n",
       "      <td>155975</td>\n",
       "      <td>7441350</td>\n",
       "    </tr>\n",
       "    <tr>\n",
       "      <th>Northeast</th>\n",
       "      <td>108200</td>\n",
       "      <td>5614536</td>\n",
       "    </tr>\n",
       "    <tr>\n",
       "      <th>South</th>\n",
       "      <td>209610</td>\n",
       "      <td>10582275</td>\n",
       "    </tr>\n",
       "    <tr>\n",
       "      <th>West</th>\n",
       "      <td>160328</td>\n",
       "      <td>8132585</td>\n",
       "    </tr>\n",
       "  </tbody>\n",
       "</table>\n",
       "</div>"
      ],
      "text/plain": [
       "spender_flag  High spender  Low spender\n",
       "Region                                 \n",
       "Mideast             155975      7441350\n",
       "Northeast           108200      5614536\n",
       "South               209610     10582275\n",
       "West                160328      8132585"
      ]
     },
     "execution_count": 12,
     "metadata": {},
     "output_type": "execute_result"
    }
   ],
   "source": [
    "crosstab"
   ]
  },
  {
   "cell_type": "markdown",
   "id": "8a17eaf3",
   "metadata": {},
   "source": [
    "Customers from the South region has the largest number of both high & low spenders followed by the West, Midwest & then finally the Northeast."
   ]
  },
  {
   "cell_type": "code",
   "execution_count": 13,
   "id": "7c7a2c75",
   "metadata": {},
   "outputs": [
    {
     "data": {
      "text/html": [
       "<div>\n",
       "<style scoped>\n",
       "    .dataframe tbody tr th:only-of-type {\n",
       "        vertical-align: middle;\n",
       "    }\n",
       "\n",
       "    .dataframe tbody tr th {\n",
       "        vertical-align: top;\n",
       "    }\n",
       "\n",
       "    .dataframe thead tr th {\n",
       "        text-align: left;\n",
       "    }\n",
       "\n",
       "    .dataframe thead tr:last-of-type th {\n",
       "        text-align: right;\n",
       "    }\n",
       "</style>\n",
       "<table border=\"1\" class=\"dataframe\">\n",
       "  <thead>\n",
       "    <tr>\n",
       "      <th></th>\n",
       "      <th>prices</th>\n",
       "    </tr>\n",
       "    <tr>\n",
       "      <th></th>\n",
       "      <th>sum</th>\n",
       "    </tr>\n",
       "    <tr>\n",
       "      <th>Region</th>\n",
       "      <th></th>\n",
       "    </tr>\n",
       "  </thead>\n",
       "  <tbody>\n",
       "    <tr>\n",
       "      <th>Mideast</th>\n",
       "      <td>93247038</td>\n",
       "    </tr>\n",
       "    <tr>\n",
       "      <th>Northeast</th>\n",
       "      <td>63598842</td>\n",
       "    </tr>\n",
       "    <tr>\n",
       "      <th>South</th>\n",
       "      <td>126845462</td>\n",
       "    </tr>\n",
       "    <tr>\n",
       "      <th>West</th>\n",
       "      <td>90209587</td>\n",
       "    </tr>\n",
       "  </tbody>\n",
       "</table>\n",
       "</div>"
      ],
      "text/plain": [
       "              prices\n",
       "                 sum\n",
       "Region              \n",
       "Mideast     93247038\n",
       "Northeast   63598842\n",
       "South      126845462\n",
       "West        90209587"
      ]
     },
     "execution_count": 13,
     "metadata": {},
     "output_type": "execute_result"
    }
   ],
   "source": [
    " # Spending habit based on total amount spent \n",
    "df_final_data.groupby(['Region']).agg({'prices':['sum']})"
   ]
  },
  {
   "cell_type": "markdown",
   "id": "9c7cdde6",
   "metadata": {},
   "source": [
    "The total amount spendfor puchasing is more in South region followed by Mideast,West, Northeast"
   ]
  },
  {
   "cell_type": "markdown",
   "id": "7a82387a",
   "metadata": {},
   "source": [
    "# Creating an exclusion flag for low-activity customers"
   ]
  },
  {
   "cell_type": "code",
   "execution_count": 14,
   "id": "c1b71e44",
   "metadata": {},
   "outputs": [],
   "source": [
    "# Creating new column Activity_Flag for low_activity_customers\n",
    "\n",
    "df_final_data.loc[df_final_data['order_number'] < 5,'Activity_Flag'] = 'Low_Activity_Customer'"
   ]
  },
  {
   "cell_type": "code",
   "execution_count": 15,
   "id": "7b41b8ce",
   "metadata": {},
   "outputs": [],
   "source": [
    "# Creating new column Activity_Flag for high_activity_customers\n",
    "\n",
    "df_final_data.loc[df_final_data['order_number'] >= 5,'Activity_Flag'] = 'High_Activity_Customer'"
   ]
  },
  {
   "cell_type": "code",
   "execution_count": 16,
   "id": "7b487d27",
   "metadata": {},
   "outputs": [
    {
     "data": {
      "text/plain": [
       "High_Activity_Customer    24414877\n",
       "Low_Activity_Customer      7989982\n",
       "Name: Activity_Flag, dtype: int64"
      ]
     },
     "execution_count": 16,
     "metadata": {},
     "output_type": "execute_result"
    }
   ],
   "source": [
    "df_final_data['Activity_Flag'].value_counts(dropna = False)"
   ]
  },
  {
   "cell_type": "code",
   "execution_count": 17,
   "id": "c89fae65",
   "metadata": {},
   "outputs": [],
   "source": [
    "# Creating subset for low activity customers\n",
    "df_low_activity = df_final_data[df_final_data.Activity_Flag == 'Low_Activity_Customer']"
   ]
  },
  {
   "cell_type": "code",
   "execution_count": 18,
   "id": "44f262ff",
   "metadata": {},
   "outputs": [
    {
     "data": {
      "text/plain": [
       "(7989982, 37)"
      ]
     },
     "execution_count": 18,
     "metadata": {},
     "output_type": "execute_result"
    }
   ],
   "source": [
    "df_low_activity.shape"
   ]
  },
  {
   "cell_type": "code",
   "execution_count": 19,
   "id": "f1ae0db0",
   "metadata": {},
   "outputs": [],
   "source": [
    "#Export df_low_activity data to pkl\n",
    "df_low_activity.to_pickle(os.path.join(path,'chapter4','Prepared data', 'df_low_activity_task_10.pkl'))"
   ]
  },
  {
   "cell_type": "code",
   "execution_count": 20,
   "id": "638afb66",
   "metadata": {},
   "outputs": [],
   "source": [
    "#Updating final data with only high activity customers\n",
    "df_final_data =  df_final_data[df_final_data.Activity_Flag == 'High_Activity_Customer']"
   ]
  },
  {
   "cell_type": "code",
   "execution_count": 21,
   "id": "4110cb70",
   "metadata": {},
   "outputs": [
    {
     "data": {
      "text/plain": [
       "(24414877, 37)"
      ]
     },
     "execution_count": 21,
     "metadata": {},
     "output_type": "execute_result"
    }
   ],
   "source": [
    "df_final_data.shape"
   ]
  },
  {
   "cell_type": "markdown",
   "id": "67d4a6f6",
   "metadata": {},
   "source": [
    "# Customer Profiling"
   ]
  },
  {
   "cell_type": "markdown",
   "id": "0677d9b9",
   "metadata": {},
   "source": [
    "## Creating Age profiling "
   ]
  },
  {
   "cell_type": "code",
   "execution_count": 22,
   "id": "fb98f8ee",
   "metadata": {},
   "outputs": [
    {
     "data": {
      "text/plain": [
       "48    403566\n",
       "49    403148\n",
       "79    402285\n",
       "31    401576\n",
       "64    400538\n",
       "       ...  \n",
       "28    363922\n",
       "60    361739\n",
       "66    356236\n",
       "25    352977\n",
       "41    352967\n",
       "Name: Age, Length: 64, dtype: int64"
      ]
     },
     "execution_count": 22,
     "metadata": {},
     "output_type": "execute_result"
    }
   ],
   "source": [
    "df_final_data['Age'].value_counts(dropna=False)\n"
   ]
  },
  {
   "cell_type": "code",
   "execution_count": 23,
   "id": "b62a21d0",
   "metadata": {},
   "outputs": [
    {
     "data": {
      "text/plain": [
       "18"
      ]
     },
     "execution_count": 23,
     "metadata": {},
     "output_type": "execute_result"
    }
   ],
   "source": [
    "df_final_data['Age'].min()"
   ]
  },
  {
   "cell_type": "code",
   "execution_count": 24,
   "id": "f9374377",
   "metadata": {},
   "outputs": [],
   "source": [
    "\n",
    "# Condition for young customers\n",
    "df_final_data.loc[((df_final_data['Age'] >= 18) & (df_final_data['Age'] < 35)) , 'Generation_flag'] = 'Young customers'\n"
   ]
  },
  {
   "cell_type": "code",
   "execution_count": 25,
   "id": "b8f8d0ff",
   "metadata": {},
   "outputs": [],
   "source": [
    "# Condition for Middle-Age customers\n",
    "df_final_data.loc[((df_final_data['Age'] >= 35) & (df_final_data['Age'] < 60 )), 'Generation_flag'] = 'Mid-Age Customers'\n"
   ]
  },
  {
   "cell_type": "code",
   "execution_count": 26,
   "id": "fe708b7b",
   "metadata": {},
   "outputs": [],
   "source": [
    "# Condition for Old-Age customers\n",
    "df_final_data.loc[((df_final_data['Age'] >= 60)), 'Generation_flag'] = 'Old-Age customers'\n"
   ]
  },
  {
   "cell_type": "code",
   "execution_count": 27,
   "id": "adcb1087",
   "metadata": {},
   "outputs": [
    {
     "data": {
      "text/plain": [
       "Mid-Age Customers    9583838\n",
       "Old-Age customers    8330598\n",
       "Young customers      6500441\n",
       "Name: Generation_flag, dtype: int64"
      ]
     },
     "execution_count": 27,
     "metadata": {},
     "output_type": "execute_result"
    }
   ],
   "source": [
    "# Checking the count of Generation_flag column\n",
    "df_final_data['Generation_flag'].value_counts(dropna = False)"
   ]
  },
  {
   "cell_type": "markdown",
   "id": "5a80babf",
   "metadata": {},
   "source": [
    "## Creating Income profiling"
   ]
  },
  {
   "cell_type": "code",
   "execution_count": 28,
   "id": "e1af46ab",
   "metadata": {},
   "outputs": [
    {
     "data": {
      "text/plain": [
       "72344     4084\n",
       "57501     3931\n",
       "112610    3917\n",
       "115620    3633\n",
       "36163     3529\n",
       "          ... \n",
       "67647        1\n",
       "151821       1\n",
       "83910        1\n",
       "78618        1\n",
       "132528       1\n",
       "Name: income, Length: 96069, dtype: int64"
      ]
     },
     "execution_count": 28,
     "metadata": {},
     "output_type": "execute_result"
    }
   ],
   "source": [
    "df_final_data['income'].value_counts(dropna=False)"
   ]
  },
  {
   "cell_type": "code",
   "execution_count": 29,
   "id": "402b44ed",
   "metadata": {},
   "outputs": [
    {
     "data": {
      "text/plain": [
       "count    2.441488e+07\n",
       "mean     9.989505e+04\n",
       "std      4.333357e+04\n",
       "min      2.590300e+04\n",
       "25%      6.752400e+04\n",
       "50%      9.683600e+04\n",
       "75%      1.281600e+05\n",
       "max      5.939010e+05\n",
       "Name: income, dtype: float64"
      ]
     },
     "execution_count": 29,
     "metadata": {},
     "output_type": "execute_result"
    }
   ],
   "source": [
    "df_final_data['income'].describe()"
   ]
  },
  {
   "cell_type": "code",
   "execution_count": 30,
   "id": "059fbc5f",
   "metadata": {},
   "outputs": [],
   "source": [
    "# Creating Income_Level column for low level income profiles\n",
    "df_final_data.loc[(df_final_data['income'] < 43000), 'Income_flag'] = 'Lower Income'\n"
   ]
  },
  {
   "cell_type": "code",
   "execution_count": 31,
   "id": "900092e5",
   "metadata": {},
   "outputs": [],
   "source": [
    "# Creating Income_Level column for Middle level income profiles\n",
    "df_final_data.loc[(df_final_data['income'] >= 43000) & (df_final_data['income'] < 128000), 'Income_flag'] = 'Middle Income'\n"
   ]
  },
  {
   "cell_type": "code",
   "execution_count": 32,
   "id": "0fd5f034",
   "metadata": {},
   "outputs": [],
   "source": [
    "# Creating Income_Level column for High level income profiles\n",
    "df_final_data.loc[(df_final_data['income'] >= 128000), 'Income_flag'] = 'Higher Income'\n"
   ]
  },
  {
   "cell_type": "code",
   "execution_count": 33,
   "id": "e4a02fcc",
   "metadata": {},
   "outputs": [
    {
     "data": {
      "text/plain": [
       "Middle Income    16672461\n",
       "Higher Income     6124002\n",
       "Lower Income      1618414\n",
       "Name: Income_flag, dtype: int64"
      ]
     },
     "execution_count": 33,
     "metadata": {},
     "output_type": "execute_result"
    }
   ],
   "source": [
    "# Checking the count of Income Level column\n",
    "df_final_data['Income_flag'].value_counts(dropna = False)"
   ]
  },
  {
   "cell_type": "markdown",
   "id": "de949f38",
   "metadata": {},
   "source": [
    "## Creating order_hour_of_day Profiling\n"
   ]
  },
  {
   "cell_type": "code",
   "execution_count": 34,
   "id": "9f1100ca",
   "metadata": {},
   "outputs": [
    {
     "data": {
      "text/plain": [
       "10    2119103\n",
       "11    2070794\n",
       "14    2018254\n",
       "13    1997116\n",
       "15    1988057\n",
       "12    1961666\n",
       "9     1909015\n",
       "16    1880003\n",
       "17    1533831\n",
       "8     1349840\n",
       "18    1192690\n",
       "19     919242\n",
       "20     724980\n",
       "7      704807\n",
       "21     601378\n",
       "22     477020\n",
       "23     300281\n",
       "6      227981\n",
       "0      160533\n",
       "1       83352\n",
       "5       67956\n",
       "2       50025\n",
       "4       39660\n",
       "3       37293\n",
       "Name: order_hour_of_day, dtype: int64"
      ]
     },
     "execution_count": 34,
     "metadata": {},
     "output_type": "execute_result"
    }
   ],
   "source": [
    "\n",
    "df_final_data['order_hour_of_day'].value_counts(dropna=False)"
   ]
  },
  {
   "cell_type": "code",
   "execution_count": 35,
   "id": "cb6ea585",
   "metadata": {},
   "outputs": [
    {
     "data": {
      "text/plain": [
       "count    2.441488e+07\n",
       "mean     1.336244e+01\n",
       "std      4.247337e+00\n",
       "min      0.000000e+00\n",
       "25%      1.000000e+01\n",
       "50%      1.300000e+01\n",
       "75%      1.600000e+01\n",
       "max      2.300000e+01\n",
       "Name: order_hour_of_day, dtype: float64"
      ]
     },
     "execution_count": 35,
     "metadata": {},
     "output_type": "execute_result"
    }
   ],
   "source": [
    "df_final_data['order_hour_of_day'].describe()"
   ]
  },
  {
   "cell_type": "code",
   "execution_count": 36,
   "id": "f4c3ee3c",
   "metadata": {},
   "outputs": [],
   "source": [
    "# Creating Time flag column \n",
    "df_final_data.loc[((df_final_data['order_hour_of_day'] >= 4) &(df_final_data['order_hour_of_day'] <= 8 ) ), 'Time_flag'] = 'Early Morning Orders'\n"
   ]
  },
  {
   "cell_type": "code",
   "execution_count": 37,
   "id": "75ea7633",
   "metadata": {},
   "outputs": [],
   "source": [
    "df_final_data.loc[((df_final_data['order_hour_of_day'] >8) &(df_final_data['order_hour_of_day'] <= 12 ) ), 'Time_flag'] = ' Morning Orders'"
   ]
  },
  {
   "cell_type": "code",
   "execution_count": 38,
   "id": "2e247123",
   "metadata": {},
   "outputs": [],
   "source": [
    "df_final_data.loc[((df_final_data['order_hour_of_day'] > 12) &(df_final_data['order_hour_of_day'] <= 16 ) ), 'Time_flag'] = ' After noon Orders'"
   ]
  },
  {
   "cell_type": "code",
   "execution_count": 39,
   "id": "16690adb",
   "metadata": {},
   "outputs": [],
   "source": [
    "df_final_data.loc[((df_final_data['order_hour_of_day'] >16) &(df_final_data['order_hour_of_day'] <=23 ) ), 'Time_flag'] = 'Evening Orders'"
   ]
  },
  {
   "cell_type": "code",
   "execution_count": 40,
   "id": "ed5b208d",
   "metadata": {},
   "outputs": [],
   "source": [
    "df_final_data.loc[((df_final_data['order_hour_of_day'] >=0) & (df_final_data['order_hour_of_day'] <= 3 ) ), 'Time_flag'] = 'Late night Orders'"
   ]
  },
  {
   "cell_type": "code",
   "execution_count": 41,
   "id": "3bff8d41",
   "metadata": {},
   "outputs": [
    {
     "data": {
      "text/plain": [
       " Morning Orders         8060578\n",
       " After noon Orders      7883430\n",
       "Evening Orders          5749422\n",
       "Early Morning Orders    2390244\n",
       "Late night Orders        331203\n",
       "Name: Time_flag, dtype: int64"
      ]
     },
     "execution_count": 41,
     "metadata": {},
     "output_type": "execute_result"
    }
   ],
   "source": [
    "df_final_data['Time_flag'].value_counts(dropna = False)"
   ]
  },
  {
   "cell_type": "code",
   "execution_count": 42,
   "id": "51811053",
   "metadata": {},
   "outputs": [
    {
     "data": {
      "text/html": [
       "<div>\n",
       "<style scoped>\n",
       "    .dataframe tbody tr th:only-of-type {\n",
       "        vertical-align: middle;\n",
       "    }\n",
       "\n",
       "    .dataframe tbody tr th {\n",
       "        vertical-align: top;\n",
       "    }\n",
       "\n",
       "    .dataframe thead th {\n",
       "        text-align: right;\n",
       "    }\n",
       "</style>\n",
       "<table border=\"1\" class=\"dataframe\">\n",
       "  <thead>\n",
       "    <tr style=\"text-align: right;\">\n",
       "      <th></th>\n",
       "      <th>product_id</th>\n",
       "      <th>product_name</th>\n",
       "      <th>aisle_id</th>\n",
       "      <th>department_id</th>\n",
       "      <th>prices</th>\n",
       "      <th>order_id</th>\n",
       "      <th>user_id</th>\n",
       "      <th>order_number</th>\n",
       "      <th>orders_day_of_week</th>\n",
       "      <th>order_hour_of_day</th>\n",
       "      <th>...</th>\n",
       "      <th>no_of_dependants</th>\n",
       "      <th>family_status</th>\n",
       "      <th>income</th>\n",
       "      <th>STATE</th>\n",
       "      <th>_merge</th>\n",
       "      <th>Region</th>\n",
       "      <th>Activity_Flag</th>\n",
       "      <th>Generation_flag</th>\n",
       "      <th>Income_flag</th>\n",
       "      <th>Time_flag</th>\n",
       "    </tr>\n",
       "  </thead>\n",
       "  <tbody>\n",
       "    <tr>\n",
       "      <th>0</th>\n",
       "      <td>1</td>\n",
       "      <td>Chocolate Sandwich Cookies</td>\n",
       "      <td>61</td>\n",
       "      <td>19</td>\n",
       "      <td>5</td>\n",
       "      <td>3139998</td>\n",
       "      <td>138</td>\n",
       "      <td>28</td>\n",
       "      <td>6</td>\n",
       "      <td>11</td>\n",
       "      <td>...</td>\n",
       "      <td>1</td>\n",
       "      <td>married</td>\n",
       "      <td>49620</td>\n",
       "      <td>Minnesota</td>\n",
       "      <td>both</td>\n",
       "      <td>Mideast</td>\n",
       "      <td>High_Activity_Customer</td>\n",
       "      <td>Old-Age customers</td>\n",
       "      <td>Middle Income</td>\n",
       "      <td>Morning Orders</td>\n",
       "    </tr>\n",
       "    <tr>\n",
       "      <th>1</th>\n",
       "      <td>1</td>\n",
       "      <td>Chocolate Sandwich Cookies</td>\n",
       "      <td>61</td>\n",
       "      <td>19</td>\n",
       "      <td>5</td>\n",
       "      <td>1977647</td>\n",
       "      <td>138</td>\n",
       "      <td>30</td>\n",
       "      <td>6</td>\n",
       "      <td>17</td>\n",
       "      <td>...</td>\n",
       "      <td>1</td>\n",
       "      <td>married</td>\n",
       "      <td>49620</td>\n",
       "      <td>Minnesota</td>\n",
       "      <td>both</td>\n",
       "      <td>Mideast</td>\n",
       "      <td>High_Activity_Customer</td>\n",
       "      <td>Old-Age customers</td>\n",
       "      <td>Middle Income</td>\n",
       "      <td>Evening Orders</td>\n",
       "    </tr>\n",
       "    <tr>\n",
       "      <th>3</th>\n",
       "      <td>907</td>\n",
       "      <td>Premium Sliced Bacon</td>\n",
       "      <td>106</td>\n",
       "      <td>12</td>\n",
       "      <td>20</td>\n",
       "      <td>2254091</td>\n",
       "      <td>138</td>\n",
       "      <td>10</td>\n",
       "      <td>5</td>\n",
       "      <td>14</td>\n",
       "      <td>...</td>\n",
       "      <td>1</td>\n",
       "      <td>married</td>\n",
       "      <td>49620</td>\n",
       "      <td>Minnesota</td>\n",
       "      <td>both</td>\n",
       "      <td>Mideast</td>\n",
       "      <td>High_Activity_Customer</td>\n",
       "      <td>Old-Age customers</td>\n",
       "      <td>Middle Income</td>\n",
       "      <td>After noon Orders</td>\n",
       "    </tr>\n",
       "    <tr>\n",
       "      <th>4</th>\n",
       "      <td>1000</td>\n",
       "      <td>Apricots</td>\n",
       "      <td>18</td>\n",
       "      <td>10</td>\n",
       "      <td>12</td>\n",
       "      <td>505689</td>\n",
       "      <td>138</td>\n",
       "      <td>9</td>\n",
       "      <td>6</td>\n",
       "      <td>12</td>\n",
       "      <td>...</td>\n",
       "      <td>1</td>\n",
       "      <td>married</td>\n",
       "      <td>49620</td>\n",
       "      <td>Minnesota</td>\n",
       "      <td>both</td>\n",
       "      <td>Mideast</td>\n",
       "      <td>High_Activity_Customer</td>\n",
       "      <td>Old-Age customers</td>\n",
       "      <td>Middle Income</td>\n",
       "      <td>Morning Orders</td>\n",
       "    </tr>\n",
       "    <tr>\n",
       "      <th>5</th>\n",
       "      <td>3265</td>\n",
       "      <td>Mini Seedless Watermelon Pack</td>\n",
       "      <td>32</td>\n",
       "      <td>4</td>\n",
       "      <td>1</td>\n",
       "      <td>960220</td>\n",
       "      <td>138</td>\n",
       "      <td>17</td>\n",
       "      <td>5</td>\n",
       "      <td>14</td>\n",
       "      <td>...</td>\n",
       "      <td>1</td>\n",
       "      <td>married</td>\n",
       "      <td>49620</td>\n",
       "      <td>Minnesota</td>\n",
       "      <td>both</td>\n",
       "      <td>Mideast</td>\n",
       "      <td>High_Activity_Customer</td>\n",
       "      <td>Old-Age customers</td>\n",
       "      <td>Middle Income</td>\n",
       "      <td>After noon Orders</td>\n",
       "    </tr>\n",
       "  </tbody>\n",
       "</table>\n",
       "<p>5 rows × 40 columns</p>\n",
       "</div>"
      ],
      "text/plain": [
       "   product_id                   product_name  aisle_id  department_id  prices  \\\n",
       "0           1     Chocolate Sandwich Cookies        61             19       5   \n",
       "1           1     Chocolate Sandwich Cookies        61             19       5   \n",
       "3         907           Premium Sliced Bacon       106             12      20   \n",
       "4        1000                       Apricots        18             10      12   \n",
       "5        3265  Mini Seedless Watermelon Pack        32              4       1   \n",
       "\n",
       "   order_id  user_id  order_number  orders_day_of_week  order_hour_of_day  \\\n",
       "0   3139998      138            28                   6                 11   \n",
       "1   1977647      138            30                   6                 17   \n",
       "3   2254091      138            10                   5                 14   \n",
       "4    505689      138             9                   6                 12   \n",
       "5    960220      138            17                   5                 14   \n",
       "\n",
       "   ...  no_of_dependants  family_status  income      STATE _merge   Region  \\\n",
       "0  ...                 1        married   49620  Minnesota   both  Mideast   \n",
       "1  ...                 1        married   49620  Minnesota   both  Mideast   \n",
       "3  ...                 1        married   49620  Minnesota   both  Mideast   \n",
       "4  ...                 1        married   49620  Minnesota   both  Mideast   \n",
       "5  ...                 1        married   49620  Minnesota   both  Mideast   \n",
       "\n",
       "            Activity_Flag    Generation_flag    Income_flag  \\\n",
       "0  High_Activity_Customer  Old-Age customers  Middle Income   \n",
       "1  High_Activity_Customer  Old-Age customers  Middle Income   \n",
       "3  High_Activity_Customer  Old-Age customers  Middle Income   \n",
       "4  High_Activity_Customer  Old-Age customers  Middle Income   \n",
       "5  High_Activity_Customer  Old-Age customers  Middle Income   \n",
       "\n",
       "            Time_flag  \n",
       "0      Morning Orders  \n",
       "1      Evening Orders  \n",
       "3   After noon Orders  \n",
       "4      Morning Orders  \n",
       "5   After noon Orders  \n",
       "\n",
       "[5 rows x 40 columns]"
      ]
     },
     "execution_count": 42,
     "metadata": {},
     "output_type": "execute_result"
    }
   ],
   "source": [
    "df_final_data.head()"
   ]
  },
  {
   "cell_type": "markdown",
   "id": "34bdc0cb",
   "metadata": {},
   "source": [
    "## Creating  Alcohol Consumption Profiling\n"
   ]
  },
  {
   "cell_type": "code",
   "execution_count": 43,
   "id": "0570249a",
   "metadata": {},
   "outputs": [
    {
     "data": {
      "text/plain": [
       "4     7227091\n",
       "16    4120488\n",
       "19    2187121\n",
       "7     2036447\n",
       "1     1627614\n",
       "13    1385375\n",
       "3      883330\n",
       "15     787790\n",
       "20     783011\n",
       "9      633725\n",
       "17     539349\n",
       "14     524945\n",
       "12     523890\n",
       "18     335947\n",
       "11     328480\n",
       "6      197900\n",
       "5      107972\n",
       "8       72111\n",
       "21      57567\n",
       "10      27558\n",
       "2       27166\n",
       "Name: department_id, dtype: int64"
      ]
     },
     "execution_count": 43,
     "metadata": {},
     "output_type": "execute_result"
    }
   ],
   "source": [
    "\n",
    "df_final_data['department_id'].value_counts(dropna=False)"
   ]
  },
  {
   "cell_type": "code",
   "execution_count": 44,
   "id": "36f857f7",
   "metadata": {},
   "outputs": [],
   "source": [
    "df_dep = pd.read_csv(os.path.join(path, 'chapter4', 'Prepared data', 'departments_wrangled.csv'))"
   ]
  },
  {
   "cell_type": "code",
   "execution_count": 45,
   "id": "57a73aa7",
   "metadata": {},
   "outputs": [
    {
     "data": {
      "text/html": [
       "<div>\n",
       "<style scoped>\n",
       "    .dataframe tbody tr th:only-of-type {\n",
       "        vertical-align: middle;\n",
       "    }\n",
       "\n",
       "    .dataframe tbody tr th {\n",
       "        vertical-align: top;\n",
       "    }\n",
       "\n",
       "    .dataframe thead th {\n",
       "        text-align: right;\n",
       "    }\n",
       "</style>\n",
       "<table border=\"1\" class=\"dataframe\">\n",
       "  <thead>\n",
       "    <tr style=\"text-align: right;\">\n",
       "      <th></th>\n",
       "      <th>Unnamed: 0</th>\n",
       "      <th>department</th>\n",
       "    </tr>\n",
       "  </thead>\n",
       "  <tbody>\n",
       "    <tr>\n",
       "      <th>0</th>\n",
       "      <td>1</td>\n",
       "      <td>frozen</td>\n",
       "    </tr>\n",
       "    <tr>\n",
       "      <th>1</th>\n",
       "      <td>2</td>\n",
       "      <td>other</td>\n",
       "    </tr>\n",
       "    <tr>\n",
       "      <th>2</th>\n",
       "      <td>3</td>\n",
       "      <td>bakery</td>\n",
       "    </tr>\n",
       "    <tr>\n",
       "      <th>3</th>\n",
       "      <td>4</td>\n",
       "      <td>produce</td>\n",
       "    </tr>\n",
       "    <tr>\n",
       "      <th>4</th>\n",
       "      <td>5</td>\n",
       "      <td>alcohol</td>\n",
       "    </tr>\n",
       "    <tr>\n",
       "      <th>5</th>\n",
       "      <td>6</td>\n",
       "      <td>international</td>\n",
       "    </tr>\n",
       "    <tr>\n",
       "      <th>6</th>\n",
       "      <td>7</td>\n",
       "      <td>beverages</td>\n",
       "    </tr>\n",
       "    <tr>\n",
       "      <th>7</th>\n",
       "      <td>8</td>\n",
       "      <td>pets</td>\n",
       "    </tr>\n",
       "    <tr>\n",
       "      <th>8</th>\n",
       "      <td>9</td>\n",
       "      <td>dry goods pasta</td>\n",
       "    </tr>\n",
       "    <tr>\n",
       "      <th>9</th>\n",
       "      <td>10</td>\n",
       "      <td>bulk</td>\n",
       "    </tr>\n",
       "    <tr>\n",
       "      <th>10</th>\n",
       "      <td>11</td>\n",
       "      <td>personal care</td>\n",
       "    </tr>\n",
       "    <tr>\n",
       "      <th>11</th>\n",
       "      <td>12</td>\n",
       "      <td>meat seafood</td>\n",
       "    </tr>\n",
       "    <tr>\n",
       "      <th>12</th>\n",
       "      <td>13</td>\n",
       "      <td>pantry</td>\n",
       "    </tr>\n",
       "    <tr>\n",
       "      <th>13</th>\n",
       "      <td>14</td>\n",
       "      <td>breakfast</td>\n",
       "    </tr>\n",
       "    <tr>\n",
       "      <th>14</th>\n",
       "      <td>15</td>\n",
       "      <td>canned goods</td>\n",
       "    </tr>\n",
       "    <tr>\n",
       "      <th>15</th>\n",
       "      <td>16</td>\n",
       "      <td>dairy eggs</td>\n",
       "    </tr>\n",
       "    <tr>\n",
       "      <th>16</th>\n",
       "      <td>17</td>\n",
       "      <td>household</td>\n",
       "    </tr>\n",
       "    <tr>\n",
       "      <th>17</th>\n",
       "      <td>18</td>\n",
       "      <td>babies</td>\n",
       "    </tr>\n",
       "    <tr>\n",
       "      <th>18</th>\n",
       "      <td>19</td>\n",
       "      <td>snacks</td>\n",
       "    </tr>\n",
       "    <tr>\n",
       "      <th>19</th>\n",
       "      <td>20</td>\n",
       "      <td>deli</td>\n",
       "    </tr>\n",
       "    <tr>\n",
       "      <th>20</th>\n",
       "      <td>21</td>\n",
       "      <td>missing</td>\n",
       "    </tr>\n",
       "  </tbody>\n",
       "</table>\n",
       "</div>"
      ],
      "text/plain": [
       "    Unnamed: 0       department\n",
       "0            1           frozen\n",
       "1            2            other\n",
       "2            3           bakery\n",
       "3            4          produce\n",
       "4            5          alcohol\n",
       "5            6    international\n",
       "6            7        beverages\n",
       "7            8             pets\n",
       "8            9  dry goods pasta\n",
       "9           10             bulk\n",
       "10          11    personal care\n",
       "11          12     meat seafood\n",
       "12          13           pantry\n",
       "13          14        breakfast\n",
       "14          15     canned goods\n",
       "15          16       dairy eggs\n",
       "16          17        household\n",
       "17          18           babies\n",
       "18          19           snacks\n",
       "19          20             deli\n",
       "20          21          missing"
      ]
     },
     "execution_count": 45,
     "metadata": {},
     "output_type": "execute_result"
    }
   ],
   "source": [
    "df_dep"
   ]
  },
  {
   "cell_type": "code",
   "execution_count": 46,
   "id": "2a4a30af",
   "metadata": {},
   "outputs": [],
   "source": [
    "# First create alcohol order flag column with department_id 5 \n",
    "df_final_data.loc[(df_final_data['department_id'] == 5), 'Alcohol Order'] = 1"
   ]
  },
  {
   "cell_type": "code",
   "execution_count": 47,
   "id": "209c5d7b",
   "metadata": {},
   "outputs": [],
   "source": [
    "# Condition for no alcohol order\n",
    "df_final_data.loc[(df_final_data['department_id'] != 5), 'Alcohol Order'] = 0\n"
   ]
  },
  {
   "cell_type": "code",
   "execution_count": 48,
   "id": "fb09ce73",
   "metadata": {},
   "outputs": [
    {
     "data": {
      "text/plain": [
       "0.0    24306905\n",
       "1.0      107972\n",
       "Name: Alcohol Order, dtype: int64"
      ]
     },
     "execution_count": 48,
     "metadata": {},
     "output_type": "execute_result"
    }
   ],
   "source": [
    "# Count of Alcohol Order flag\n",
    "df_final_data['Alcohol Order'].value_counts(dropna = False)"
   ]
  },
  {
   "cell_type": "code",
   "execution_count": 49,
   "id": "523ce6ea",
   "metadata": {},
   "outputs": [
    {
     "data": {
      "text/html": [
       "<div>\n",
       "<style scoped>\n",
       "    .dataframe tbody tr th:only-of-type {\n",
       "        vertical-align: middle;\n",
       "    }\n",
       "\n",
       "    .dataframe tbody tr th {\n",
       "        vertical-align: top;\n",
       "    }\n",
       "\n",
       "    .dataframe thead th {\n",
       "        text-align: right;\n",
       "    }\n",
       "</style>\n",
       "<table border=\"1\" class=\"dataframe\">\n",
       "  <thead>\n",
       "    <tr style=\"text-align: right;\">\n",
       "      <th></th>\n",
       "      <th>product_id</th>\n",
       "      <th>product_name</th>\n",
       "      <th>aisle_id</th>\n",
       "      <th>department_id</th>\n",
       "      <th>prices</th>\n",
       "      <th>order_id</th>\n",
       "      <th>user_id</th>\n",
       "      <th>order_number</th>\n",
       "      <th>orders_day_of_week</th>\n",
       "      <th>order_hour_of_day</th>\n",
       "      <th>...</th>\n",
       "      <th>family_status</th>\n",
       "      <th>income</th>\n",
       "      <th>STATE</th>\n",
       "      <th>_merge</th>\n",
       "      <th>Region</th>\n",
       "      <th>Activity_Flag</th>\n",
       "      <th>Generation_flag</th>\n",
       "      <th>Income_flag</th>\n",
       "      <th>Time_flag</th>\n",
       "      <th>Alcohol Order</th>\n",
       "    </tr>\n",
       "  </thead>\n",
       "  <tbody>\n",
       "    <tr>\n",
       "      <th>0</th>\n",
       "      <td>1</td>\n",
       "      <td>Chocolate Sandwich Cookies</td>\n",
       "      <td>61</td>\n",
       "      <td>19</td>\n",
       "      <td>5</td>\n",
       "      <td>3139998</td>\n",
       "      <td>138</td>\n",
       "      <td>28</td>\n",
       "      <td>6</td>\n",
       "      <td>11</td>\n",
       "      <td>...</td>\n",
       "      <td>married</td>\n",
       "      <td>49620</td>\n",
       "      <td>Minnesota</td>\n",
       "      <td>both</td>\n",
       "      <td>Mideast</td>\n",
       "      <td>High_Activity_Customer</td>\n",
       "      <td>Old-Age customers</td>\n",
       "      <td>Middle Income</td>\n",
       "      <td>Morning Orders</td>\n",
       "      <td>0.0</td>\n",
       "    </tr>\n",
       "    <tr>\n",
       "      <th>1</th>\n",
       "      <td>1</td>\n",
       "      <td>Chocolate Sandwich Cookies</td>\n",
       "      <td>61</td>\n",
       "      <td>19</td>\n",
       "      <td>5</td>\n",
       "      <td>1977647</td>\n",
       "      <td>138</td>\n",
       "      <td>30</td>\n",
       "      <td>6</td>\n",
       "      <td>17</td>\n",
       "      <td>...</td>\n",
       "      <td>married</td>\n",
       "      <td>49620</td>\n",
       "      <td>Minnesota</td>\n",
       "      <td>both</td>\n",
       "      <td>Mideast</td>\n",
       "      <td>High_Activity_Customer</td>\n",
       "      <td>Old-Age customers</td>\n",
       "      <td>Middle Income</td>\n",
       "      <td>Evening Orders</td>\n",
       "      <td>0.0</td>\n",
       "    </tr>\n",
       "    <tr>\n",
       "      <th>3</th>\n",
       "      <td>907</td>\n",
       "      <td>Premium Sliced Bacon</td>\n",
       "      <td>106</td>\n",
       "      <td>12</td>\n",
       "      <td>20</td>\n",
       "      <td>2254091</td>\n",
       "      <td>138</td>\n",
       "      <td>10</td>\n",
       "      <td>5</td>\n",
       "      <td>14</td>\n",
       "      <td>...</td>\n",
       "      <td>married</td>\n",
       "      <td>49620</td>\n",
       "      <td>Minnesota</td>\n",
       "      <td>both</td>\n",
       "      <td>Mideast</td>\n",
       "      <td>High_Activity_Customer</td>\n",
       "      <td>Old-Age customers</td>\n",
       "      <td>Middle Income</td>\n",
       "      <td>After noon Orders</td>\n",
       "      <td>0.0</td>\n",
       "    </tr>\n",
       "    <tr>\n",
       "      <th>4</th>\n",
       "      <td>1000</td>\n",
       "      <td>Apricots</td>\n",
       "      <td>18</td>\n",
       "      <td>10</td>\n",
       "      <td>12</td>\n",
       "      <td>505689</td>\n",
       "      <td>138</td>\n",
       "      <td>9</td>\n",
       "      <td>6</td>\n",
       "      <td>12</td>\n",
       "      <td>...</td>\n",
       "      <td>married</td>\n",
       "      <td>49620</td>\n",
       "      <td>Minnesota</td>\n",
       "      <td>both</td>\n",
       "      <td>Mideast</td>\n",
       "      <td>High_Activity_Customer</td>\n",
       "      <td>Old-Age customers</td>\n",
       "      <td>Middle Income</td>\n",
       "      <td>Morning Orders</td>\n",
       "      <td>0.0</td>\n",
       "    </tr>\n",
       "    <tr>\n",
       "      <th>5</th>\n",
       "      <td>3265</td>\n",
       "      <td>Mini Seedless Watermelon Pack</td>\n",
       "      <td>32</td>\n",
       "      <td>4</td>\n",
       "      <td>1</td>\n",
       "      <td>960220</td>\n",
       "      <td>138</td>\n",
       "      <td>17</td>\n",
       "      <td>5</td>\n",
       "      <td>14</td>\n",
       "      <td>...</td>\n",
       "      <td>married</td>\n",
       "      <td>49620</td>\n",
       "      <td>Minnesota</td>\n",
       "      <td>both</td>\n",
       "      <td>Mideast</td>\n",
       "      <td>High_Activity_Customer</td>\n",
       "      <td>Old-Age customers</td>\n",
       "      <td>Middle Income</td>\n",
       "      <td>After noon Orders</td>\n",
       "      <td>0.0</td>\n",
       "    </tr>\n",
       "  </tbody>\n",
       "</table>\n",
       "<p>5 rows × 41 columns</p>\n",
       "</div>"
      ],
      "text/plain": [
       "   product_id                   product_name  aisle_id  department_id  prices  \\\n",
       "0           1     Chocolate Sandwich Cookies        61             19       5   \n",
       "1           1     Chocolate Sandwich Cookies        61             19       5   \n",
       "3         907           Premium Sliced Bacon       106             12      20   \n",
       "4        1000                       Apricots        18             10      12   \n",
       "5        3265  Mini Seedless Watermelon Pack        32              4       1   \n",
       "\n",
       "   order_id  user_id  order_number  orders_day_of_week  order_hour_of_day  \\\n",
       "0   3139998      138            28                   6                 11   \n",
       "1   1977647      138            30                   6                 17   \n",
       "3   2254091      138            10                   5                 14   \n",
       "4    505689      138             9                   6                 12   \n",
       "5    960220      138            17                   5                 14   \n",
       "\n",
       "   ...  family_status  income      STATE  _merge   Region  \\\n",
       "0  ...        married   49620  Minnesota    both  Mideast   \n",
       "1  ...        married   49620  Minnesota    both  Mideast   \n",
       "3  ...        married   49620  Minnesota    both  Mideast   \n",
       "4  ...        married   49620  Minnesota    both  Mideast   \n",
       "5  ...        married   49620  Minnesota    both  Mideast   \n",
       "\n",
       "            Activity_Flag    Generation_flag    Income_flag  \\\n",
       "0  High_Activity_Customer  Old-Age customers  Middle Income   \n",
       "1  High_Activity_Customer  Old-Age customers  Middle Income   \n",
       "3  High_Activity_Customer  Old-Age customers  Middle Income   \n",
       "4  High_Activity_Customer  Old-Age customers  Middle Income   \n",
       "5  High_Activity_Customer  Old-Age customers  Middle Income   \n",
       "\n",
       "            Time_flag Alcohol Order  \n",
       "0      Morning Orders           0.0  \n",
       "1      Evening Orders           0.0  \n",
       "3   After noon Orders           0.0  \n",
       "4      Morning Orders           0.0  \n",
       "5   After noon Orders           0.0  \n",
       "\n",
       "[5 rows x 41 columns]"
      ]
     },
     "execution_count": 49,
     "metadata": {},
     "output_type": "execute_result"
    }
   ],
   "source": [
    "df_final_data.head()"
   ]
  },
  {
   "cell_type": "markdown",
   "id": "bdd31a83",
   "metadata": {},
   "source": [
    "## Creating Parent status column\n"
   ]
  },
  {
   "cell_type": "code",
   "execution_count": 50,
   "id": "211dd35f",
   "metadata": {},
   "outputs": [],
   "source": [
    "# Condition for no dependents\n",
    "df_final_data.loc[(df_final_data ['no_of_dependants'] == 0), 'Parent_Status'] = 'No Dependants/Not Parents'"
   ]
  },
  {
   "cell_type": "code",
   "execution_count": 51,
   "id": "5bd2a43d",
   "metadata": {},
   "outputs": [],
   "source": [
    "# Condition for young parents\n",
    "df_final_data.loc[((df_final_data['Age'] >= 18) & (df_final_data['Age'] < 35) & (df_final_data['no_of_dependants'] >= 1)), 'Parent_Status'] = 'Young Parents'\n"
   ]
  },
  {
   "cell_type": "code",
   "execution_count": 52,
   "id": "b50e8f7e",
   "metadata": {},
   "outputs": [],
   "source": [
    "# Condition for Middle-Age parents\n",
    "df_final_data.loc[((df_final_data['Age'] >= 35) & (df_final_data['Age'] < 60) & (df_final_data['no_of_dependants'] >= 1)), 'Parent_Status'] = 'Mid-Age Parents'\n"
   ]
  },
  {
   "cell_type": "code",
   "execution_count": 53,
   "id": "dfd937bb",
   "metadata": {},
   "outputs": [],
   "source": [
    "# Condition for Old-Age parents\n",
    "df_final_data.loc[((df_final_data['Age'] >= 60) & (df_final_data['no_of_dependants'] >= 1)), 'Parent_Status'] = 'Old-Age Parents'\n"
   ]
  },
  {
   "cell_type": "code",
   "execution_count": 54,
   "id": "b528f18e",
   "metadata": {},
   "outputs": [
    {
     "data": {
      "text/plain": [
       "Mid-Age Parents              7190133\n",
       "Old-Age Parents              6241386\n",
       "No Dependants/Not Parents    6105002\n",
       "Young Parents                4878356\n",
       "Name: Parent_Status, dtype: int64"
      ]
     },
     "execution_count": 54,
     "metadata": {},
     "output_type": "execute_result"
    }
   ],
   "source": [
    "# Checking the count of Parent_Status column\n",
    "df_final_data['Parent_Status'].value_counts(dropna = False)"
   ]
  },
  {
   "cell_type": "markdown",
   "id": "f3aa8df3",
   "metadata": {},
   "source": [
    "## Creating Alcohol Drinkers column "
   ]
  },
  {
   "cell_type": "code",
   "execution_count": 55,
   "id": "cd404297",
   "metadata": {},
   "outputs": [],
   "source": [
    "# Grouping by user_id, sum by total num of orders in dept 5 per user_id (Alcohol Order Flag)\n",
    "\n",
    "df_group_Alcohol = df_final_data.groupby('user_id').agg({'Alcohol Order':'sum'})\n"
   ]
  },
  {
   "cell_type": "code",
   "execution_count": 56,
   "id": "12474a89",
   "metadata": {},
   "outputs": [],
   "source": [
    "# Creating Alcohol Drinker column based on alcohol order flag\n",
    "\n",
    "df_group_Alcohol.loc[(df_group_Alcohol['Alcohol Order'] >= 1), 'Alcohol Drinker'] = \"Alcohol Drinker\"\n",
    "df_group_Alcohol.loc[(df_group_Alcohol['Alcohol Order'] == 0), 'Alcohol Drinker'] = \"Not Alcohol Drinker\"\n"
   ]
  },
  {
   "cell_type": "code",
   "execution_count": 57,
   "id": "bebfcfce",
   "metadata": {},
   "outputs": [],
   "source": [
    "# Dropping Alcohol Order Flag column\n",
    "\n",
    "df_group_Alcohol = df_group_Alcohol.drop(columns = ['Alcohol Order'])\n"
   ]
  },
  {
   "cell_type": "code",
   "execution_count": 58,
   "id": "f2b7556a",
   "metadata": {},
   "outputs": [
    {
     "data": {
      "text/plain": [
       "(162631, 1)"
      ]
     },
     "execution_count": 58,
     "metadata": {},
     "output_type": "execute_result"
    }
   ],
   "source": [
    "df_group_Alcohol.shape\n"
   ]
  },
  {
   "cell_type": "code",
   "execution_count": 59,
   "id": "57366508",
   "metadata": {},
   "outputs": [
    {
     "data": {
      "text/plain": [
       "Not Alcohol Drinker    152643\n",
       "Alcohol Drinker          9988\n",
       "Name: Alcohol Drinker, dtype: int64"
      ]
     },
     "execution_count": 59,
     "metadata": {},
     "output_type": "execute_result"
    }
   ],
   "source": [
    "\n",
    "df_group_Alcohol['Alcohol Drinker'].value_counts(dropna = False)"
   ]
  },
  {
   "cell_type": "markdown",
   "id": "38035eda",
   "metadata": {},
   "source": [
    "## Merging original data set with alcohol drinkers data set\n"
   ]
  },
  {
   "cell_type": "code",
   "execution_count": 60,
   "id": "55c737b7",
   "metadata": {},
   "outputs": [],
   "source": [
    "# Left join df_final_data (left) with df_group_Alcohol (right) to get \"Alcohol Drinker\" for each user_id\n",
    "df_final_data = df_final_data.merge(df_group_Alcohol, on='user_id', how='left')\n"
   ]
  },
  {
   "cell_type": "code",
   "execution_count": 61,
   "id": "06d99b41",
   "metadata": {},
   "outputs": [
    {
     "data": {
      "text/plain": [
       "(24414877, 43)"
      ]
     },
     "execution_count": 61,
     "metadata": {},
     "output_type": "execute_result"
    }
   ],
   "source": [
    "df_final_data.shape"
   ]
  },
  {
   "cell_type": "code",
   "execution_count": 62,
   "id": "3d458b1d",
   "metadata": {},
   "outputs": [
    {
     "data": {
      "text/plain": [
       "Not Alcohol Drinker    22780060\n",
       "Alcohol Drinker         1634817\n",
       "Name: Alcohol Drinker, dtype: int64"
      ]
     },
     "execution_count": 62,
     "metadata": {},
     "output_type": "execute_result"
    }
   ],
   "source": [
    "df_final_data['Alcohol Drinker'].value_counts(dropna = False)"
   ]
  },
  {
   "cell_type": "code",
   "execution_count": 63,
   "id": "32a9083c",
   "metadata": {},
   "outputs": [
    {
     "data": {
      "text/html": [
       "<div>\n",
       "<style scoped>\n",
       "    .dataframe tbody tr th:only-of-type {\n",
       "        vertical-align: middle;\n",
       "    }\n",
       "\n",
       "    .dataframe tbody tr th {\n",
       "        vertical-align: top;\n",
       "    }\n",
       "\n",
       "    .dataframe thead th {\n",
       "        text-align: right;\n",
       "    }\n",
       "</style>\n",
       "<table border=\"1\" class=\"dataframe\">\n",
       "  <thead>\n",
       "    <tr style=\"text-align: right;\">\n",
       "      <th></th>\n",
       "      <th>product_id</th>\n",
       "      <th>product_name</th>\n",
       "      <th>aisle_id</th>\n",
       "      <th>department_id</th>\n",
       "      <th>prices</th>\n",
       "      <th>order_id</th>\n",
       "      <th>user_id</th>\n",
       "      <th>order_number</th>\n",
       "      <th>orders_day_of_week</th>\n",
       "      <th>order_hour_of_day</th>\n",
       "      <th>...</th>\n",
       "      <th>STATE</th>\n",
       "      <th>_merge</th>\n",
       "      <th>Region</th>\n",
       "      <th>Activity_Flag</th>\n",
       "      <th>Generation_flag</th>\n",
       "      <th>Income_flag</th>\n",
       "      <th>Time_flag</th>\n",
       "      <th>Alcohol Order</th>\n",
       "      <th>Parent_Status</th>\n",
       "      <th>Alcohol Drinker</th>\n",
       "    </tr>\n",
       "  </thead>\n",
       "  <tbody>\n",
       "    <tr>\n",
       "      <th>0</th>\n",
       "      <td>1</td>\n",
       "      <td>Chocolate Sandwich Cookies</td>\n",
       "      <td>61</td>\n",
       "      <td>19</td>\n",
       "      <td>5</td>\n",
       "      <td>3139998</td>\n",
       "      <td>138</td>\n",
       "      <td>28</td>\n",
       "      <td>6</td>\n",
       "      <td>11</td>\n",
       "      <td>...</td>\n",
       "      <td>Minnesota</td>\n",
       "      <td>both</td>\n",
       "      <td>Mideast</td>\n",
       "      <td>High_Activity_Customer</td>\n",
       "      <td>Old-Age customers</td>\n",
       "      <td>Middle Income</td>\n",
       "      <td>Morning Orders</td>\n",
       "      <td>0.0</td>\n",
       "      <td>Old-Age Parents</td>\n",
       "      <td>Not Alcohol Drinker</td>\n",
       "    </tr>\n",
       "    <tr>\n",
       "      <th>1</th>\n",
       "      <td>1</td>\n",
       "      <td>Chocolate Sandwich Cookies</td>\n",
       "      <td>61</td>\n",
       "      <td>19</td>\n",
       "      <td>5</td>\n",
       "      <td>1977647</td>\n",
       "      <td>138</td>\n",
       "      <td>30</td>\n",
       "      <td>6</td>\n",
       "      <td>17</td>\n",
       "      <td>...</td>\n",
       "      <td>Minnesota</td>\n",
       "      <td>both</td>\n",
       "      <td>Mideast</td>\n",
       "      <td>High_Activity_Customer</td>\n",
       "      <td>Old-Age customers</td>\n",
       "      <td>Middle Income</td>\n",
       "      <td>Evening Orders</td>\n",
       "      <td>0.0</td>\n",
       "      <td>Old-Age Parents</td>\n",
       "      <td>Not Alcohol Drinker</td>\n",
       "    </tr>\n",
       "    <tr>\n",
       "      <th>2</th>\n",
       "      <td>907</td>\n",
       "      <td>Premium Sliced Bacon</td>\n",
       "      <td>106</td>\n",
       "      <td>12</td>\n",
       "      <td>20</td>\n",
       "      <td>2254091</td>\n",
       "      <td>138</td>\n",
       "      <td>10</td>\n",
       "      <td>5</td>\n",
       "      <td>14</td>\n",
       "      <td>...</td>\n",
       "      <td>Minnesota</td>\n",
       "      <td>both</td>\n",
       "      <td>Mideast</td>\n",
       "      <td>High_Activity_Customer</td>\n",
       "      <td>Old-Age customers</td>\n",
       "      <td>Middle Income</td>\n",
       "      <td>After noon Orders</td>\n",
       "      <td>0.0</td>\n",
       "      <td>Old-Age Parents</td>\n",
       "      <td>Not Alcohol Drinker</td>\n",
       "    </tr>\n",
       "    <tr>\n",
       "      <th>3</th>\n",
       "      <td>1000</td>\n",
       "      <td>Apricots</td>\n",
       "      <td>18</td>\n",
       "      <td>10</td>\n",
       "      <td>12</td>\n",
       "      <td>505689</td>\n",
       "      <td>138</td>\n",
       "      <td>9</td>\n",
       "      <td>6</td>\n",
       "      <td>12</td>\n",
       "      <td>...</td>\n",
       "      <td>Minnesota</td>\n",
       "      <td>both</td>\n",
       "      <td>Mideast</td>\n",
       "      <td>High_Activity_Customer</td>\n",
       "      <td>Old-Age customers</td>\n",
       "      <td>Middle Income</td>\n",
       "      <td>Morning Orders</td>\n",
       "      <td>0.0</td>\n",
       "      <td>Old-Age Parents</td>\n",
       "      <td>Not Alcohol Drinker</td>\n",
       "    </tr>\n",
       "    <tr>\n",
       "      <th>4</th>\n",
       "      <td>3265</td>\n",
       "      <td>Mini Seedless Watermelon Pack</td>\n",
       "      <td>32</td>\n",
       "      <td>4</td>\n",
       "      <td>1</td>\n",
       "      <td>960220</td>\n",
       "      <td>138</td>\n",
       "      <td>17</td>\n",
       "      <td>5</td>\n",
       "      <td>14</td>\n",
       "      <td>...</td>\n",
       "      <td>Minnesota</td>\n",
       "      <td>both</td>\n",
       "      <td>Mideast</td>\n",
       "      <td>High_Activity_Customer</td>\n",
       "      <td>Old-Age customers</td>\n",
       "      <td>Middle Income</td>\n",
       "      <td>After noon Orders</td>\n",
       "      <td>0.0</td>\n",
       "      <td>Old-Age Parents</td>\n",
       "      <td>Not Alcohol Drinker</td>\n",
       "    </tr>\n",
       "  </tbody>\n",
       "</table>\n",
       "<p>5 rows × 43 columns</p>\n",
       "</div>"
      ],
      "text/plain": [
       "   product_id                   product_name  aisle_id  department_id  prices  \\\n",
       "0           1     Chocolate Sandwich Cookies        61             19       5   \n",
       "1           1     Chocolate Sandwich Cookies        61             19       5   \n",
       "2         907           Premium Sliced Bacon       106             12      20   \n",
       "3        1000                       Apricots        18             10      12   \n",
       "4        3265  Mini Seedless Watermelon Pack        32              4       1   \n",
       "\n",
       "   order_id  user_id  order_number  orders_day_of_week  order_hour_of_day  \\\n",
       "0   3139998      138            28                   6                 11   \n",
       "1   1977647      138            30                   6                 17   \n",
       "2   2254091      138            10                   5                 14   \n",
       "3    505689      138             9                   6                 12   \n",
       "4    960220      138            17                   5                 14   \n",
       "\n",
       "   ...      STATE  _merge   Region           Activity_Flag    Generation_flag  \\\n",
       "0  ...  Minnesota    both  Mideast  High_Activity_Customer  Old-Age customers   \n",
       "1  ...  Minnesota    both  Mideast  High_Activity_Customer  Old-Age customers   \n",
       "2  ...  Minnesota    both  Mideast  High_Activity_Customer  Old-Age customers   \n",
       "3  ...  Minnesota    both  Mideast  High_Activity_Customer  Old-Age customers   \n",
       "4  ...  Minnesota    both  Mideast  High_Activity_Customer  Old-Age customers   \n",
       "\n",
       "     Income_flag           Time_flag Alcohol Order    Parent_Status  \\\n",
       "0  Middle Income      Morning Orders           0.0  Old-Age Parents   \n",
       "1  Middle Income      Evening Orders           0.0  Old-Age Parents   \n",
       "2  Middle Income   After noon Orders           0.0  Old-Age Parents   \n",
       "3  Middle Income      Morning Orders           0.0  Old-Age Parents   \n",
       "4  Middle Income   After noon Orders           0.0  Old-Age Parents   \n",
       "\n",
       "       Alcohol Drinker  \n",
       "0  Not Alcohol Drinker  \n",
       "1  Not Alcohol Drinker  \n",
       "2  Not Alcohol Drinker  \n",
       "3  Not Alcohol Drinker  \n",
       "4  Not Alcohol Drinker  \n",
       "\n",
       "[5 rows x 43 columns]"
      ]
     },
     "execution_count": 63,
     "metadata": {},
     "output_type": "execute_result"
    }
   ],
   "source": [
    "\n",
    "df_final_data.head()"
   ]
  },
  {
   "cell_type": "code",
   "execution_count": null,
   "id": "4252cdcd",
   "metadata": {},
   "outputs": [],
   "source": []
  },
  {
   "cell_type": "code",
   "execution_count": 64,
   "id": "3704b323",
   "metadata": {},
   "outputs": [],
   "source": [
    "\n",
    "# First create baby product flag column with department_id 5 \n",
    "df_final_data.loc[(df_final_data['department_id'] == 18), 'Baby product'] = 1"
   ]
  },
  {
   "cell_type": "code",
   "execution_count": 65,
   "id": "f9b96611",
   "metadata": {},
   "outputs": [],
   "source": [
    "# Condition for non baby product buyer\n",
    "df_final_data.loc[(df_final_data['department_id'] != 18), 'Baby product'] = 0\n"
   ]
  },
  {
   "cell_type": "code",
   "execution_count": 66,
   "id": "06ec1274",
   "metadata": {},
   "outputs": [
    {
     "data": {
      "text/plain": [
       "0.0    24078930\n",
       "1.0      335947\n",
       "Name: Baby product, dtype: int64"
      ]
     },
     "execution_count": 66,
     "metadata": {},
     "output_type": "execute_result"
    }
   ],
   "source": [
    "# Count of baby product flag\n",
    "df_final_data['Baby product'].value_counts(dropna = False)"
   ]
  },
  {
   "cell_type": "code",
   "execution_count": 67,
   "id": "36bd2074",
   "metadata": {},
   "outputs": [],
   "source": [
    "# Grouping by user_id, sum by total num of orders in dept 18 per user_id \n",
    "\n",
    "df_group_baby = df_final_data.groupby('user_id').agg({'Baby product':'sum'})\n"
   ]
  },
  {
   "cell_type": "code",
   "execution_count": 68,
   "id": "a65ab5fe",
   "metadata": {},
   "outputs": [],
   "source": [
    "df_group_baby.loc[(df_group_baby['Baby product'] >= 1), 'Baby product flag'] = \"Baby product buyers\"\n",
    "df_group_baby.loc[(df_group_baby['Baby product'] == 0), 'Baby product flag'] = \"Non Baby product buyers\"\n"
   ]
  },
  {
   "cell_type": "code",
   "execution_count": 69,
   "id": "2e5e8b15",
   "metadata": {},
   "outputs": [],
   "source": [
    "df_group_baby = df_group_baby.drop(columns = ['Baby product'])"
   ]
  },
  {
   "cell_type": "code",
   "execution_count": 70,
   "id": "bdcbbc52",
   "metadata": {},
   "outputs": [
    {
     "data": {
      "text/plain": [
       "Non Baby product buyers    136860\n",
       "Baby product buyers         25771\n",
       "Name: Baby product flag, dtype: int64"
      ]
     },
     "execution_count": 70,
     "metadata": {},
     "output_type": "execute_result"
    }
   ],
   "source": [
    "df_group_baby['Baby product flag'].value_counts(dropna = False)"
   ]
  },
  {
   "cell_type": "code",
   "execution_count": 71,
   "id": "ec19789e",
   "metadata": {},
   "outputs": [
    {
     "data": {
      "text/plain": [
       "(162631, 1)"
      ]
     },
     "execution_count": 71,
     "metadata": {},
     "output_type": "execute_result"
    }
   ],
   "source": [
    "df_group_baby.shape"
   ]
  },
  {
   "cell_type": "markdown",
   "id": "0a4e911a",
   "metadata": {},
   "source": [
    "# Merging original data set with Baby product buyer data set"
   ]
  },
  {
   "cell_type": "code",
   "execution_count": 72,
   "id": "c588470e",
   "metadata": {},
   "outputs": [],
   "source": [
    "# Left join df_final_data (left) with df_group_baby (right) to get \"Baby product flag\" for each user_id\n",
    "df_final_data = df_final_data.merge(df_group_baby, on='user_id', how='left')\n"
   ]
  },
  {
   "cell_type": "code",
   "execution_count": 73,
   "id": "0644cde7",
   "metadata": {},
   "outputs": [
    {
     "data": {
      "text/plain": [
       "(24414877, 45)"
      ]
     },
     "execution_count": 73,
     "metadata": {},
     "output_type": "execute_result"
    }
   ],
   "source": [
    "df_final_data.shape"
   ]
  },
  {
   "cell_type": "code",
   "execution_count": 74,
   "id": "f2ea0c2f",
   "metadata": {},
   "outputs": [
    {
     "data": {
      "text/html": [
       "<div>\n",
       "<style scoped>\n",
       "    .dataframe tbody tr th:only-of-type {\n",
       "        vertical-align: middle;\n",
       "    }\n",
       "\n",
       "    .dataframe tbody tr th {\n",
       "        vertical-align: top;\n",
       "    }\n",
       "\n",
       "    .dataframe thead th {\n",
       "        text-align: right;\n",
       "    }\n",
       "</style>\n",
       "<table border=\"1\" class=\"dataframe\">\n",
       "  <thead>\n",
       "    <tr style=\"text-align: right;\">\n",
       "      <th></th>\n",
       "      <th>product_id</th>\n",
       "      <th>product_name</th>\n",
       "      <th>aisle_id</th>\n",
       "      <th>department_id</th>\n",
       "      <th>prices</th>\n",
       "      <th>order_id</th>\n",
       "      <th>user_id</th>\n",
       "      <th>order_number</th>\n",
       "      <th>orders_day_of_week</th>\n",
       "      <th>order_hour_of_day</th>\n",
       "      <th>...</th>\n",
       "      <th>Region</th>\n",
       "      <th>Activity_Flag</th>\n",
       "      <th>Generation_flag</th>\n",
       "      <th>Income_flag</th>\n",
       "      <th>Time_flag</th>\n",
       "      <th>Alcohol Order</th>\n",
       "      <th>Parent_Status</th>\n",
       "      <th>Alcohol Drinker</th>\n",
       "      <th>Baby product</th>\n",
       "      <th>Baby product flag</th>\n",
       "    </tr>\n",
       "  </thead>\n",
       "  <tbody>\n",
       "    <tr>\n",
       "      <th>0</th>\n",
       "      <td>1</td>\n",
       "      <td>Chocolate Sandwich Cookies</td>\n",
       "      <td>61</td>\n",
       "      <td>19</td>\n",
       "      <td>5</td>\n",
       "      <td>3139998</td>\n",
       "      <td>138</td>\n",
       "      <td>28</td>\n",
       "      <td>6</td>\n",
       "      <td>11</td>\n",
       "      <td>...</td>\n",
       "      <td>Mideast</td>\n",
       "      <td>High_Activity_Customer</td>\n",
       "      <td>Old-Age customers</td>\n",
       "      <td>Middle Income</td>\n",
       "      <td>Morning Orders</td>\n",
       "      <td>0.0</td>\n",
       "      <td>Old-Age Parents</td>\n",
       "      <td>Not Alcohol Drinker</td>\n",
       "      <td>0.0</td>\n",
       "      <td>Non Baby product buyers</td>\n",
       "    </tr>\n",
       "    <tr>\n",
       "      <th>1</th>\n",
       "      <td>1</td>\n",
       "      <td>Chocolate Sandwich Cookies</td>\n",
       "      <td>61</td>\n",
       "      <td>19</td>\n",
       "      <td>5</td>\n",
       "      <td>1977647</td>\n",
       "      <td>138</td>\n",
       "      <td>30</td>\n",
       "      <td>6</td>\n",
       "      <td>17</td>\n",
       "      <td>...</td>\n",
       "      <td>Mideast</td>\n",
       "      <td>High_Activity_Customer</td>\n",
       "      <td>Old-Age customers</td>\n",
       "      <td>Middle Income</td>\n",
       "      <td>Evening Orders</td>\n",
       "      <td>0.0</td>\n",
       "      <td>Old-Age Parents</td>\n",
       "      <td>Not Alcohol Drinker</td>\n",
       "      <td>0.0</td>\n",
       "      <td>Non Baby product buyers</td>\n",
       "    </tr>\n",
       "    <tr>\n",
       "      <th>2</th>\n",
       "      <td>907</td>\n",
       "      <td>Premium Sliced Bacon</td>\n",
       "      <td>106</td>\n",
       "      <td>12</td>\n",
       "      <td>20</td>\n",
       "      <td>2254091</td>\n",
       "      <td>138</td>\n",
       "      <td>10</td>\n",
       "      <td>5</td>\n",
       "      <td>14</td>\n",
       "      <td>...</td>\n",
       "      <td>Mideast</td>\n",
       "      <td>High_Activity_Customer</td>\n",
       "      <td>Old-Age customers</td>\n",
       "      <td>Middle Income</td>\n",
       "      <td>After noon Orders</td>\n",
       "      <td>0.0</td>\n",
       "      <td>Old-Age Parents</td>\n",
       "      <td>Not Alcohol Drinker</td>\n",
       "      <td>0.0</td>\n",
       "      <td>Non Baby product buyers</td>\n",
       "    </tr>\n",
       "    <tr>\n",
       "      <th>3</th>\n",
       "      <td>1000</td>\n",
       "      <td>Apricots</td>\n",
       "      <td>18</td>\n",
       "      <td>10</td>\n",
       "      <td>12</td>\n",
       "      <td>505689</td>\n",
       "      <td>138</td>\n",
       "      <td>9</td>\n",
       "      <td>6</td>\n",
       "      <td>12</td>\n",
       "      <td>...</td>\n",
       "      <td>Mideast</td>\n",
       "      <td>High_Activity_Customer</td>\n",
       "      <td>Old-Age customers</td>\n",
       "      <td>Middle Income</td>\n",
       "      <td>Morning Orders</td>\n",
       "      <td>0.0</td>\n",
       "      <td>Old-Age Parents</td>\n",
       "      <td>Not Alcohol Drinker</td>\n",
       "      <td>0.0</td>\n",
       "      <td>Non Baby product buyers</td>\n",
       "    </tr>\n",
       "    <tr>\n",
       "      <th>4</th>\n",
       "      <td>3265</td>\n",
       "      <td>Mini Seedless Watermelon Pack</td>\n",
       "      <td>32</td>\n",
       "      <td>4</td>\n",
       "      <td>1</td>\n",
       "      <td>960220</td>\n",
       "      <td>138</td>\n",
       "      <td>17</td>\n",
       "      <td>5</td>\n",
       "      <td>14</td>\n",
       "      <td>...</td>\n",
       "      <td>Mideast</td>\n",
       "      <td>High_Activity_Customer</td>\n",
       "      <td>Old-Age customers</td>\n",
       "      <td>Middle Income</td>\n",
       "      <td>After noon Orders</td>\n",
       "      <td>0.0</td>\n",
       "      <td>Old-Age Parents</td>\n",
       "      <td>Not Alcohol Drinker</td>\n",
       "      <td>0.0</td>\n",
       "      <td>Non Baby product buyers</td>\n",
       "    </tr>\n",
       "  </tbody>\n",
       "</table>\n",
       "<p>5 rows × 45 columns</p>\n",
       "</div>"
      ],
      "text/plain": [
       "   product_id                   product_name  aisle_id  department_id  prices  \\\n",
       "0           1     Chocolate Sandwich Cookies        61             19       5   \n",
       "1           1     Chocolate Sandwich Cookies        61             19       5   \n",
       "2         907           Premium Sliced Bacon       106             12      20   \n",
       "3        1000                       Apricots        18             10      12   \n",
       "4        3265  Mini Seedless Watermelon Pack        32              4       1   \n",
       "\n",
       "   order_id  user_id  order_number  orders_day_of_week  order_hour_of_day  \\\n",
       "0   3139998      138            28                   6                 11   \n",
       "1   1977647      138            30                   6                 17   \n",
       "2   2254091      138            10                   5                 14   \n",
       "3    505689      138             9                   6                 12   \n",
       "4    960220      138            17                   5                 14   \n",
       "\n",
       "   ...   Region           Activity_Flag    Generation_flag    Income_flag  \\\n",
       "0  ...  Mideast  High_Activity_Customer  Old-Age customers  Middle Income   \n",
       "1  ...  Mideast  High_Activity_Customer  Old-Age customers  Middle Income   \n",
       "2  ...  Mideast  High_Activity_Customer  Old-Age customers  Middle Income   \n",
       "3  ...  Mideast  High_Activity_Customer  Old-Age customers  Middle Income   \n",
       "4  ...  Mideast  High_Activity_Customer  Old-Age customers  Middle Income   \n",
       "\n",
       "            Time_flag Alcohol Order    Parent_Status      Alcohol Drinker  \\\n",
       "0      Morning Orders           0.0  Old-Age Parents  Not Alcohol Drinker   \n",
       "1      Evening Orders           0.0  Old-Age Parents  Not Alcohol Drinker   \n",
       "2   After noon Orders           0.0  Old-Age Parents  Not Alcohol Drinker   \n",
       "3      Morning Orders           0.0  Old-Age Parents  Not Alcohol Drinker   \n",
       "4   After noon Orders           0.0  Old-Age Parents  Not Alcohol Drinker   \n",
       "\n",
       "   Baby product        Baby product flag  \n",
       "0           0.0  Non Baby product buyers  \n",
       "1           0.0  Non Baby product buyers  \n",
       "2           0.0  Non Baby product buyers  \n",
       "3           0.0  Non Baby product buyers  \n",
       "4           0.0  Non Baby product buyers  \n",
       "\n",
       "[5 rows x 45 columns]"
      ]
     },
     "execution_count": 74,
     "metadata": {},
     "output_type": "execute_result"
    }
   ],
   "source": [
    "df_final_data.head()"
   ]
  },
  {
   "cell_type": "code",
   "execution_count": 75,
   "id": "ffbdf238",
   "metadata": {},
   "outputs": [
    {
     "data": {
      "text/plain": [
       "Non Baby product buyers    16594684\n",
       "Baby product buyers         7820193\n",
       "Name: Baby product flag, dtype: int64"
      ]
     },
     "execution_count": 75,
     "metadata": {},
     "output_type": "execute_result"
    }
   ],
   "source": [
    "df_final_data['Baby product flag'].value_counts(dropna = False)"
   ]
  },
  {
   "cell_type": "markdown",
   "id": "47edffc8",
   "metadata": {},
   "source": [
    "## Visualization of Profiles distribution\n"
   ]
  },
  {
   "cell_type": "code",
   "execution_count": 179,
   "id": "84fdf90b",
   "metadata": {
    "scrolled": true
   },
   "outputs": [
    {
     "data": {
      "image/png": "[encoded data removed]",
      "text/plain": [
       "<Figure size 432x288 with 1 Axes>"
      ]
     },
     "metadata": {
      "needs_background": "light"
     },
     "output_type": "display_data"
    }
   ],
   "source": [
    "# Creating bar plot for Generation_flag\n",
    "bar_generation_flag = df_final_data['Generation_flag'].value_counts().plot.bar(color=sns.color_palette('YlGnBu_r', 3),ylabel ='Orders',title = 'Generation_flag')\n",
    "plt.tight_layout()"
   ]
  },
  {
   "cell_type": "code",
   "execution_count": 180,
   "id": "467313d8",
   "metadata": {},
   "outputs": [],
   "source": [
    "# Exporting bar plot in image format\n",
    "bar_generation_flag.figure.savefig(os.path.join(path, 'chapter4','Visualization', 'bar_generation_flag.png'))"
   ]
  },
  {
   "cell_type": "code",
   "execution_count": 78,
   "id": "5a6a3524",
   "metadata": {},
   "outputs": [
    {
     "data": {
      "image/png": "[encoded data removed]",
      "text/plain": [
       "<Figure size 432x288 with 1 Axes>"
      ]
     },
     "metadata": {},
     "output_type": "display_data"
    }
   ],
   "source": [
    "pie_income_flag= df_final_data['Income_flag'].value_counts().plot.pie(title = 'Income Profiling')"
   ]
  },
  {
   "cell_type": "code",
   "execution_count": 79,
   "id": "af4cb2f1",
   "metadata": {},
   "outputs": [],
   "source": [
    "# Exporting bar plot in image format\n",
    "pie_income_flag.figure.savefig(os.path.join(path, 'chapter4','Visualization', 'pie_income_flag.png'))"
   ]
  },
  {
   "cell_type": "code",
   "execution_count": 149,
   "id": "dd02b1a2",
   "metadata": {},
   "outputs": [
    {
     "data": {
      "image/png": "[encoded data removed]",
      "text/plain": [
       "<Figure size 432x288 with 1 Axes>"
      ]
     },
     "metadata": {
      "needs_background": "light"
     },
     "output_type": "display_data"
    }
   ],
   "source": [
    "bar_order_time= df_final_data['Time_flag'].value_counts().plot.bar(color = sns.color_palette('YlOrBr_r', 5),ylabel= 'Orders',title= 'Order Time')\n",
    "plt.tight_layout()"
   ]
  },
  {
   "cell_type": "code",
   "execution_count": 150,
   "id": "11dc4c07",
   "metadata": {},
   "outputs": [],
   "source": [
    "bar_order_time.figure.savefig(os.path.join(path, 'chapter4','Visualization', 'bar_order_time.png'))"
   ]
  },
  {
   "cell_type": "code",
   "execution_count": 152,
   "id": "fde05606",
   "metadata": {},
   "outputs": [
    {
     "data": {
      "image/png": "[encoded data removed]",
      "text/plain": [
       "<Figure size 432x288 with 1 Axes>"
      ]
     },
     "metadata": {
      "needs_background": "light"
     },
     "output_type": "display_data"
    }
   ],
   "source": [
    "pie_alcohol_drinkers= df_final_data['Alcohol Drinker'].value_counts().plot.bar(ylabel='Orders',title = 'Alcohol Consumers')\n",
    "plt.tight_layout()"
   ]
  },
  {
   "cell_type": "code",
   "execution_count": 153,
   "id": "13e1459a",
   "metadata": {},
   "outputs": [],
   "source": [
    "pie_alcohol_drinkers.figure.savefig(os.path.join(path, 'chapter4','Visualization', 'bar_alcohol_drinkers.png'))"
   ]
  },
  {
   "cell_type": "code",
   "execution_count": 158,
   "id": "334bcf22",
   "metadata": {},
   "outputs": [
    {
     "data": {
      "image/png": "[encoded data removed]",
      "text/plain": [
       "<Figure size 432x288 with 1 Axes>"
      ]
     },
     "metadata": {
      "needs_background": "light"
     },
     "output_type": "display_data"
    }
   ],
   "source": [
    "bar_baby_product= df_final_data['Baby product flag'].value_counts().plot.bar(color = 'green',ylabel='Orders',title= 'Baby product buyers')\n",
    "plt.tight_layout()"
   ]
  },
  {
   "cell_type": "code",
   "execution_count": 159,
   "id": "58743fa2",
   "metadata": {},
   "outputs": [],
   "source": [
    "bar_baby_product.figure.savefig(os.path.join(path, 'chapter4','Visualization', 'bar_baby_product.png'))\n"
   ]
  },
  {
   "cell_type": "code",
   "execution_count": 160,
   "id": "3828022b",
   "metadata": {},
   "outputs": [
    {
     "data": {
      "image/png": "[encoded data removed]",
      "text/plain": [
       "<Figure size 432x288 with 1 Axes>"
      ]
     },
     "metadata": {
      "needs_background": "light"
     },
     "output_type": "display_data"
    }
   ],
   "source": [
    "# Creating bar plot for parent status\n",
    "bar_Parent_Status=df_final_data['Parent_Status'].value_counts().plot.bar(color=sns.color_palette('YlOrRd_r', 4),ylabel='Orders',title = 'Parent Status')\n",
    "plt.tight_layout()"
   ]
  },
  {
   "cell_type": "code",
   "execution_count": 161,
   "id": "382ac358",
   "metadata": {},
   "outputs": [],
   "source": [
    "# Exporting bar plot in image format\n",
    "bar_Parent_Status.figure.savefig(os.path.join(path, 'chapter4','Visualization', 'bar_parent_status.png'))"
   ]
  },
  {
   "cell_type": "markdown",
   "id": "09e09f8e",
   "metadata": {},
   "source": [
    "## Aggregate the max, mean, and min variables on a customer-profile level "
   ]
  },
  {
   "cell_type": "markdown",
   "id": "ffe6345a",
   "metadata": {},
   "source": [
    "### GENERATION FLAG"
   ]
  },
  {
   "cell_type": "code",
   "execution_count": 88,
   "id": "dfcb58ee",
   "metadata": {},
   "outputs": [
    {
     "data": {
      "text/html": [
       "<div>\n",
       "<style scoped>\n",
       "    .dataframe tbody tr th:only-of-type {\n",
       "        vertical-align: middle;\n",
       "    }\n",
       "\n",
       "    .dataframe tbody tr th {\n",
       "        vertical-align: top;\n",
       "    }\n",
       "\n",
       "    .dataframe thead tr th {\n",
       "        text-align: left;\n",
       "    }\n",
       "\n",
       "    .dataframe thead tr:last-of-type th {\n",
       "        text-align: right;\n",
       "    }\n",
       "</style>\n",
       "<table border=\"1\" class=\"dataframe\">\n",
       "  <thead>\n",
       "    <tr>\n",
       "      <th></th>\n",
       "      <th colspan=\"4\" halign=\"left\">days_since_prior_order</th>\n",
       "    </tr>\n",
       "    <tr>\n",
       "      <th></th>\n",
       "      <th>max</th>\n",
       "      <th>min</th>\n",
       "      <th>mean</th>\n",
       "      <th>median</th>\n",
       "    </tr>\n",
       "    <tr>\n",
       "      <th>Parent_Status</th>\n",
       "      <th></th>\n",
       "      <th></th>\n",
       "      <th></th>\n",
       "      <th></th>\n",
       "    </tr>\n",
       "  </thead>\n",
       "  <tbody>\n",
       "    <tr>\n",
       "      <th>Mid-Age Parents</th>\n",
       "      <td>30.0</td>\n",
       "      <td>0.0</td>\n",
       "      <td>10.098240</td>\n",
       "      <td>7.0</td>\n",
       "    </tr>\n",
       "    <tr>\n",
       "      <th>No Dependants/Not Parents</th>\n",
       "      <td>30.0</td>\n",
       "      <td>0.0</td>\n",
       "      <td>10.063556</td>\n",
       "      <td>7.0</td>\n",
       "    </tr>\n",
       "    <tr>\n",
       "      <th>Old-Age Parents</th>\n",
       "      <td>30.0</td>\n",
       "      <td>0.0</td>\n",
       "      <td>10.092383</td>\n",
       "      <td>7.0</td>\n",
       "    </tr>\n",
       "    <tr>\n",
       "      <th>Young Parents</th>\n",
       "      <td>30.0</td>\n",
       "      <td>0.0</td>\n",
       "      <td>10.084048</td>\n",
       "      <td>7.0</td>\n",
       "    </tr>\n",
       "  </tbody>\n",
       "</table>\n",
       "</div>"
      ],
      "text/plain": [
       "                          days_since_prior_order                       \n",
       "                                             max  min       mean median\n",
       "Parent_Status                                                          \n",
       "Mid-Age Parents                             30.0  0.0  10.098240    7.0\n",
       "No Dependants/Not Parents                   30.0  0.0  10.063556    7.0\n",
       "Old-Age Parents                             30.0  0.0  10.092383    7.0\n",
       "Young Parents                               30.0  0.0  10.084048    7.0"
      ]
     },
     "execution_count": 88,
     "metadata": {},
     "output_type": "execute_result"
    }
   ],
   "source": [
    "df_final_data.groupby('Parent_Status').agg({'days_since_prior_order':['max','min','mean','median']})"
   ]
  },
  {
   "cell_type": "code",
   "execution_count": 89,
   "id": "62e328dd",
   "metadata": {},
   "outputs": [
    {
     "data": {
      "text/html": [
       "<div>\n",
       "<style scoped>\n",
       "    .dataframe tbody tr th:only-of-type {\n",
       "        vertical-align: middle;\n",
       "    }\n",
       "\n",
       "    .dataframe tbody tr th {\n",
       "        vertical-align: top;\n",
       "    }\n",
       "\n",
       "    .dataframe thead tr th {\n",
       "        text-align: left;\n",
       "    }\n",
       "\n",
       "    .dataframe thead tr:last-of-type th {\n",
       "        text-align: right;\n",
       "    }\n",
       "</style>\n",
       "<table border=\"1\" class=\"dataframe\">\n",
       "  <thead>\n",
       "    <tr>\n",
       "      <th></th>\n",
       "      <th colspan=\"4\" halign=\"left\">prices</th>\n",
       "    </tr>\n",
       "    <tr>\n",
       "      <th></th>\n",
       "      <th>max</th>\n",
       "      <th>min</th>\n",
       "      <th>mean</th>\n",
       "      <th>median</th>\n",
       "    </tr>\n",
       "    <tr>\n",
       "      <th>Parent_Status</th>\n",
       "      <th></th>\n",
       "      <th></th>\n",
       "      <th></th>\n",
       "      <th></th>\n",
       "    </tr>\n",
       "  </thead>\n",
       "  <tbody>\n",
       "    <tr>\n",
       "      <th>Mid-Age Parents</th>\n",
       "      <td>99999</td>\n",
       "      <td>1</td>\n",
       "      <td>11.254527</td>\n",
       "      <td>7</td>\n",
       "    </tr>\n",
       "    <tr>\n",
       "      <th>No Dependants/Not Parents</th>\n",
       "      <td>99999</td>\n",
       "      <td>1</td>\n",
       "      <td>11.588416</td>\n",
       "      <td>7</td>\n",
       "    </tr>\n",
       "    <tr>\n",
       "      <th>Old-Age Parents</th>\n",
       "      <td>99999</td>\n",
       "      <td>1</td>\n",
       "      <td>11.241290</td>\n",
       "      <td>7</td>\n",
       "    </tr>\n",
       "    <tr>\n",
       "      <th>Young Parents</th>\n",
       "      <td>99999</td>\n",
       "      <td>1</td>\n",
       "      <td>11.515967</td>\n",
       "      <td>7</td>\n",
       "    </tr>\n",
       "  </tbody>\n",
       "</table>\n",
       "</div>"
      ],
      "text/plain": [
       "                          prices                      \n",
       "                             max min       mean median\n",
       "Parent_Status                                         \n",
       "Mid-Age Parents            99999   1  11.254527      7\n",
       "No Dependants/Not Parents  99999   1  11.588416      7\n",
       "Old-Age Parents            99999   1  11.241290      7\n",
       "Young Parents              99999   1  11.515967      7"
      ]
     },
     "execution_count": 89,
     "metadata": {},
     "output_type": "execute_result"
    }
   ],
   "source": [
    "df_final_data.groupby('Parent_Status').agg({'prices':['max','min','mean','median']})"
   ]
  },
  {
   "cell_type": "code",
   "execution_count": 191,
   "id": "67b12c4b",
   "metadata": {},
   "outputs": [
    {
     "data": {
      "text/html": [
       "<div>\n",
       "<style scoped>\n",
       "    .dataframe tbody tr th:only-of-type {\n",
       "        vertical-align: middle;\n",
       "    }\n",
       "\n",
       "    .dataframe tbody tr th {\n",
       "        vertical-align: top;\n",
       "    }\n",
       "\n",
       "    .dataframe thead tr th {\n",
       "        text-align: left;\n",
       "    }\n",
       "\n",
       "    .dataframe thead tr:last-of-type th {\n",
       "        text-align: right;\n",
       "    }\n",
       "</style>\n",
       "<table border=\"1\" class=\"dataframe\">\n",
       "  <thead>\n",
       "    <tr>\n",
       "      <th></th>\n",
       "      <th colspan=\"4\" halign=\"left\">orders_day_of_week</th>\n",
       "    </tr>\n",
       "    <tr>\n",
       "      <th></th>\n",
       "      <th>max</th>\n",
       "      <th>min</th>\n",
       "      <th>mean</th>\n",
       "      <th>median</th>\n",
       "    </tr>\n",
       "    <tr>\n",
       "      <th>Parent_Status</th>\n",
       "      <th></th>\n",
       "      <th></th>\n",
       "      <th></th>\n",
       "      <th></th>\n",
       "    </tr>\n",
       "  </thead>\n",
       "  <tbody>\n",
       "    <tr>\n",
       "      <th>Mid-Age Parents</th>\n",
       "      <td>6</td>\n",
       "      <td>0</td>\n",
       "      <td>2.751182</td>\n",
       "      <td>3</td>\n",
       "    </tr>\n",
       "    <tr>\n",
       "      <th>No Dependants/Not Parents</th>\n",
       "      <td>6</td>\n",
       "      <td>0</td>\n",
       "      <td>2.741635</td>\n",
       "      <td>3</td>\n",
       "    </tr>\n",
       "    <tr>\n",
       "      <th>Old-Age Parents</th>\n",
       "      <td>6</td>\n",
       "      <td>0</td>\n",
       "      <td>2.753424</td>\n",
       "      <td>3</td>\n",
       "    </tr>\n",
       "    <tr>\n",
       "      <th>Young Parents</th>\n",
       "      <td>6</td>\n",
       "      <td>0</td>\n",
       "      <td>2.744084</td>\n",
       "      <td>3</td>\n",
       "    </tr>\n",
       "  </tbody>\n",
       "</table>\n",
       "</div>"
      ],
      "text/plain": [
       "                          orders_day_of_week                     \n",
       "                                         max min      mean median\n",
       "Parent_Status                                                    \n",
       "Mid-Age Parents                            6   0  2.751182      3\n",
       "No Dependants/Not Parents                  6   0  2.741635      3\n",
       "Old-Age Parents                            6   0  2.753424      3\n",
       "Young Parents                              6   0  2.744084      3"
      ]
     },
     "execution_count": 191,
     "metadata": {},
     "output_type": "execute_result"
    }
   ],
   "source": [
    "df_final_data.groupby('Parent_Status').agg({'orders_day_of_week':['max','min','mean','median']})"
   ]
  },
  {
   "cell_type": "code",
   "execution_count": 194,
   "id": "53570bda",
   "metadata": {},
   "outputs": [
    {
     "data": {
      "text/html": [
       "<div>\n",
       "<style scoped>\n",
       "    .dataframe tbody tr th:only-of-type {\n",
       "        vertical-align: middle;\n",
       "    }\n",
       "\n",
       "    .dataframe tbody tr th {\n",
       "        vertical-align: top;\n",
       "    }\n",
       "\n",
       "    .dataframe thead tr th {\n",
       "        text-align: left;\n",
       "    }\n",
       "\n",
       "    .dataframe thead tr:last-of-type th {\n",
       "        text-align: right;\n",
       "    }\n",
       "</style>\n",
       "<table border=\"1\" class=\"dataframe\">\n",
       "  <thead>\n",
       "    <tr>\n",
       "      <th></th>\n",
       "      <th colspan=\"4\" halign=\"left\">order_hour_of_day</th>\n",
       "    </tr>\n",
       "    <tr>\n",
       "      <th></th>\n",
       "      <th>max</th>\n",
       "      <th>min</th>\n",
       "      <th>mean</th>\n",
       "      <th>median</th>\n",
       "    </tr>\n",
       "    <tr>\n",
       "      <th>Generation_flag</th>\n",
       "      <th></th>\n",
       "      <th></th>\n",
       "      <th></th>\n",
       "      <th></th>\n",
       "    </tr>\n",
       "  </thead>\n",
       "  <tbody>\n",
       "    <tr>\n",
       "      <th>Mid-Age Customers</th>\n",
       "      <td>23</td>\n",
       "      <td>0</td>\n",
       "      <td>13.374808</td>\n",
       "      <td>13</td>\n",
       "    </tr>\n",
       "    <tr>\n",
       "      <th>Old-Age customers</th>\n",
       "      <td>23</td>\n",
       "      <td>0</td>\n",
       "      <td>13.366549</td>\n",
       "      <td>13</td>\n",
       "    </tr>\n",
       "    <tr>\n",
       "      <th>Young customers</th>\n",
       "      <td>23</td>\n",
       "      <td>0</td>\n",
       "      <td>13.338951</td>\n",
       "      <td>13</td>\n",
       "    </tr>\n",
       "  </tbody>\n",
       "</table>\n",
       "</div>"
      ],
      "text/plain": [
       "                  order_hour_of_day                      \n",
       "                                max min       mean median\n",
       "Generation_flag                                          \n",
       "Mid-Age Customers                23   0  13.374808     13\n",
       "Old-Age customers                23   0  13.366549     13\n",
       "Young customers                  23   0  13.338951     13"
      ]
     },
     "execution_count": 194,
     "metadata": {},
     "output_type": "execute_result"
    }
   ],
   "source": [
    "df_final_data.groupby('Generation_flag').agg({'order_hour_of_day':['max','min','mean','median']})"
   ]
  },
  {
   "cell_type": "code",
   "execution_count": 190,
   "id": "81f854e5",
   "metadata": {},
   "outputs": [
    {
     "data": {
      "text/html": [
       "<div>\n",
       "<style scoped>\n",
       "    .dataframe tbody tr th:only-of-type {\n",
       "        vertical-align: middle;\n",
       "    }\n",
       "\n",
       "    .dataframe tbody tr th {\n",
       "        vertical-align: top;\n",
       "    }\n",
       "\n",
       "    .dataframe thead tr th {\n",
       "        text-align: left;\n",
       "    }\n",
       "\n",
       "    .dataframe thead tr:last-of-type th {\n",
       "        text-align: right;\n",
       "    }\n",
       "</style>\n",
       "<table border=\"1\" class=\"dataframe\">\n",
       "  <thead>\n",
       "    <tr>\n",
       "      <th></th>\n",
       "      <th colspan=\"4\" halign=\"left\">orders_day_of_week</th>\n",
       "    </tr>\n",
       "    <tr>\n",
       "      <th></th>\n",
       "      <th>max</th>\n",
       "      <th>min</th>\n",
       "      <th>mean</th>\n",
       "      <th>median</th>\n",
       "    </tr>\n",
       "    <tr>\n",
       "      <th>Generation_flag</th>\n",
       "      <th></th>\n",
       "      <th></th>\n",
       "      <th></th>\n",
       "      <th></th>\n",
       "    </tr>\n",
       "  </thead>\n",
       "  <tbody>\n",
       "    <tr>\n",
       "      <th>Mid-Age Customers</th>\n",
       "      <td>6</td>\n",
       "      <td>0</td>\n",
       "      <td>2.747503</td>\n",
       "      <td>3</td>\n",
       "    </tr>\n",
       "    <tr>\n",
       "      <th>Old-Age customers</th>\n",
       "      <td>6</td>\n",
       "      <td>0</td>\n",
       "      <td>2.755115</td>\n",
       "      <td>3</td>\n",
       "    </tr>\n",
       "    <tr>\n",
       "      <th>Young customers</th>\n",
       "      <td>6</td>\n",
       "      <td>0</td>\n",
       "      <td>2.739426</td>\n",
       "      <td>3</td>\n",
       "    </tr>\n",
       "  </tbody>\n",
       "</table>\n",
       "</div>"
      ],
      "text/plain": [
       "                  orders_day_of_week                     \n",
       "                                 max min      mean median\n",
       "Generation_flag                                          \n",
       "Mid-Age Customers                  6   0  2.747503      3\n",
       "Old-Age customers                  6   0  2.755115      3\n",
       "Young customers                    6   0  2.739426      3"
      ]
     },
     "execution_count": 190,
     "metadata": {},
     "output_type": "execute_result"
    }
   ],
   "source": [
    "df_final_data.groupby('Generation_flag').agg({'orders_day_of_week':['max','min','mean','median']})"
   ]
  },
  {
   "cell_type": "code",
   "execution_count": 90,
   "id": "6e556d26",
   "metadata": {},
   "outputs": [
    {
     "data": {
      "text/html": [
       "<div>\n",
       "<style scoped>\n",
       "    .dataframe tbody tr th:only-of-type {\n",
       "        vertical-align: middle;\n",
       "    }\n",
       "\n",
       "    .dataframe tbody tr th {\n",
       "        vertical-align: top;\n",
       "    }\n",
       "\n",
       "    .dataframe thead tr th {\n",
       "        text-align: left;\n",
       "    }\n",
       "\n",
       "    .dataframe thead tr:last-of-type th {\n",
       "        text-align: right;\n",
       "    }\n",
       "</style>\n",
       "<table border=\"1\" class=\"dataframe\">\n",
       "  <thead>\n",
       "    <tr>\n",
       "      <th></th>\n",
       "      <th colspan=\"4\" halign=\"left\">days_since_prior_order</th>\n",
       "    </tr>\n",
       "    <tr>\n",
       "      <th></th>\n",
       "      <th>max</th>\n",
       "      <th>min</th>\n",
       "      <th>mean</th>\n",
       "      <th>median</th>\n",
       "    </tr>\n",
       "    <tr>\n",
       "      <th>Generation_flag</th>\n",
       "      <th></th>\n",
       "      <th></th>\n",
       "      <th></th>\n",
       "      <th></th>\n",
       "    </tr>\n",
       "  </thead>\n",
       "  <tbody>\n",
       "    <tr>\n",
       "      <th>Mid-Age Customers</th>\n",
       "      <td>30.0</td>\n",
       "      <td>0.0</td>\n",
       "      <td>10.077622</td>\n",
       "      <td>7.0</td>\n",
       "    </tr>\n",
       "    <tr>\n",
       "      <th>Old-Age customers</th>\n",
       "      <td>30.0</td>\n",
       "      <td>0.0</td>\n",
       "      <td>10.078928</td>\n",
       "      <td>7.0</td>\n",
       "    </tr>\n",
       "    <tr>\n",
       "      <th>Young customers</th>\n",
       "      <td>30.0</td>\n",
       "      <td>0.0</td>\n",
       "      <td>10.104539</td>\n",
       "      <td>7.0</td>\n",
       "    </tr>\n",
       "  </tbody>\n",
       "</table>\n",
       "</div>"
      ],
      "text/plain": [
       "                  days_since_prior_order                       \n",
       "                                     max  min       mean median\n",
       "Generation_flag                                                \n",
       "Mid-Age Customers                   30.0  0.0  10.077622    7.0\n",
       "Old-Age customers                   30.0  0.0  10.078928    7.0\n",
       "Young customers                     30.0  0.0  10.104539    7.0"
      ]
     },
     "execution_count": 90,
     "metadata": {},
     "output_type": "execute_result"
    }
   ],
   "source": [
    "df_final_data.groupby('Generation_flag').agg({'days_since_prior_order':['max','min','mean','median']})"
   ]
  },
  {
   "cell_type": "code",
   "execution_count": 91,
   "id": "ceea13ce",
   "metadata": {},
   "outputs": [
    {
     "data": {
      "text/html": [
       "<div>\n",
       "<style scoped>\n",
       "    .dataframe tbody tr th:only-of-type {\n",
       "        vertical-align: middle;\n",
       "    }\n",
       "\n",
       "    .dataframe tbody tr th {\n",
       "        vertical-align: top;\n",
       "    }\n",
       "\n",
       "    .dataframe thead tr th {\n",
       "        text-align: left;\n",
       "    }\n",
       "\n",
       "    .dataframe thead tr:last-of-type th {\n",
       "        text-align: right;\n",
       "    }\n",
       "</style>\n",
       "<table border=\"1\" class=\"dataframe\">\n",
       "  <thead>\n",
       "    <tr>\n",
       "      <th></th>\n",
       "      <th colspan=\"4\" halign=\"left\">prices</th>\n",
       "    </tr>\n",
       "    <tr>\n",
       "      <th></th>\n",
       "      <th>max</th>\n",
       "      <th>min</th>\n",
       "      <th>mean</th>\n",
       "      <th>sum</th>\n",
       "    </tr>\n",
       "    <tr>\n",
       "      <th>Generation_flag</th>\n",
       "      <th></th>\n",
       "      <th></th>\n",
       "      <th></th>\n",
       "      <th></th>\n",
       "    </tr>\n",
       "  </thead>\n",
       "  <tbody>\n",
       "    <tr>\n",
       "      <th>Mid-Age Customers</th>\n",
       "      <td>99999</td>\n",
       "      <td>1</td>\n",
       "      <td>11.421518</td>\n",
       "      <td>109461981</td>\n",
       "    </tr>\n",
       "    <tr>\n",
       "      <th>Old-Age customers</th>\n",
       "      <td>99999</td>\n",
       "      <td>1</td>\n",
       "      <td>11.159775</td>\n",
       "      <td>92967602</td>\n",
       "    </tr>\n",
       "    <tr>\n",
       "      <th>Young customers</th>\n",
       "      <td>99999</td>\n",
       "      <td>1</td>\n",
       "      <td>11.626825</td>\n",
       "      <td>75579492</td>\n",
       "    </tr>\n",
       "  </tbody>\n",
       "</table>\n",
       "</div>"
      ],
      "text/plain": [
       "                  prices                          \n",
       "                     max min       mean        sum\n",
       "Generation_flag                                   \n",
       "Mid-Age Customers  99999   1  11.421518  109461981\n",
       "Old-Age customers  99999   1  11.159775   92967602\n",
       "Young customers    99999   1  11.626825   75579492"
      ]
     },
     "execution_count": 91,
     "metadata": {},
     "output_type": "execute_result"
    }
   ],
   "source": [
    "df_final_data.groupby('Generation_flag').agg({'prices':['max','min','mean','sum']})"
   ]
  },
  {
   "cell_type": "markdown",
   "id": "b837535f",
   "metadata": {},
   "source": [
    "### Income "
   ]
  },
  {
   "cell_type": "code",
   "execution_count": 92,
   "id": "204e9673",
   "metadata": {},
   "outputs": [
    {
     "data": {
      "text/html": [
       "<div>\n",
       "<style scoped>\n",
       "    .dataframe tbody tr th:only-of-type {\n",
       "        vertical-align: middle;\n",
       "    }\n",
       "\n",
       "    .dataframe tbody tr th {\n",
       "        vertical-align: top;\n",
       "    }\n",
       "\n",
       "    .dataframe thead tr th {\n",
       "        text-align: left;\n",
       "    }\n",
       "\n",
       "    .dataframe thead tr:last-of-type th {\n",
       "        text-align: right;\n",
       "    }\n",
       "</style>\n",
       "<table border=\"1\" class=\"dataframe\">\n",
       "  <thead>\n",
       "    <tr>\n",
       "      <th></th>\n",
       "      <th colspan=\"4\" halign=\"left\">days_since_prior_order</th>\n",
       "    </tr>\n",
       "    <tr>\n",
       "      <th></th>\n",
       "      <th>max</th>\n",
       "      <th>min</th>\n",
       "      <th>mean</th>\n",
       "      <th>median</th>\n",
       "    </tr>\n",
       "    <tr>\n",
       "      <th>Income_flag</th>\n",
       "      <th></th>\n",
       "      <th></th>\n",
       "      <th></th>\n",
       "      <th></th>\n",
       "    </tr>\n",
       "  </thead>\n",
       "  <tbody>\n",
       "    <tr>\n",
       "      <th>Higher Income</th>\n",
       "      <td>30.0</td>\n",
       "      <td>0.0</td>\n",
       "      <td>10.037286</td>\n",
       "      <td>7.0</td>\n",
       "    </tr>\n",
       "    <tr>\n",
       "      <th>Lower Income</th>\n",
       "      <td>30.0</td>\n",
       "      <td>0.0</td>\n",
       "      <td>10.442884</td>\n",
       "      <td>7.0</td>\n",
       "    </tr>\n",
       "    <tr>\n",
       "      <th>Middle Income</th>\n",
       "      <td>30.0</td>\n",
       "      <td>0.0</td>\n",
       "      <td>10.068129</td>\n",
       "      <td>7.0</td>\n",
       "    </tr>\n",
       "  </tbody>\n",
       "</table>\n",
       "</div>"
      ],
      "text/plain": [
       "              days_since_prior_order                       \n",
       "                                 max  min       mean median\n",
       "Income_flag                                                \n",
       "Higher Income                   30.0  0.0  10.037286    7.0\n",
       "Lower Income                    30.0  0.0  10.442884    7.0\n",
       "Middle Income                   30.0  0.0  10.068129    7.0"
      ]
     },
     "execution_count": 92,
     "metadata": {},
     "output_type": "execute_result"
    }
   ],
   "source": [
    "df_final_data.groupby('Income_flag').agg({'days_since_prior_order':['max','min','mean','median']})"
   ]
  },
  {
   "cell_type": "code",
   "execution_count": 93,
   "id": "23a32062",
   "metadata": {},
   "outputs": [
    {
     "data": {
      "text/html": [
       "<div>\n",
       "<style scoped>\n",
       "    .dataframe tbody tr th:only-of-type {\n",
       "        vertical-align: middle;\n",
       "    }\n",
       "\n",
       "    .dataframe tbody tr th {\n",
       "        vertical-align: top;\n",
       "    }\n",
       "\n",
       "    .dataframe thead tr th {\n",
       "        text-align: left;\n",
       "    }\n",
       "\n",
       "    .dataframe thead tr:last-of-type th {\n",
       "        text-align: right;\n",
       "    }\n",
       "</style>\n",
       "<table border=\"1\" class=\"dataframe\">\n",
       "  <thead>\n",
       "    <tr>\n",
       "      <th></th>\n",
       "      <th colspan=\"4\" halign=\"left\">orders_day_of_week</th>\n",
       "    </tr>\n",
       "    <tr>\n",
       "      <th></th>\n",
       "      <th>max</th>\n",
       "      <th>min</th>\n",
       "      <th>mean</th>\n",
       "      <th>median</th>\n",
       "    </tr>\n",
       "    <tr>\n",
       "      <th>Income_flag</th>\n",
       "      <th></th>\n",
       "      <th></th>\n",
       "      <th></th>\n",
       "      <th></th>\n",
       "    </tr>\n",
       "  </thead>\n",
       "  <tbody>\n",
       "    <tr>\n",
       "      <th>Higher Income</th>\n",
       "      <td>6</td>\n",
       "      <td>0</td>\n",
       "      <td>2.751367</td>\n",
       "      <td>3</td>\n",
       "    </tr>\n",
       "    <tr>\n",
       "      <th>Lower Income</th>\n",
       "      <td>6</td>\n",
       "      <td>0</td>\n",
       "      <td>2.741256</td>\n",
       "      <td>3</td>\n",
       "    </tr>\n",
       "    <tr>\n",
       "      <th>Middle Income</th>\n",
       "      <td>6</td>\n",
       "      <td>0</td>\n",
       "      <td>2.747344</td>\n",
       "      <td>3</td>\n",
       "    </tr>\n",
       "  </tbody>\n",
       "</table>\n",
       "</div>"
      ],
      "text/plain": [
       "              orders_day_of_week                     \n",
       "                             max min      mean median\n",
       "Income_flag                                          \n",
       "Higher Income                  6   0  2.751367      3\n",
       "Lower Income                   6   0  2.741256      3\n",
       "Middle Income                  6   0  2.747344      3"
      ]
     },
     "execution_count": 93,
     "metadata": {},
     "output_type": "execute_result"
    }
   ],
   "source": [
    "df_final_data.groupby('Income_flag').agg({'orders_day_of_week':['max','min','mean','median']})"
   ]
  },
  {
   "cell_type": "code",
   "execution_count": 94,
   "id": "8213d583",
   "metadata": {},
   "outputs": [
    {
     "data": {
      "text/html": [
       "<div>\n",
       "<style scoped>\n",
       "    .dataframe tbody tr th:only-of-type {\n",
       "        vertical-align: middle;\n",
       "    }\n",
       "\n",
       "    .dataframe tbody tr th {\n",
       "        vertical-align: top;\n",
       "    }\n",
       "\n",
       "    .dataframe thead tr th {\n",
       "        text-align: left;\n",
       "    }\n",
       "\n",
       "    .dataframe thead tr:last-of-type th {\n",
       "        text-align: right;\n",
       "    }\n",
       "</style>\n",
       "<table border=\"1\" class=\"dataframe\">\n",
       "  <thead>\n",
       "    <tr>\n",
       "      <th></th>\n",
       "      <th colspan=\"4\" halign=\"left\">prices</th>\n",
       "    </tr>\n",
       "    <tr>\n",
       "      <th></th>\n",
       "      <th>max</th>\n",
       "      <th>min</th>\n",
       "      <th>mean</th>\n",
       "      <th>sum</th>\n",
       "    </tr>\n",
       "    <tr>\n",
       "      <th>Income_flag</th>\n",
       "      <th></th>\n",
       "      <th></th>\n",
       "      <th></th>\n",
       "      <th></th>\n",
       "    </tr>\n",
       "  </thead>\n",
       "  <tbody>\n",
       "    <tr>\n",
       "      <th>Higher Income</th>\n",
       "      <td>99999</td>\n",
       "      <td>1</td>\n",
       "      <td>21.213463</td>\n",
       "      <td>129911289</td>\n",
       "    </tr>\n",
       "    <tr>\n",
       "      <th>Lower Income</th>\n",
       "      <td>25</td>\n",
       "      <td>1</td>\n",
       "      <td>6.124697</td>\n",
       "      <td>9912296</td>\n",
       "    </tr>\n",
       "    <tr>\n",
       "      <th>Middle Income</th>\n",
       "      <td>99999</td>\n",
       "      <td>1</td>\n",
       "      <td>8.288248</td>\n",
       "      <td>138185490</td>\n",
       "    </tr>\n",
       "  </tbody>\n",
       "</table>\n",
       "</div>"
      ],
      "text/plain": [
       "              prices                          \n",
       "                 max min       mean        sum\n",
       "Income_flag                                   \n",
       "Higher Income  99999   1  21.213463  129911289\n",
       "Lower Income      25   1   6.124697    9912296\n",
       "Middle Income  99999   1   8.288248  138185490"
      ]
     },
     "execution_count": 94,
     "metadata": {},
     "output_type": "execute_result"
    }
   ],
   "source": [
    "df_final_data.groupby('Income_flag').agg({'prices':['max','min','mean','sum']})"
   ]
  },
  {
   "cell_type": "markdown",
   "id": "b599d714",
   "metadata": {},
   "source": [
    "Higher income people spends more than others"
   ]
  },
  {
   "cell_type": "code",
   "execution_count": 95,
   "id": "c1c634bc",
   "metadata": {},
   "outputs": [
    {
     "data": {
      "text/html": [
       "<div>\n",
       "<style scoped>\n",
       "    .dataframe tbody tr th:only-of-type {\n",
       "        vertical-align: middle;\n",
       "    }\n",
       "\n",
       "    .dataframe tbody tr th {\n",
       "        vertical-align: top;\n",
       "    }\n",
       "\n",
       "    .dataframe thead tr th {\n",
       "        text-align: left;\n",
       "    }\n",
       "\n",
       "    .dataframe thead tr:last-of-type th {\n",
       "        text-align: right;\n",
       "    }\n",
       "</style>\n",
       "<table border=\"1\" class=\"dataframe\">\n",
       "  <thead>\n",
       "    <tr>\n",
       "      <th></th>\n",
       "      <th colspan=\"4\" halign=\"left\">prices</th>\n",
       "    </tr>\n",
       "    <tr>\n",
       "      <th></th>\n",
       "      <th>max</th>\n",
       "      <th>min</th>\n",
       "      <th>mean</th>\n",
       "      <th>sum</th>\n",
       "    </tr>\n",
       "    <tr>\n",
       "      <th>Alcohol Drinker</th>\n",
       "      <th></th>\n",
       "      <th></th>\n",
       "      <th></th>\n",
       "      <th></th>\n",
       "    </tr>\n",
       "  </thead>\n",
       "  <tbody>\n",
       "    <tr>\n",
       "      <th>Alcohol Drinker</th>\n",
       "      <td>99999</td>\n",
       "      <td>1</td>\n",
       "      <td>24.016358</td>\n",
       "      <td>39262350</td>\n",
       "    </tr>\n",
       "    <tr>\n",
       "      <th>Not Alcohol Drinker</th>\n",
       "      <td>99999</td>\n",
       "      <td>1</td>\n",
       "      <td>10.480513</td>\n",
       "      <td>238746725</td>\n",
       "    </tr>\n",
       "  </tbody>\n",
       "</table>\n",
       "</div>"
      ],
      "text/plain": [
       "                    prices                          \n",
       "                       max min       mean        sum\n",
       "Alcohol Drinker                                     \n",
       "Alcohol Drinker      99999   1  24.016358   39262350\n",
       "Not Alcohol Drinker  99999   1  10.480513  238746725"
      ]
     },
     "execution_count": 95,
     "metadata": {},
     "output_type": "execute_result"
    }
   ],
   "source": [
    "df_final_data.groupby('Alcohol Drinker').agg({'prices':['max','min','mean','sum']})"
   ]
  },
  {
   "cell_type": "code",
   "execution_count": 96,
   "id": "cb96fe4e",
   "metadata": {},
   "outputs": [
    {
     "data": {
      "text/html": [
       "<div>\n",
       "<style scoped>\n",
       "    .dataframe tbody tr th:only-of-type {\n",
       "        vertical-align: middle;\n",
       "    }\n",
       "\n",
       "    .dataframe tbody tr th {\n",
       "        vertical-align: top;\n",
       "    }\n",
       "\n",
       "    .dataframe thead tr th {\n",
       "        text-align: left;\n",
       "    }\n",
       "\n",
       "    .dataframe thead tr:last-of-type th {\n",
       "        text-align: right;\n",
       "    }\n",
       "</style>\n",
       "<table border=\"1\" class=\"dataframe\">\n",
       "  <thead>\n",
       "    <tr>\n",
       "      <th></th>\n",
       "      <th colspan=\"4\" halign=\"left\">days_since_prior_order</th>\n",
       "    </tr>\n",
       "    <tr>\n",
       "      <th></th>\n",
       "      <th>max</th>\n",
       "      <th>min</th>\n",
       "      <th>mean</th>\n",
       "      <th>sum</th>\n",
       "    </tr>\n",
       "    <tr>\n",
       "      <th>Alcohol Drinker</th>\n",
       "      <th></th>\n",
       "      <th></th>\n",
       "      <th></th>\n",
       "      <th></th>\n",
       "    </tr>\n",
       "  </thead>\n",
       "  <tbody>\n",
       "    <tr>\n",
       "      <th>Alcohol Drinker</th>\n",
       "      <td>30.0</td>\n",
       "      <td>0.0</td>\n",
       "      <td>9.489670</td>\n",
       "      <td>15513874.0</td>\n",
       "    </tr>\n",
       "    <tr>\n",
       "      <th>Not Alcohol Drinker</th>\n",
       "      <td>30.0</td>\n",
       "      <td>0.0</td>\n",
       "      <td>10.127975</td>\n",
       "      <td>230715880.0</td>\n",
       "    </tr>\n",
       "  </tbody>\n",
       "</table>\n",
       "</div>"
      ],
      "text/plain": [
       "                    days_since_prior_order                             \n",
       "                                       max  min       mean          sum\n",
       "Alcohol Drinker                                                        \n",
       "Alcohol Drinker                       30.0  0.0   9.489670   15513874.0\n",
       "Not Alcohol Drinker                   30.0  0.0  10.127975  230715880.0"
      ]
     },
     "execution_count": 96,
     "metadata": {},
     "output_type": "execute_result"
    }
   ],
   "source": [
    "df_final_data.groupby('Alcohol Drinker').agg({'days_since_prior_order':['max','min','mean','sum']})"
   ]
  },
  {
   "cell_type": "markdown",
   "id": "1bed1b34",
   "metadata": {},
   "source": [
    " Alcohol drinkers shop more frequently as compared to non alcohol drinkers."
   ]
  },
  {
   "cell_type": "code",
   "execution_count": 97,
   "id": "51c970e0",
   "metadata": {},
   "outputs": [
    {
     "data": {
      "text/html": [
       "<div>\n",
       "<style scoped>\n",
       "    .dataframe tbody tr th:only-of-type {\n",
       "        vertical-align: middle;\n",
       "    }\n",
       "\n",
       "    .dataframe tbody tr th {\n",
       "        vertical-align: top;\n",
       "    }\n",
       "\n",
       "    .dataframe thead tr th {\n",
       "        text-align: left;\n",
       "    }\n",
       "\n",
       "    .dataframe thead tr:last-of-type th {\n",
       "        text-align: right;\n",
       "    }\n",
       "</style>\n",
       "<table border=\"1\" class=\"dataframe\">\n",
       "  <thead>\n",
       "    <tr>\n",
       "      <th></th>\n",
       "      <th colspan=\"4\" halign=\"left\">days_since_prior_order</th>\n",
       "    </tr>\n",
       "    <tr>\n",
       "      <th></th>\n",
       "      <th>max</th>\n",
       "      <th>min</th>\n",
       "      <th>mean</th>\n",
       "      <th>sum</th>\n",
       "    </tr>\n",
       "    <tr>\n",
       "      <th>Baby product flag</th>\n",
       "      <th></th>\n",
       "      <th></th>\n",
       "      <th></th>\n",
       "      <th></th>\n",
       "    </tr>\n",
       "  </thead>\n",
       "  <tbody>\n",
       "    <tr>\n",
       "      <th>Baby product buyers</th>\n",
       "      <td>30.0</td>\n",
       "      <td>0.0</td>\n",
       "      <td>8.671506</td>\n",
       "      <td>67812853.0</td>\n",
       "    </tr>\n",
       "    <tr>\n",
       "      <th>Non Baby product buyers</th>\n",
       "      <td>30.0</td>\n",
       "      <td>0.0</td>\n",
       "      <td>10.751449</td>\n",
       "      <td>178416901.0</td>\n",
       "    </tr>\n",
       "  </tbody>\n",
       "</table>\n",
       "</div>"
      ],
      "text/plain": [
       "                        days_since_prior_order                             \n",
       "                                           max  min       mean          sum\n",
       "Baby product flag                                                          \n",
       "Baby product buyers                       30.0  0.0   8.671506   67812853.0\n",
       "Non Baby product buyers                   30.0  0.0  10.751449  178416901.0"
      ]
     },
     "execution_count": 97,
     "metadata": {},
     "output_type": "execute_result"
    }
   ],
   "source": [
    "df_final_data.groupby('Baby product flag').agg({'days_since_prior_order':['max','min','mean','sum']})"
   ]
  },
  {
   "cell_type": "markdown",
   "id": "fb9385fd",
   "metadata": {},
   "source": [
    "Baby product buyers shop more frequently as compared to non Baby product buyers."
   ]
  },
  {
   "cell_type": "code",
   "execution_count": 98,
   "id": "f8875d2d",
   "metadata": {},
   "outputs": [
    {
     "data": {
      "text/html": [
       "<div>\n",
       "<style scoped>\n",
       "    .dataframe tbody tr th:only-of-type {\n",
       "        vertical-align: middle;\n",
       "    }\n",
       "\n",
       "    .dataframe tbody tr th {\n",
       "        vertical-align: top;\n",
       "    }\n",
       "\n",
       "    .dataframe thead tr th {\n",
       "        text-align: left;\n",
       "    }\n",
       "\n",
       "    .dataframe thead tr:last-of-type th {\n",
       "        text-align: right;\n",
       "    }\n",
       "</style>\n",
       "<table border=\"1\" class=\"dataframe\">\n",
       "  <thead>\n",
       "    <tr>\n",
       "      <th></th>\n",
       "      <th colspan=\"4\" halign=\"left\">prices</th>\n",
       "    </tr>\n",
       "    <tr>\n",
       "      <th></th>\n",
       "      <th>max</th>\n",
       "      <th>min</th>\n",
       "      <th>mean</th>\n",
       "      <th>sum</th>\n",
       "    </tr>\n",
       "    <tr>\n",
       "      <th>Baby product flag</th>\n",
       "      <th></th>\n",
       "      <th></th>\n",
       "      <th></th>\n",
       "      <th></th>\n",
       "    </tr>\n",
       "  </thead>\n",
       "  <tbody>\n",
       "    <tr>\n",
       "      <th>Baby product buyers</th>\n",
       "      <td>99999</td>\n",
       "      <td>1</td>\n",
       "      <td>10.122010</td>\n",
       "      <td>79156072</td>\n",
       "    </tr>\n",
       "    <tr>\n",
       "      <th>Non Baby product buyers</th>\n",
       "      <td>99999</td>\n",
       "      <td>1</td>\n",
       "      <td>11.982934</td>\n",
       "      <td>198853003</td>\n",
       "    </tr>\n",
       "  </tbody>\n",
       "</table>\n",
       "</div>"
      ],
      "text/plain": [
       "                        prices                          \n",
       "                           max min       mean        sum\n",
       "Baby product flag                                       \n",
       "Baby product buyers      99999   1  10.122010   79156072\n",
       "Non Baby product buyers  99999   1  11.982934  198853003"
      ]
     },
     "execution_count": 98,
     "metadata": {},
     "output_type": "execute_result"
    }
   ],
   "source": [
    "df_final_data.groupby('Baby product flag').agg({'prices':['max','min','mean','sum']})"
   ]
  },
  {
   "cell_type": "code",
   "execution_count": null,
   "id": "725f8689",
   "metadata": {},
   "outputs": [],
   "source": [
    "\n"
   ]
  },
  {
   "cell_type": "code",
   "execution_count": null,
   "id": "f999919c",
   "metadata": {},
   "outputs": [],
   "source": []
  },
  {
   "cell_type": "code",
   "execution_count": null,
   "id": "f5018d66",
   "metadata": {},
   "outputs": [],
   "source": []
  },
  {
   "cell_type": "code",
   "execution_count": null,
   "id": "cec6d713",
   "metadata": {},
   "outputs": [],
   "source": []
  },
  {
   "cell_type": "code",
   "execution_count": null,
   "id": "0d8ed142",
   "metadata": {},
   "outputs": [],
   "source": []
  },
  {
   "cell_type": "markdown",
   "id": "d24ed076",
   "metadata": {},
   "source": [
    "## Compare  customer profiles with regions and departments\n"
   ]
  },
  {
   "cell_type": "code",
   "execution_count": 99,
   "id": "260f40cb",
   "metadata": {},
   "outputs": [],
   "source": [
    "# First we will create customers profiles with regions and departments\n",
    "df_customer_profile = df_final_data[['user_id', 'Region', 'department_id', 'Generation_flag', 'Income_flag', 'Alcohol Drinker', 'Baby product flag']]\n"
   ]
  },
  {
   "cell_type": "code",
   "execution_count": 100,
   "id": "b1b238ac",
   "metadata": {},
   "outputs": [
    {
     "data": {
      "text/plain": [
       "(24414877, 7)"
      ]
     },
     "execution_count": 100,
     "metadata": {},
     "output_type": "execute_result"
    }
   ],
   "source": [
    "df_customer_profile.shape"
   ]
  },
  {
   "cell_type": "code",
   "execution_count": 101,
   "id": "8540ab86",
   "metadata": {},
   "outputs": [
    {
     "data": {
      "text/html": [
       "<div>\n",
       "<style scoped>\n",
       "    .dataframe tbody tr th:only-of-type {\n",
       "        vertical-align: middle;\n",
       "    }\n",
       "\n",
       "    .dataframe tbody tr th {\n",
       "        vertical-align: top;\n",
       "    }\n",
       "\n",
       "    .dataframe thead th {\n",
       "        text-align: right;\n",
       "    }\n",
       "</style>\n",
       "<table border=\"1\" class=\"dataframe\">\n",
       "  <thead>\n",
       "    <tr style=\"text-align: right;\">\n",
       "      <th></th>\n",
       "      <th>user_id</th>\n",
       "      <th>Region</th>\n",
       "      <th>department_id</th>\n",
       "      <th>Generation_flag</th>\n",
       "      <th>Income_flag</th>\n",
       "      <th>Alcohol Drinker</th>\n",
       "      <th>Baby product flag</th>\n",
       "    </tr>\n",
       "  </thead>\n",
       "  <tbody>\n",
       "    <tr>\n",
       "      <th>0</th>\n",
       "      <td>138</td>\n",
       "      <td>Mideast</td>\n",
       "      <td>19</td>\n",
       "      <td>Old-Age customers</td>\n",
       "      <td>Middle Income</td>\n",
       "      <td>Not Alcohol Drinker</td>\n",
       "      <td>Non Baby product buyers</td>\n",
       "    </tr>\n",
       "    <tr>\n",
       "      <th>1</th>\n",
       "      <td>138</td>\n",
       "      <td>Mideast</td>\n",
       "      <td>19</td>\n",
       "      <td>Old-Age customers</td>\n",
       "      <td>Middle Income</td>\n",
       "      <td>Not Alcohol Drinker</td>\n",
       "      <td>Non Baby product buyers</td>\n",
       "    </tr>\n",
       "    <tr>\n",
       "      <th>2</th>\n",
       "      <td>138</td>\n",
       "      <td>Mideast</td>\n",
       "      <td>12</td>\n",
       "      <td>Old-Age customers</td>\n",
       "      <td>Middle Income</td>\n",
       "      <td>Not Alcohol Drinker</td>\n",
       "      <td>Non Baby product buyers</td>\n",
       "    </tr>\n",
       "    <tr>\n",
       "      <th>3</th>\n",
       "      <td>138</td>\n",
       "      <td>Mideast</td>\n",
       "      <td>10</td>\n",
       "      <td>Old-Age customers</td>\n",
       "      <td>Middle Income</td>\n",
       "      <td>Not Alcohol Drinker</td>\n",
       "      <td>Non Baby product buyers</td>\n",
       "    </tr>\n",
       "    <tr>\n",
       "      <th>4</th>\n",
       "      <td>138</td>\n",
       "      <td>Mideast</td>\n",
       "      <td>4</td>\n",
       "      <td>Old-Age customers</td>\n",
       "      <td>Middle Income</td>\n",
       "      <td>Not Alcohol Drinker</td>\n",
       "      <td>Non Baby product buyers</td>\n",
       "    </tr>\n",
       "  </tbody>\n",
       "</table>\n",
       "</div>"
      ],
      "text/plain": [
       "   user_id   Region  department_id    Generation_flag    Income_flag  \\\n",
       "0      138  Mideast             19  Old-Age customers  Middle Income   \n",
       "1      138  Mideast             19  Old-Age customers  Middle Income   \n",
       "2      138  Mideast             12  Old-Age customers  Middle Income   \n",
       "3      138  Mideast             10  Old-Age customers  Middle Income   \n",
       "4      138  Mideast              4  Old-Age customers  Middle Income   \n",
       "\n",
       "       Alcohol Drinker        Baby product flag  \n",
       "0  Not Alcohol Drinker  Non Baby product buyers  \n",
       "1  Not Alcohol Drinker  Non Baby product buyers  \n",
       "2  Not Alcohol Drinker  Non Baby product buyers  \n",
       "3  Not Alcohol Drinker  Non Baby product buyers  \n",
       "4  Not Alcohol Drinker  Non Baby product buyers  "
      ]
     },
     "execution_count": 101,
     "metadata": {},
     "output_type": "execute_result"
    }
   ],
   "source": [
    "df_customer_profile.head()"
   ]
  },
  {
   "cell_type": "markdown",
   "id": "4e297187",
   "metadata": {},
   "source": [
    "## Generation flag profile with department and region"
   ]
  },
  {
   "cell_type": "code",
   "execution_count": 102,
   "id": "ade9c7c0",
   "metadata": {},
   "outputs": [],
   "source": [
    "\n",
    "# Generation flag by department\n",
    "crosstab_generation_dept = pd.crosstab(df_customer_profile['department_id'],df_customer_profile['Generation_flag'], dropna=False )\n"
   ]
  },
  {
   "cell_type": "code",
   "execution_count": 103,
   "id": "384d7c8b",
   "metadata": {},
   "outputs": [
    {
     "data": {
      "text/html": [
       "<div>\n",
       "<style scoped>\n",
       "    .dataframe tbody tr th:only-of-type {\n",
       "        vertical-align: middle;\n",
       "    }\n",
       "\n",
       "    .dataframe tbody tr th {\n",
       "        vertical-align: top;\n",
       "    }\n",
       "\n",
       "    .dataframe thead th {\n",
       "        text-align: right;\n",
       "    }\n",
       "</style>\n",
       "<table border=\"1\" class=\"dataframe\">\n",
       "  <thead>\n",
       "    <tr style=\"text-align: right;\">\n",
       "      <th>Generation_flag</th>\n",
       "      <th>Mid-Age Customers</th>\n",
       "      <th>Old-Age customers</th>\n",
       "      <th>Young customers</th>\n",
       "    </tr>\n",
       "    <tr>\n",
       "      <th>department_id</th>\n",
       "      <th></th>\n",
       "      <th></th>\n",
       "      <th></th>\n",
       "    </tr>\n",
       "  </thead>\n",
       "  <tbody>\n",
       "    <tr>\n",
       "      <th>1</th>\n",
       "      <td>638365</td>\n",
       "      <td>559278</td>\n",
       "      <td>429971</td>\n",
       "    </tr>\n",
       "    <tr>\n",
       "      <th>2</th>\n",
       "      <td>10550</td>\n",
       "      <td>9125</td>\n",
       "      <td>7491</td>\n",
       "    </tr>\n",
       "    <tr>\n",
       "      <th>3</th>\n",
       "      <td>346544</td>\n",
       "      <td>301343</td>\n",
       "      <td>235443</td>\n",
       "    </tr>\n",
       "    <tr>\n",
       "      <th>4</th>\n",
       "      <td>2837442</td>\n",
       "      <td>2469024</td>\n",
       "      <td>1920625</td>\n",
       "    </tr>\n",
       "    <tr>\n",
       "      <th>5</th>\n",
       "      <td>42502</td>\n",
       "      <td>35322</td>\n",
       "      <td>30148</td>\n",
       "    </tr>\n",
       "    <tr>\n",
       "      <th>6</th>\n",
       "      <td>77789</td>\n",
       "      <td>66658</td>\n",
       "      <td>53453</td>\n",
       "    </tr>\n",
       "    <tr>\n",
       "      <th>7</th>\n",
       "      <td>799286</td>\n",
       "      <td>700382</td>\n",
       "      <td>536779</td>\n",
       "    </tr>\n",
       "    <tr>\n",
       "      <th>8</th>\n",
       "      <td>28015</td>\n",
       "      <td>24746</td>\n",
       "      <td>19350</td>\n",
       "    </tr>\n",
       "    <tr>\n",
       "      <th>9</th>\n",
       "      <td>248616</td>\n",
       "      <td>215562</td>\n",
       "      <td>169547</td>\n",
       "    </tr>\n",
       "    <tr>\n",
       "      <th>10</th>\n",
       "      <td>10708</td>\n",
       "      <td>9438</td>\n",
       "      <td>7412</td>\n",
       "    </tr>\n",
       "    <tr>\n",
       "      <th>11</th>\n",
       "      <td>130541</td>\n",
       "      <td>110943</td>\n",
       "      <td>86996</td>\n",
       "    </tr>\n",
       "    <tr>\n",
       "      <th>12</th>\n",
       "      <td>204256</td>\n",
       "      <td>180452</td>\n",
       "      <td>139182</td>\n",
       "    </tr>\n",
       "    <tr>\n",
       "      <th>13</th>\n",
       "      <td>543037</td>\n",
       "      <td>473407</td>\n",
       "      <td>368931</td>\n",
       "    </tr>\n",
       "    <tr>\n",
       "      <th>14</th>\n",
       "      <td>205663</td>\n",
       "      <td>178005</td>\n",
       "      <td>141277</td>\n",
       "    </tr>\n",
       "    <tr>\n",
       "      <th>15</th>\n",
       "      <td>309919</td>\n",
       "      <td>267322</td>\n",
       "      <td>210549</td>\n",
       "    </tr>\n",
       "    <tr>\n",
       "      <th>16</th>\n",
       "      <td>1615590</td>\n",
       "      <td>1400710</td>\n",
       "      <td>1104188</td>\n",
       "    </tr>\n",
       "    <tr>\n",
       "      <th>17</th>\n",
       "      <td>211814</td>\n",
       "      <td>185339</td>\n",
       "      <td>142196</td>\n",
       "    </tr>\n",
       "    <tr>\n",
       "      <th>18</th>\n",
       "      <td>135413</td>\n",
       "      <td>113133</td>\n",
       "      <td>87401</td>\n",
       "    </tr>\n",
       "    <tr>\n",
       "      <th>19</th>\n",
       "      <td>858084</td>\n",
       "      <td>743282</td>\n",
       "      <td>585755</td>\n",
       "    </tr>\n",
       "    <tr>\n",
       "      <th>20</th>\n",
       "      <td>307267</td>\n",
       "      <td>267828</td>\n",
       "      <td>207916</td>\n",
       "    </tr>\n",
       "    <tr>\n",
       "      <th>21</th>\n",
       "      <td>22437</td>\n",
       "      <td>19299</td>\n",
       "      <td>15831</td>\n",
       "    </tr>\n",
       "  </tbody>\n",
       "</table>\n",
       "</div>"
      ],
      "text/plain": [
       "Generation_flag  Mid-Age Customers  Old-Age customers  Young customers\n",
       "department_id                                                         \n",
       "1                           638365             559278           429971\n",
       "2                            10550               9125             7491\n",
       "3                           346544             301343           235443\n",
       "4                          2837442            2469024          1920625\n",
       "5                            42502              35322            30148\n",
       "6                            77789              66658            53453\n",
       "7                           799286             700382           536779\n",
       "8                            28015              24746            19350\n",
       "9                           248616             215562           169547\n",
       "10                           10708               9438             7412\n",
       "11                          130541             110943            86996\n",
       "12                          204256             180452           139182\n",
       "13                          543037             473407           368931\n",
       "14                          205663             178005           141277\n",
       "15                          309919             267322           210549\n",
       "16                         1615590            1400710          1104188\n",
       "17                          211814             185339           142196\n",
       "18                          135413             113133            87401\n",
       "19                          858084             743282           585755\n",
       "20                          307267             267828           207916\n",
       "21                           22437              19299            15831"
      ]
     },
     "execution_count": 103,
     "metadata": {},
     "output_type": "execute_result"
    }
   ],
   "source": [
    "crosstab_generation_dept"
   ]
  },
  {
   "cell_type": "code",
   "execution_count": 163,
   "id": "14edfc73",
   "metadata": {},
   "outputs": [
    {
     "data": {
      "image/png": "[encoded data removed]",
      "text/plain": [
       "<Figure size 432x288 with 1 Axes>"
      ]
     },
     "metadata": {
      "needs_background": "light"
     },
     "output_type": "display_data"
    }
   ],
   "source": [
    "# Stacked bar plot for generation department\n",
    "generation_dept_stacked_bar = crosstab_generation_dept.plot.bar(stacked= True, color= sns.color_palette('YlGnBu_r', 3), ylabel='Orders',title = 'Generation and Department Relationship')\n",
    "plt.tight_layout()"
   ]
  },
  {
   "cell_type": "code",
   "execution_count": 164,
   "id": "36d563a1",
   "metadata": {},
   "outputs": [],
   "source": [
    "# Exporting bar chart\n",
    "generation_dept_stacked_bar.figure.savefig(os.path.join(path, 'chapter4','Visualization', 'generation_department_stacked_bar.png'))"
   ]
  },
  {
   "cell_type": "code",
   "execution_count": 106,
   "id": "7241b1f2",
   "metadata": {},
   "outputs": [],
   "source": [
    "# Generation flag by region\n",
    "crosstab_generation_region = pd.crosstab(df_customer_profile['Region'],df_customer_profile['Generation_flag'], dropna=False)"
   ]
  },
  {
   "cell_type": "code",
   "execution_count": 107,
   "id": "bd0f4bb8",
   "metadata": {},
   "outputs": [
    {
     "data": {
      "text/html": [
       "<div>\n",
       "<style scoped>\n",
       "    .dataframe tbody tr th:only-of-type {\n",
       "        vertical-align: middle;\n",
       "    }\n",
       "\n",
       "    .dataframe tbody tr th {\n",
       "        vertical-align: top;\n",
       "    }\n",
       "\n",
       "    .dataframe thead th {\n",
       "        text-align: right;\n",
       "    }\n",
       "</style>\n",
       "<table border=\"1\" class=\"dataframe\">\n",
       "  <thead>\n",
       "    <tr style=\"text-align: right;\">\n",
       "      <th>Generation_flag</th>\n",
       "      <th>Mid-Age Customers</th>\n",
       "      <th>Old-Age customers</th>\n",
       "      <th>Young customers</th>\n",
       "    </tr>\n",
       "    <tr>\n",
       "      <th>Region</th>\n",
       "      <th></th>\n",
       "      <th></th>\n",
       "      <th></th>\n",
       "    </tr>\n",
       "  </thead>\n",
       "  <tbody>\n",
       "    <tr>\n",
       "      <th>Mideast</th>\n",
       "      <td>2284770</td>\n",
       "      <td>1924052</td>\n",
       "      <td>1502934</td>\n",
       "    </tr>\n",
       "    <tr>\n",
       "      <th>Northeast</th>\n",
       "      <td>1662207</td>\n",
       "      <td>1489666</td>\n",
       "      <td>1163398</td>\n",
       "    </tr>\n",
       "    <tr>\n",
       "      <th>South</th>\n",
       "      <td>3170149</td>\n",
       "      <td>2774857</td>\n",
       "      <td>2184080</td>\n",
       "    </tr>\n",
       "    <tr>\n",
       "      <th>West</th>\n",
       "      <td>2466712</td>\n",
       "      <td>2142023</td>\n",
       "      <td>1650029</td>\n",
       "    </tr>\n",
       "  </tbody>\n",
       "</table>\n",
       "</div>"
      ],
      "text/plain": [
       "Generation_flag  Mid-Age Customers  Old-Age customers  Young customers\n",
       "Region                                                                \n",
       "Mideast                    2284770            1924052          1502934\n",
       "Northeast                  1662207            1489666          1163398\n",
       "South                      3170149            2774857          2184080\n",
       "West                       2466712            2142023          1650029"
      ]
     },
     "execution_count": 107,
     "metadata": {},
     "output_type": "execute_result"
    }
   ],
   "source": [
    "crosstab_generation_region"
   ]
  },
  {
   "cell_type": "code",
   "execution_count": 181,
   "id": "fe02737f",
   "metadata": {},
   "outputs": [
    {
     "data": {
      "image/png": "[encoded data removed]",
      "text/plain": [
       "<Figure size 432x288 with 1 Axes>"
      ]
     },
     "metadata": {
      "needs_background": "light"
     },
     "output_type": "display_data"
    }
   ],
   "source": [
    "# Stacked bar plot for generation department\n",
    "generation_region_stacked_bar = crosstab_generation_region.plot.bar(stacked= True,color=sns.color_palette('YlOrRd_r', 3),ylabel='Orders', title = 'Generation and Region Relationspltionship')\n",
    "plt.tight_layout()"
   ]
  },
  {
   "cell_type": "code",
   "execution_count": 182,
   "id": "5ecb34ba",
   "metadata": {},
   "outputs": [],
   "source": [
    "# Exporting bar chart\n",
    "generation_region_stacked_bar.figure.savefig(os.path.join(path, 'chapter4','Visualization', 'generation_region_stacked_bar.png'))"
   ]
  },
  {
   "cell_type": "markdown",
   "id": "6a34b225",
   "metadata": {},
   "source": [
    "## Income profile with department and region\n"
   ]
  },
  {
   "cell_type": "code",
   "execution_count": 110,
   "id": "91870dc3",
   "metadata": {},
   "outputs": [],
   "source": [
    "# Income status by department\n",
    "crosstab_income_dept = pd.crosstab(df_customer_profile['department_id'],df_customer_profile['Income_flag'], dropna=False )\n"
   ]
  },
  {
   "cell_type": "code",
   "execution_count": 111,
   "id": "b89d27ce",
   "metadata": {},
   "outputs": [
    {
     "data": {
      "text/html": [
       "<div>\n",
       "<style scoped>\n",
       "    .dataframe tbody tr th:only-of-type {\n",
       "        vertical-align: middle;\n",
       "    }\n",
       "\n",
       "    .dataframe tbody tr th {\n",
       "        vertical-align: top;\n",
       "    }\n",
       "\n",
       "    .dataframe thead th {\n",
       "        text-align: right;\n",
       "    }\n",
       "</style>\n",
       "<table border=\"1\" class=\"dataframe\">\n",
       "  <thead>\n",
       "    <tr style=\"text-align: right;\">\n",
       "      <th>Income_flag</th>\n",
       "      <th>Higher Income</th>\n",
       "      <th>Lower Income</th>\n",
       "      <th>Middle Income</th>\n",
       "    </tr>\n",
       "    <tr>\n",
       "      <th>department_id</th>\n",
       "      <th></th>\n",
       "      <th></th>\n",
       "      <th></th>\n",
       "    </tr>\n",
       "  </thead>\n",
       "  <tbody>\n",
       "    <tr>\n",
       "      <th>1</th>\n",
       "      <td>418152</td>\n",
       "      <td>99903</td>\n",
       "      <td>1109559</td>\n",
       "    </tr>\n",
       "    <tr>\n",
       "      <th>2</th>\n",
       "      <td>6925</td>\n",
       "      <td>1918</td>\n",
       "      <td>18323</td>\n",
       "    </tr>\n",
       "    <tr>\n",
       "      <th>3</th>\n",
       "      <td>230059</td>\n",
       "      <td>49309</td>\n",
       "      <td>603962</td>\n",
       "    </tr>\n",
       "    <tr>\n",
       "      <th>4</th>\n",
       "      <td>1826609</td>\n",
       "      <td>387955</td>\n",
       "      <td>5012527</td>\n",
       "    </tr>\n",
       "    <tr>\n",
       "      <th>5</th>\n",
       "      <td>31353</td>\n",
       "      <td>7619</td>\n",
       "      <td>69000</td>\n",
       "    </tr>\n",
       "    <tr>\n",
       "      <th>6</th>\n",
       "      <td>50635</td>\n",
       "      <td>9839</td>\n",
       "      <td>137426</td>\n",
       "    </tr>\n",
       "    <tr>\n",
       "      <th>7</th>\n",
       "      <td>491879</td>\n",
       "      <td>194261</td>\n",
       "      <td>1350307</td>\n",
       "    </tr>\n",
       "    <tr>\n",
       "      <th>8</th>\n",
       "      <td>19489</td>\n",
       "      <td>4397</td>\n",
       "      <td>48225</td>\n",
       "    </tr>\n",
       "    <tr>\n",
       "      <th>9</th>\n",
       "      <td>164762</td>\n",
       "      <td>28127</td>\n",
       "      <td>440836</td>\n",
       "    </tr>\n",
       "    <tr>\n",
       "      <th>10</th>\n",
       "      <td>6151</td>\n",
       "      <td>2403</td>\n",
       "      <td>19004</td>\n",
       "    </tr>\n",
       "    <tr>\n",
       "      <th>11</th>\n",
       "      <td>82469</td>\n",
       "      <td>22466</td>\n",
       "      <td>223545</td>\n",
       "    </tr>\n",
       "    <tr>\n",
       "      <th>12</th>\n",
       "      <td>142801</td>\n",
       "      <td>13134</td>\n",
       "      <td>367955</td>\n",
       "    </tr>\n",
       "    <tr>\n",
       "      <th>13</th>\n",
       "      <td>356339</td>\n",
       "      <td>76216</td>\n",
       "      <td>952820</td>\n",
       "    </tr>\n",
       "    <tr>\n",
       "      <th>14</th>\n",
       "      <td>127738</td>\n",
       "      <td>45875</td>\n",
       "      <td>351332</td>\n",
       "    </tr>\n",
       "    <tr>\n",
       "      <th>15</th>\n",
       "      <td>207792</td>\n",
       "      <td>34835</td>\n",
       "      <td>545163</td>\n",
       "    </tr>\n",
       "    <tr>\n",
       "      <th>16</th>\n",
       "      <td>1048463</td>\n",
       "      <td>240147</td>\n",
       "      <td>2831878</td>\n",
       "    </tr>\n",
       "    <tr>\n",
       "      <th>17</th>\n",
       "      <td>137418</td>\n",
       "      <td>41644</td>\n",
       "      <td>360287</td>\n",
       "    </tr>\n",
       "    <tr>\n",
       "      <th>18</th>\n",
       "      <td>86913</td>\n",
       "      <td>13259</td>\n",
       "      <td>235775</td>\n",
       "    </tr>\n",
       "    <tr>\n",
       "      <th>19</th>\n",
       "      <td>476895</td>\n",
       "      <td>290257</td>\n",
       "      <td>1419969</td>\n",
       "    </tr>\n",
       "    <tr>\n",
       "      <th>20</th>\n",
       "      <td>196622</td>\n",
       "      <td>51260</td>\n",
       "      <td>535129</td>\n",
       "    </tr>\n",
       "    <tr>\n",
       "      <th>21</th>\n",
       "      <td>14538</td>\n",
       "      <td>3590</td>\n",
       "      <td>39439</td>\n",
       "    </tr>\n",
       "  </tbody>\n",
       "</table>\n",
       "</div>"
      ],
      "text/plain": [
       "Income_flag    Higher Income  Lower Income  Middle Income\n",
       "department_id                                            \n",
       "1                     418152         99903        1109559\n",
       "2                       6925          1918          18323\n",
       "3                     230059         49309         603962\n",
       "4                    1826609        387955        5012527\n",
       "5                      31353          7619          69000\n",
       "6                      50635          9839         137426\n",
       "7                     491879        194261        1350307\n",
       "8                      19489          4397          48225\n",
       "9                     164762         28127         440836\n",
       "10                      6151          2403          19004\n",
       "11                     82469         22466         223545\n",
       "12                    142801         13134         367955\n",
       "13                    356339         76216         952820\n",
       "14                    127738         45875         351332\n",
       "15                    207792         34835         545163\n",
       "16                   1048463        240147        2831878\n",
       "17                    137418         41644         360287\n",
       "18                     86913         13259         235775\n",
       "19                    476895        290257        1419969\n",
       "20                    196622         51260         535129\n",
       "21                     14538          3590          39439"
      ]
     },
     "execution_count": 111,
     "metadata": {},
     "output_type": "execute_result"
    }
   ],
   "source": [
    "crosstab_income_dept"
   ]
  },
  {
   "cell_type": "code",
   "execution_count": 168,
   "id": "7b8f3a63",
   "metadata": {},
   "outputs": [
    {
     "data": {
      "image/png": "[encoded data removed]",
      "text/plain": [
       "<Figure size 432x288 with 1 Axes>"
      ]
     },
     "metadata": {
      "needs_background": "light"
     },
     "output_type": "display_data"
    }
   ],
   "source": [
    "# Stacked bar plot for income department\n",
    "income_dept_stacked_bar = crosstab_income_dept.plot.bar(stacked= True,color=sns.color_palette('YlOrRd_r', 3), ylabel='Orders',title = 'Income level and Department Relationship')\n",
    "plt.tight_layout()"
   ]
  },
  {
   "cell_type": "code",
   "execution_count": 169,
   "id": "3fff8f84",
   "metadata": {},
   "outputs": [],
   "source": [
    "# Exporting bar chart\n",
    "income_dept_stacked_bar.figure.savefig(os.path.join(path, 'chapter4','Visualization', 'income_department_stacked_bar.png'))"
   ]
  },
  {
   "cell_type": "code",
   "execution_count": 114,
   "id": "a1da6c9e",
   "metadata": {},
   "outputs": [],
   "source": [
    "# Income status by region\n",
    "crosstab_income_region = pd.crosstab(df_customer_profile['Region'],df_customer_profile['Income_flag'], dropna=False )\n"
   ]
  },
  {
   "cell_type": "code",
   "execution_count": 115,
   "id": "74bb0e10",
   "metadata": {},
   "outputs": [
    {
     "data": {
      "text/html": [
       "<div>\n",
       "<style scoped>\n",
       "    .dataframe tbody tr th:only-of-type {\n",
       "        vertical-align: middle;\n",
       "    }\n",
       "\n",
       "    .dataframe tbody tr th {\n",
       "        vertical-align: top;\n",
       "    }\n",
       "\n",
       "    .dataframe thead th {\n",
       "        text-align: right;\n",
       "    }\n",
       "</style>\n",
       "<table border=\"1\" class=\"dataframe\">\n",
       "  <thead>\n",
       "    <tr style=\"text-align: right;\">\n",
       "      <th>Income_flag</th>\n",
       "      <th>Higher Income</th>\n",
       "      <th>Lower Income</th>\n",
       "      <th>Middle Income</th>\n",
       "    </tr>\n",
       "    <tr>\n",
       "      <th>Region</th>\n",
       "      <th></th>\n",
       "      <th></th>\n",
       "      <th></th>\n",
       "    </tr>\n",
       "  </thead>\n",
       "  <tbody>\n",
       "    <tr>\n",
       "      <th>Mideast</th>\n",
       "      <td>1456024</td>\n",
       "      <td>370703</td>\n",
       "      <td>3885029</td>\n",
       "    </tr>\n",
       "    <tr>\n",
       "      <th>Northeast</th>\n",
       "      <td>1083488</td>\n",
       "      <td>288083</td>\n",
       "      <td>2943700</td>\n",
       "    </tr>\n",
       "    <tr>\n",
       "      <th>South</th>\n",
       "      <td>2018129</td>\n",
       "      <td>554057</td>\n",
       "      <td>5556900</td>\n",
       "    </tr>\n",
       "    <tr>\n",
       "      <th>West</th>\n",
       "      <td>1566361</td>\n",
       "      <td>405571</td>\n",
       "      <td>4286832</td>\n",
       "    </tr>\n",
       "  </tbody>\n",
       "</table>\n",
       "</div>"
      ],
      "text/plain": [
       "Income_flag  Higher Income  Lower Income  Middle Income\n",
       "Region                                                 \n",
       "Mideast            1456024        370703        3885029\n",
       "Northeast          1083488        288083        2943700\n",
       "South              2018129        554057        5556900\n",
       "West               1566361        405571        4286832"
      ]
     },
     "execution_count": 115,
     "metadata": {},
     "output_type": "execute_result"
    }
   ],
   "source": [
    "crosstab_income_region"
   ]
  },
  {
   "cell_type": "code",
   "execution_count": 172,
   "id": "eca3f315",
   "metadata": {},
   "outputs": [
    {
     "data": {
      "image/png": "[encoded data removed]",
      "text/plain": [
       "<Figure size 432x288 with 1 Axes>"
      ]
     },
     "metadata": {
      "needs_background": "light"
     },
     "output_type": "display_data"
    }
   ],
   "source": [
    "# Stacked bar plot for income department\n",
    "income_region_stacked_bar = crosstab_income_region.plot.bar(stacked= True,color= sns.color_palette('YlGnBu_r',3),ylabel='Orders', title = 'Income level and Region Relationship')\n",
    "plt.tight_layout()"
   ]
  },
  {
   "cell_type": "code",
   "execution_count": 173,
   "id": "a635bd12",
   "metadata": {},
   "outputs": [],
   "source": [
    "# Exporting bar chart\n",
    "income_region_stacked_bar.figure.savefig(os.path.join(path, 'chapter4','Visualization', 'income_region_stacked_bar.png'))"
   ]
  },
  {
   "cell_type": "markdown",
   "id": "4e688fd2",
   "metadata": {},
   "source": [
    "## Alcohol drinkers profile with department and region\n"
   ]
  },
  {
   "cell_type": "code",
   "execution_count": 118,
   "id": "7ca92667",
   "metadata": {},
   "outputs": [],
   "source": [
    "# Alcohol drinkers status by department\n",
    "crosstab_alcohol_dept = pd.crosstab(df_customer_profile['department_id'],df_customer_profile['Alcohol Drinker'], dropna=False )\n"
   ]
  },
  {
   "cell_type": "code",
   "execution_count": 119,
   "id": "530b66cd",
   "metadata": {},
   "outputs": [
    {
     "data": {
      "text/html": [
       "<div>\n",
       "<style scoped>\n",
       "    .dataframe tbody tr th:only-of-type {\n",
       "        vertical-align: middle;\n",
       "    }\n",
       "\n",
       "    .dataframe tbody tr th {\n",
       "        vertical-align: top;\n",
       "    }\n",
       "\n",
       "    .dataframe thead th {\n",
       "        text-align: right;\n",
       "    }\n",
       "</style>\n",
       "<table border=\"1\" class=\"dataframe\">\n",
       "  <thead>\n",
       "    <tr style=\"text-align: right;\">\n",
       "      <th>Alcohol Drinker</th>\n",
       "      <th>Alcohol Drinker</th>\n",
       "      <th>Not Alcohol Drinker</th>\n",
       "    </tr>\n",
       "    <tr>\n",
       "      <th>department_id</th>\n",
       "      <th></th>\n",
       "      <th></th>\n",
       "    </tr>\n",
       "  </thead>\n",
       "  <tbody>\n",
       "    <tr>\n",
       "      <th>1</th>\n",
       "      <td>109212</td>\n",
       "      <td>1518402</td>\n",
       "    </tr>\n",
       "    <tr>\n",
       "      <th>2</th>\n",
       "      <td>4618</td>\n",
       "      <td>22548</td>\n",
       "    </tr>\n",
       "    <tr>\n",
       "      <th>3</th>\n",
       "      <td>74727</td>\n",
       "      <td>808603</td>\n",
       "    </tr>\n",
       "    <tr>\n",
       "      <th>4</th>\n",
       "      <td>293108</td>\n",
       "      <td>6933983</td>\n",
       "    </tr>\n",
       "    <tr>\n",
       "      <th>5</th>\n",
       "      <td>107972</td>\n",
       "      <td>0</td>\n",
       "    </tr>\n",
       "    <tr>\n",
       "      <th>6</th>\n",
       "      <td>14550</td>\n",
       "      <td>183350</td>\n",
       "    </tr>\n",
       "    <tr>\n",
       "      <th>7</th>\n",
       "      <td>180859</td>\n",
       "      <td>1855588</td>\n",
       "    </tr>\n",
       "    <tr>\n",
       "      <th>8</th>\n",
       "      <td>12780</td>\n",
       "      <td>59331</td>\n",
       "    </tr>\n",
       "    <tr>\n",
       "      <th>9</th>\n",
       "      <td>43777</td>\n",
       "      <td>589948</td>\n",
       "    </tr>\n",
       "    <tr>\n",
       "      <th>10</th>\n",
       "      <td>371</td>\n",
       "      <td>27187</td>\n",
       "    </tr>\n",
       "    <tr>\n",
       "      <th>11</th>\n",
       "      <td>26642</td>\n",
       "      <td>301838</td>\n",
       "    </tr>\n",
       "    <tr>\n",
       "      <th>12</th>\n",
       "      <td>36112</td>\n",
       "      <td>487778</td>\n",
       "    </tr>\n",
       "    <tr>\n",
       "      <th>13</th>\n",
       "      <td>105846</td>\n",
       "      <td>1279529</td>\n",
       "    </tr>\n",
       "    <tr>\n",
       "      <th>14</th>\n",
       "      <td>36902</td>\n",
       "      <td>488043</td>\n",
       "    </tr>\n",
       "    <tr>\n",
       "      <th>15</th>\n",
       "      <td>54261</td>\n",
       "      <td>733529</td>\n",
       "    </tr>\n",
       "    <tr>\n",
       "      <th>16</th>\n",
       "      <td>251244</td>\n",
       "      <td>3869244</td>\n",
       "    </tr>\n",
       "    <tr>\n",
       "      <th>17</th>\n",
       "      <td>71601</td>\n",
       "      <td>467748</td>\n",
       "    </tr>\n",
       "    <tr>\n",
       "      <th>18</th>\n",
       "      <td>10520</td>\n",
       "      <td>325427</td>\n",
       "    </tr>\n",
       "    <tr>\n",
       "      <th>19</th>\n",
       "      <td>153380</td>\n",
       "      <td>2033741</td>\n",
       "    </tr>\n",
       "    <tr>\n",
       "      <th>20</th>\n",
       "      <td>44043</td>\n",
       "      <td>738968</td>\n",
       "    </tr>\n",
       "    <tr>\n",
       "      <th>21</th>\n",
       "      <td>2292</td>\n",
       "      <td>55275</td>\n",
       "    </tr>\n",
       "  </tbody>\n",
       "</table>\n",
       "</div>"
      ],
      "text/plain": [
       "Alcohol Drinker  Alcohol Drinker  Not Alcohol Drinker\n",
       "department_id                                        \n",
       "1                         109212              1518402\n",
       "2                           4618                22548\n",
       "3                          74727               808603\n",
       "4                         293108              6933983\n",
       "5                         107972                    0\n",
       "6                          14550               183350\n",
       "7                         180859              1855588\n",
       "8                          12780                59331\n",
       "9                          43777               589948\n",
       "10                           371                27187\n",
       "11                         26642               301838\n",
       "12                         36112               487778\n",
       "13                        105846              1279529\n",
       "14                         36902               488043\n",
       "15                         54261               733529\n",
       "16                        251244              3869244\n",
       "17                         71601               467748\n",
       "18                         10520               325427\n",
       "19                        153380              2033741\n",
       "20                         44043               738968\n",
       "21                          2292                55275"
      ]
     },
     "execution_count": 119,
     "metadata": {},
     "output_type": "execute_result"
    }
   ],
   "source": [
    "crosstab_alcohol_dept"
   ]
  },
  {
   "cell_type": "code",
   "execution_count": 120,
   "id": "09246273",
   "metadata": {},
   "outputs": [
    {
     "data": {
      "image/png": "[encoded data removed]",
      "text/plain": [
       "<Figure size 432x288 with 1 Axes>"
      ]
     },
     "metadata": {
      "needs_background": "light"
     },
     "output_type": "display_data"
    }
   ],
   "source": [
    "# Stacked bar plot for alcohol drinker department\n",
    "alcohol_dept_stacked_bar = crosstab_alcohol_dept.plot.bar(stacked= True, ylabel = 'Orders',title = 'Alcohol drinkers and Department Relationship')"
   ]
  },
  {
   "cell_type": "code",
   "execution_count": 121,
   "id": "8ffa39ab",
   "metadata": {},
   "outputs": [],
   "source": [
    "# Exporting bar chart\n",
    "alcohol_dept_stacked_bar.figure.savefig(os.path.join(path, 'chapter4','Visualization', 'alcohol_dept_stacked_bar.png'))\n"
   ]
  },
  {
   "cell_type": "code",
   "execution_count": 122,
   "id": "8f34a80d",
   "metadata": {},
   "outputs": [],
   "source": [
    "# Alcohol drinker status by region\n",
    "crosstab_alcohol_region = pd.crosstab(df_customer_profile['Region'],df_customer_profile['Alcohol Drinker'], dropna=False )\n"
   ]
  },
  {
   "cell_type": "code",
   "execution_count": 123,
   "id": "3d11be17",
   "metadata": {},
   "outputs": [
    {
     "data": {
      "text/html": [
       "<div>\n",
       "<style scoped>\n",
       "    .dataframe tbody tr th:only-of-type {\n",
       "        vertical-align: middle;\n",
       "    }\n",
       "\n",
       "    .dataframe tbody tr th {\n",
       "        vertical-align: top;\n",
       "    }\n",
       "\n",
       "    .dataframe thead th {\n",
       "        text-align: right;\n",
       "    }\n",
       "</style>\n",
       "<table border=\"1\" class=\"dataframe\">\n",
       "  <thead>\n",
       "    <tr style=\"text-align: right;\">\n",
       "      <th>Alcohol Drinker</th>\n",
       "      <th>Alcohol Drinker</th>\n",
       "      <th>Not Alcohol Drinker</th>\n",
       "    </tr>\n",
       "    <tr>\n",
       "      <th>Region</th>\n",
       "      <th></th>\n",
       "      <th></th>\n",
       "    </tr>\n",
       "  </thead>\n",
       "  <tbody>\n",
       "    <tr>\n",
       "      <th>Mideast</th>\n",
       "      <td>377761</td>\n",
       "      <td>5333995</td>\n",
       "    </tr>\n",
       "    <tr>\n",
       "      <th>Northeast</th>\n",
       "      <td>273088</td>\n",
       "      <td>4042183</td>\n",
       "    </tr>\n",
       "    <tr>\n",
       "      <th>South</th>\n",
       "      <td>559573</td>\n",
       "      <td>7569513</td>\n",
       "    </tr>\n",
       "    <tr>\n",
       "      <th>West</th>\n",
       "      <td>424395</td>\n",
       "      <td>5834369</td>\n",
       "    </tr>\n",
       "  </tbody>\n",
       "</table>\n",
       "</div>"
      ],
      "text/plain": [
       "Alcohol Drinker  Alcohol Drinker  Not Alcohol Drinker\n",
       "Region                                               \n",
       "Mideast                   377761              5333995\n",
       "Northeast                 273088              4042183\n",
       "South                     559573              7569513\n",
       "West                      424395              5834369"
      ]
     },
     "execution_count": 123,
     "metadata": {},
     "output_type": "execute_result"
    }
   ],
   "source": [
    "crosstab_alcohol_region"
   ]
  },
  {
   "cell_type": "code",
   "execution_count": 176,
   "id": "d3b1ee64",
   "metadata": {},
   "outputs": [
    {
     "data": {
      "image/png": "[encoded data removed]",
      "text/plain": [
       "<Figure size 432x288 with 1 Axes>"
      ]
     },
     "metadata": {
      "needs_background": "light"
     },
     "output_type": "display_data"
    }
   ],
   "source": [
    "# Stacked bar plot for alcohol drinker region\n",
    "alcohol_region_stacked_bar = crosstab_alcohol_region.plot.bar(stacked= True, ylabel = 'Orders',title = 'Alcohol drinkers and Region Relationship')\n",
    "plt.tight_layout()"
   ]
  },
  {
   "cell_type": "code",
   "execution_count": 177,
   "id": "c892b69d",
   "metadata": {},
   "outputs": [],
   "source": [
    "# Exporting bar chart\n",
    "alcohol_region_stacked_bar.figure.savefig(os.path.join(path, 'chapter4','Visualization', 'alcohol_region_stacked_bar.png'))"
   ]
  },
  {
   "cell_type": "markdown",
   "id": "ba5e60bd",
   "metadata": {},
   "source": [
    "## Baby product buyers profile with region and department"
   ]
  },
  {
   "cell_type": "code",
   "execution_count": 126,
   "id": "7957165b",
   "metadata": {},
   "outputs": [],
   "source": [
    "# Baby pdt  status by department\n",
    "crosstab_baby_dept = pd.crosstab(df_customer_profile['department_id'],df_customer_profile['Baby product flag'], dropna=False )\n"
   ]
  },
  {
   "cell_type": "code",
   "execution_count": 127,
   "id": "5d73a988",
   "metadata": {},
   "outputs": [
    {
     "data": {
      "text/html": [
       "<div>\n",
       "<style scoped>\n",
       "    .dataframe tbody tr th:only-of-type {\n",
       "        vertical-align: middle;\n",
       "    }\n",
       "\n",
       "    .dataframe tbody tr th {\n",
       "        vertical-align: top;\n",
       "    }\n",
       "\n",
       "    .dataframe thead th {\n",
       "        text-align: right;\n",
       "    }\n",
       "</style>\n",
       "<table border=\"1\" class=\"dataframe\">\n",
       "  <thead>\n",
       "    <tr style=\"text-align: right;\">\n",
       "      <th>Baby product flag</th>\n",
       "      <th>Baby product buyers</th>\n",
       "      <th>Non Baby product buyers</th>\n",
       "    </tr>\n",
       "    <tr>\n",
       "      <th>department_id</th>\n",
       "      <th></th>\n",
       "      <th></th>\n",
       "    </tr>\n",
       "  </thead>\n",
       "  <tbody>\n",
       "    <tr>\n",
       "      <th>1</th>\n",
       "      <td>530363</td>\n",
       "      <td>1097251</td>\n",
       "    </tr>\n",
       "    <tr>\n",
       "      <th>2</th>\n",
       "      <td>8964</td>\n",
       "      <td>18202</td>\n",
       "    </tr>\n",
       "    <tr>\n",
       "      <th>3</th>\n",
       "      <td>290303</td>\n",
       "      <td>593027</td>\n",
       "    </tr>\n",
       "    <tr>\n",
       "      <th>4</th>\n",
       "      <td>2249054</td>\n",
       "      <td>4978037</td>\n",
       "    </tr>\n",
       "    <tr>\n",
       "      <th>5</th>\n",
       "      <td>15903</td>\n",
       "      <td>92069</td>\n",
       "    </tr>\n",
       "    <tr>\n",
       "      <th>6</th>\n",
       "      <td>59661</td>\n",
       "      <td>138239</td>\n",
       "    </tr>\n",
       "    <tr>\n",
       "      <th>7</th>\n",
       "      <td>516211</td>\n",
       "      <td>1520236</td>\n",
       "    </tr>\n",
       "    <tr>\n",
       "      <th>8</th>\n",
       "      <td>18240</td>\n",
       "      <td>53871</td>\n",
       "    </tr>\n",
       "    <tr>\n",
       "      <th>9</th>\n",
       "      <td>229047</td>\n",
       "      <td>404678</td>\n",
       "    </tr>\n",
       "    <tr>\n",
       "      <th>10</th>\n",
       "      <td>8052</td>\n",
       "      <td>19506</td>\n",
       "    </tr>\n",
       "    <tr>\n",
       "      <th>11</th>\n",
       "      <td>108635</td>\n",
       "      <td>219845</td>\n",
       "    </tr>\n",
       "    <tr>\n",
       "      <th>12</th>\n",
       "      <td>167399</td>\n",
       "      <td>356491</td>\n",
       "    </tr>\n",
       "    <tr>\n",
       "      <th>13</th>\n",
       "      <td>414660</td>\n",
       "      <td>970715</td>\n",
       "    </tr>\n",
       "    <tr>\n",
       "      <th>14</th>\n",
       "      <td>165098</td>\n",
       "      <td>359847</td>\n",
       "    </tr>\n",
       "    <tr>\n",
       "      <th>15</th>\n",
       "      <td>252289</td>\n",
       "      <td>535501</td>\n",
       "    </tr>\n",
       "    <tr>\n",
       "      <th>16</th>\n",
       "      <td>1382269</td>\n",
       "      <td>2738219</td>\n",
       "    </tr>\n",
       "    <tr>\n",
       "      <th>17</th>\n",
       "      <td>173023</td>\n",
       "      <td>366326</td>\n",
       "    </tr>\n",
       "    <tr>\n",
       "      <th>18</th>\n",
       "      <td>335947</td>\n",
       "      <td>0</td>\n",
       "    </tr>\n",
       "    <tr>\n",
       "      <th>19</th>\n",
       "      <td>636629</td>\n",
       "      <td>1550492</td>\n",
       "    </tr>\n",
       "    <tr>\n",
       "      <th>20</th>\n",
       "      <td>240573</td>\n",
       "      <td>542438</td>\n",
       "    </tr>\n",
       "    <tr>\n",
       "      <th>21</th>\n",
       "      <td>17873</td>\n",
       "      <td>39694</td>\n",
       "    </tr>\n",
       "  </tbody>\n",
       "</table>\n",
       "</div>"
      ],
      "text/plain": [
       "Baby product flag  Baby product buyers  Non Baby product buyers\n",
       "department_id                                                  \n",
       "1                               530363                  1097251\n",
       "2                                 8964                    18202\n",
       "3                               290303                   593027\n",
       "4                              2249054                  4978037\n",
       "5                                15903                    92069\n",
       "6                                59661                   138239\n",
       "7                               516211                  1520236\n",
       "8                                18240                    53871\n",
       "9                               229047                   404678\n",
       "10                                8052                    19506\n",
       "11                              108635                   219845\n",
       "12                              167399                   356491\n",
       "13                              414660                   970715\n",
       "14                              165098                   359847\n",
       "15                              252289                   535501\n",
       "16                             1382269                  2738219\n",
       "17                              173023                   366326\n",
       "18                              335947                        0\n",
       "19                              636629                  1550492\n",
       "20                              240573                   542438\n",
       "21                               17873                    39694"
      ]
     },
     "execution_count": 127,
     "metadata": {},
     "output_type": "execute_result"
    }
   ],
   "source": [
    "crosstab_baby_dept"
   ]
  },
  {
   "cell_type": "code",
   "execution_count": 128,
   "id": "c1786f74",
   "metadata": {},
   "outputs": [
    {
     "data": {
      "image/png": "[encoded data removed]",
      "text/plain": [
       "<Figure size 432x288 with 1 Axes>"
      ]
     },
     "metadata": {
      "needs_background": "light"
     },
     "output_type": "display_data"
    }
   ],
   "source": [
    "# Stacked bar plot for alcohol drinker department\n",
    "baby_dept_stacked_bar = crosstab_baby_dept.plot.bar(stacked= True,ylabel='Orders', title = 'Baby product buyers and Department Relationship')"
   ]
  },
  {
   "cell_type": "code",
   "execution_count": 129,
   "id": "3f221562",
   "metadata": {},
   "outputs": [],
   "source": [
    "# Exporting bar chart\n",
    "baby_dept_stacked_bar.figure.savefig(os.path.join(path, 'chapter4','Visualization', 'baby_dept_stacked_bar.png'))\n"
   ]
  },
  {
   "cell_type": "code",
   "execution_count": 130,
   "id": "590a046e",
   "metadata": {},
   "outputs": [],
   "source": [
    "# Baby pdt  status by region\n",
    "crosstab_baby_region = pd.crosstab(df_customer_profile['Region'],df_customer_profile['Baby product flag'], dropna=False )\n"
   ]
  },
  {
   "cell_type": "code",
   "execution_count": 131,
   "id": "4aad6851",
   "metadata": {},
   "outputs": [
    {
     "data": {
      "text/html": [
       "<div>\n",
       "<style scoped>\n",
       "    .dataframe tbody tr th:only-of-type {\n",
       "        vertical-align: middle;\n",
       "    }\n",
       "\n",
       "    .dataframe tbody tr th {\n",
       "        vertical-align: top;\n",
       "    }\n",
       "\n",
       "    .dataframe thead th {\n",
       "        text-align: right;\n",
       "    }\n",
       "</style>\n",
       "<table border=\"1\" class=\"dataframe\">\n",
       "  <thead>\n",
       "    <tr style=\"text-align: right;\">\n",
       "      <th>Baby product flag</th>\n",
       "      <th>Baby product buyers</th>\n",
       "      <th>Non Baby product buyers</th>\n",
       "    </tr>\n",
       "    <tr>\n",
       "      <th>Region</th>\n",
       "      <th></th>\n",
       "      <th></th>\n",
       "    </tr>\n",
       "  </thead>\n",
       "  <tbody>\n",
       "    <tr>\n",
       "      <th>Mideast</th>\n",
       "      <td>1833870</td>\n",
       "      <td>3877886</td>\n",
       "    </tr>\n",
       "    <tr>\n",
       "      <th>Northeast</th>\n",
       "      <td>1399291</td>\n",
       "      <td>2915980</td>\n",
       "    </tr>\n",
       "    <tr>\n",
       "      <th>South</th>\n",
       "      <td>2609885</td>\n",
       "      <td>5519201</td>\n",
       "    </tr>\n",
       "    <tr>\n",
       "      <th>West</th>\n",
       "      <td>1977147</td>\n",
       "      <td>4281617</td>\n",
       "    </tr>\n",
       "  </tbody>\n",
       "</table>\n",
       "</div>"
      ],
      "text/plain": [
       "Baby product flag  Baby product buyers  Non Baby product buyers\n",
       "Region                                                         \n",
       "Mideast                        1833870                  3877886\n",
       "Northeast                      1399291                  2915980\n",
       "South                          2609885                  5519201\n",
       "West                           1977147                  4281617"
      ]
     },
     "execution_count": 131,
     "metadata": {},
     "output_type": "execute_result"
    }
   ],
   "source": [
    "crosstab_baby_region"
   ]
  },
  {
   "cell_type": "code",
   "execution_count": 174,
   "id": "e8669141",
   "metadata": {},
   "outputs": [
    {
     "data": {
      "image/png": "[encoded data removed]",
      "text/plain": [
       "<Figure size 432x288 with 1 Axes>"
      ]
     },
     "metadata": {
      "needs_background": "light"
     },
     "output_type": "display_data"
    }
   ],
   "source": [
    "# Stacked bar plot for baby product region\n",
    "baby_region_stacked_bar = crosstab_baby_region.plot.bar(stacked= True,ylabel='Orders', title = 'Baby product buyers and Region Relationship')\n",
    "plt.tight_layout()"
   ]
  },
  {
   "cell_type": "code",
   "execution_count": 175,
   "id": "2ab6b377",
   "metadata": {},
   "outputs": [],
   "source": [
    "# Exporting bar chart\n",
    "baby_region_stacked_bar.figure.savefig(os.path.join(path, 'chapter4','Visualization', 'baby_region_stacked_bar.png'))\n"
   ]
  },
  {
   "cell_type": "code",
   "execution_count": 186,
   "id": "a403ce5b",
   "metadata": {},
   "outputs": [],
   "source": [
    "crosstab_generation_order_habit = pd.crosstab(df_final_data['Generation_flag'],df_final_data['order_hour_of_day'], dropna=False)"
   ]
  },
  {
   "cell_type": "code",
   "execution_count": 187,
   "id": "f0c74778",
   "metadata": {},
   "outputs": [
    {
     "data": {
      "text/html": [
       "<div>\n",
       "<style scoped>\n",
       "    .dataframe tbody tr th:only-of-type {\n",
       "        vertical-align: middle;\n",
       "    }\n",
       "\n",
       "    .dataframe tbody tr th {\n",
       "        vertical-align: top;\n",
       "    }\n",
       "\n",
       "    .dataframe thead th {\n",
       "        text-align: right;\n",
       "    }\n",
       "</style>\n",
       "<table border=\"1\" class=\"dataframe\">\n",
       "  <thead>\n",
       "    <tr style=\"text-align: right;\">\n",
       "      <th>order_hour_of_day</th>\n",
       "      <th>0</th>\n",
       "      <th>1</th>\n",
       "      <th>2</th>\n",
       "      <th>3</th>\n",
       "      <th>4</th>\n",
       "      <th>5</th>\n",
       "      <th>6</th>\n",
       "      <th>7</th>\n",
       "      <th>8</th>\n",
       "      <th>9</th>\n",
       "      <th>...</th>\n",
       "      <th>14</th>\n",
       "      <th>15</th>\n",
       "      <th>16</th>\n",
       "      <th>17</th>\n",
       "      <th>18</th>\n",
       "      <th>19</th>\n",
       "      <th>20</th>\n",
       "      <th>21</th>\n",
       "      <th>22</th>\n",
       "      <th>23</th>\n",
       "    </tr>\n",
       "    <tr>\n",
       "      <th>Generation_flag</th>\n",
       "      <th></th>\n",
       "      <th></th>\n",
       "      <th></th>\n",
       "      <th></th>\n",
       "      <th></th>\n",
       "      <th></th>\n",
       "      <th></th>\n",
       "      <th></th>\n",
       "      <th></th>\n",
       "      <th></th>\n",
       "      <th></th>\n",
       "      <th></th>\n",
       "      <th></th>\n",
       "      <th></th>\n",
       "      <th></th>\n",
       "      <th></th>\n",
       "      <th></th>\n",
       "      <th></th>\n",
       "      <th></th>\n",
       "      <th></th>\n",
       "      <th></th>\n",
       "    </tr>\n",
       "  </thead>\n",
       "  <tbody>\n",
       "    <tr>\n",
       "      <th>Mid-Age Customers</th>\n",
       "      <td>63894</td>\n",
       "      <td>33248</td>\n",
       "      <td>18609</td>\n",
       "      <td>13963</td>\n",
       "      <td>14460</td>\n",
       "      <td>26149</td>\n",
       "      <td>87519</td>\n",
       "      <td>272332</td>\n",
       "      <td>530716</td>\n",
       "      <td>749656</td>\n",
       "      <td>...</td>\n",
       "      <td>791362</td>\n",
       "      <td>779578</td>\n",
       "      <td>733443</td>\n",
       "      <td>605881</td>\n",
       "      <td>472580</td>\n",
       "      <td>357968</td>\n",
       "      <td>285130</td>\n",
       "      <td>238694</td>\n",
       "      <td>188841</td>\n",
       "      <td>120670</td>\n",
       "    </tr>\n",
       "    <tr>\n",
       "      <th>Old-Age customers</th>\n",
       "      <td>52745</td>\n",
       "      <td>27484</td>\n",
       "      <td>17055</td>\n",
       "      <td>13099</td>\n",
       "      <td>14282</td>\n",
       "      <td>23766</td>\n",
       "      <td>77738</td>\n",
       "      <td>243948</td>\n",
       "      <td>463559</td>\n",
       "      <td>649081</td>\n",
       "      <td>...</td>\n",
       "      <td>688798</td>\n",
       "      <td>674385</td>\n",
       "      <td>643446</td>\n",
       "      <td>524354</td>\n",
       "      <td>408756</td>\n",
       "      <td>318231</td>\n",
       "      <td>247027</td>\n",
       "      <td>205372</td>\n",
       "      <td>161740</td>\n",
       "      <td>101890</td>\n",
       "    </tr>\n",
       "    <tr>\n",
       "      <th>Young customers</th>\n",
       "      <td>43894</td>\n",
       "      <td>22620</td>\n",
       "      <td>14361</td>\n",
       "      <td>10231</td>\n",
       "      <td>10918</td>\n",
       "      <td>18041</td>\n",
       "      <td>62724</td>\n",
       "      <td>188527</td>\n",
       "      <td>355565</td>\n",
       "      <td>510278</td>\n",
       "      <td>...</td>\n",
       "      <td>538094</td>\n",
       "      <td>534094</td>\n",
       "      <td>503114</td>\n",
       "      <td>403596</td>\n",
       "      <td>311354</td>\n",
       "      <td>243043</td>\n",
       "      <td>192823</td>\n",
       "      <td>157312</td>\n",
       "      <td>126439</td>\n",
       "      <td>77721</td>\n",
       "    </tr>\n",
       "  </tbody>\n",
       "</table>\n",
       "<p>3 rows × 24 columns</p>\n",
       "</div>"
      ],
      "text/plain": [
       "order_hour_of_day     0      1      2      3      4      5      6       7   \\\n",
       "Generation_flag                                                              \n",
       "Mid-Age Customers  63894  33248  18609  13963  14460  26149  87519  272332   \n",
       "Old-Age customers  52745  27484  17055  13099  14282  23766  77738  243948   \n",
       "Young customers    43894  22620  14361  10231  10918  18041  62724  188527   \n",
       "\n",
       "order_hour_of_day      8       9   ...      14      15      16      17  \\\n",
       "Generation_flag                    ...                                   \n",
       "Mid-Age Customers  530716  749656  ...  791362  779578  733443  605881   \n",
       "Old-Age customers  463559  649081  ...  688798  674385  643446  524354   \n",
       "Young customers    355565  510278  ...  538094  534094  503114  403596   \n",
       "\n",
       "order_hour_of_day      18      19      20      21      22      23  \n",
       "Generation_flag                                                    \n",
       "Mid-Age Customers  472580  357968  285130  238694  188841  120670  \n",
       "Old-Age customers  408756  318231  247027  205372  161740  101890  \n",
       "Young customers    311354  243043  192823  157312  126439   77721  \n",
       "\n",
       "[3 rows x 24 columns]"
      ]
     },
     "execution_count": 187,
     "metadata": {},
     "output_type": "execute_result"
    }
   ],
   "source": [
    "crosstab_generation_order_habit"
   ]
  },
  {
   "cell_type": "code",
   "execution_count": null,
   "id": "adb03bdc",
   "metadata": {},
   "outputs": [],
   "source": [
    "\n"
   ]
  },
  {
   "cell_type": "code",
   "execution_count": null,
   "id": "e7aed933",
   "metadata": {},
   "outputs": [],
   "source": []
  },
  {
   "cell_type": "code",
   "execution_count": null,
   "id": "27e4295d",
   "metadata": {},
   "outputs": [],
   "source": []
  }
 ],
 "metadata": {
  "kernelspec": {
   "display_name": "Python 3",
   "language": "python",
   "name": "python3"
  },
  "language_info": {
   "codemirror_mode": {
    "name": "ipython",
    "version": 3
   },
   "file_extension": ".py",
   "mimetype": "text/x-python",
   "name": "python",
   "nbconvert_exporter": "python",
   "pygments_lexer": "ipython3",
   "version": "3.8.8"
  }
 },
 "nbformat": 4,
 "nbformat_minor": 5
}
